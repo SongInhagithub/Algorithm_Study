{
  "cells": [
    {
      "cell_type": "code",
      "execution_count": 1,
      "metadata": {
        "colab": {
          "base_uri": "https://localhost:8080/"
        },
        "id": "wMtBLH95YP_b",
        "outputId": "563b09d0-0a25-46f0-ae80-dd7d09e4fb5c"
      },
      "outputs": [
        {
          "output_type": "stream",
          "name": "stdout",
          "text": [
            "Collecting catboost\n",
            "  Downloading catboost-1.0.4-cp37-none-manylinux1_x86_64.whl (76.1 MB)\n",
            "\u001b[K     |████████████████████████████████| 76.1 MB 1.3 MB/s \n",
            "\u001b[?25hRequirement already satisfied: scipy in /usr/local/lib/python3.7/dist-packages (from catboost) (1.4.1)\n",
            "Requirement already satisfied: graphviz in /usr/local/lib/python3.7/dist-packages (from catboost) (0.10.1)\n",
            "Requirement already satisfied: numpy>=1.16.0 in /usr/local/lib/python3.7/dist-packages (from catboost) (1.19.5)\n",
            "Requirement already satisfied: matplotlib in /usr/local/lib/python3.7/dist-packages (from catboost) (3.2.2)\n",
            "Requirement already satisfied: six in /usr/local/lib/python3.7/dist-packages (from catboost) (1.15.0)\n",
            "Requirement already satisfied: plotly in /usr/local/lib/python3.7/dist-packages (from catboost) (4.4.1)\n",
            "Requirement already satisfied: pandas>=0.24.0 in /usr/local/lib/python3.7/dist-packages (from catboost) (1.1.5)\n",
            "Requirement already satisfied: python-dateutil>=2.7.3 in /usr/local/lib/python3.7/dist-packages (from pandas>=0.24.0->catboost) (2.8.2)\n",
            "Requirement already satisfied: pytz>=2017.2 in /usr/local/lib/python3.7/dist-packages (from pandas>=0.24.0->catboost) (2018.9)\n",
            "Requirement already satisfied: pyparsing!=2.0.4,!=2.1.2,!=2.1.6,>=2.0.1 in /usr/local/lib/python3.7/dist-packages (from matplotlib->catboost) (3.0.6)\n",
            "Requirement already satisfied: cycler>=0.10 in /usr/local/lib/python3.7/dist-packages (from matplotlib->catboost) (0.11.0)\n",
            "Requirement already satisfied: kiwisolver>=1.0.1 in /usr/local/lib/python3.7/dist-packages (from matplotlib->catboost) (1.3.2)\n",
            "Requirement already satisfied: retrying>=1.3.3 in /usr/local/lib/python3.7/dist-packages (from plotly->catboost) (1.3.3)\n",
            "Installing collected packages: catboost\n",
            "Successfully installed catboost-1.0.4\n"
          ]
        }
      ],
      "source": [
        "!pip install catboost"
      ]
    },
    {
      "cell_type": "code",
      "execution_count": 197,
      "metadata": {
        "id": "omvKY3B0Njbk"
      },
      "outputs": [],
      "source": [
        "import warnings\n",
        "import gc\n",
        "import os\n",
        "import random\n",
        "import sys\n",
        "import zipfile\n",
        "\n",
        "import numpy as np\n",
        "import pandas as pd\n",
        "import seaborn as sns\n",
        "import matplotlib.pyplot as plt\n",
        "\n",
        "import sklearn \n",
        "from sklearn.model_selection import StratifiedKFold , KFold\n",
        "from sklearn.metrics import f1_score \n",
        "\n",
        "from catboost import Pool,CatBoostClassifier\n",
        "\n",
        "from sklearn.model_selection import train_test_split\n",
        "from datetime import datetime\n",
        "from glob import glob\n",
        "from tqdm import tqdm\n",
        "from IPython.display import Image\n",
        "\n",
        "# 추후에 경고 값들을 출력하지 않도록 'ignore'상태로 만들어 준다.\n",
        "# 불필요한 경고창이 더 이상 출력 되지 않게 됩니다.\n",
        "warnings.filterwarnings(action = 'ignore')"
      ]
    },
    {
      "cell_type": "code",
      "execution_count": 198,
      "metadata": {
        "colab": {
          "base_uri": "https://localhost:8080/"
        },
        "id": "otYkVGLZNtvO",
        "outputId": "00515b77-cda8-4ce8-d825-79cdc1b8b1b8"
      },
      "outputs": [
        {
          "output_type": "stream",
          "name": "stdout",
          "text": [
            "Drive already mounted at /content/drive; to attempt to forcibly remount, call drive.mount(\"/content/drive\", force_remount=True).\n"
          ]
        }
      ],
      "source": [
        "from google.colab import drive\n",
        "drive.mount('/content/drive')"
      ]
    },
    {
      "cell_type": "code",
      "source": [
        "train_2017=pd.read_csv('/content/drive/MyDrive/조달청 공모전/01_24/train_2017_fin_0124.csv')\n",
        "test_2017=pd.read_csv('/content/drive/MyDrive/조달청 공모전/01_24/test_2017_fin_0124.csv')\n",
        "train_2018=pd.read_csv('/content/drive/MyDrive/조달청 공모전/01_24/train_2018_fin_0124.csv')\n",
        "test_2018=pd.read_csv('/content/drive/MyDrive/조달청 공모전/01_24/test_2018_fin_0124.csv')\n",
        "train_2019=pd.read_csv('/content/drive/MyDrive/조달청 공모전/01_24/train_2019_fin_0124.csv')\n",
        "test_2019=pd.read_csv('/content/drive/MyDrive/조달청 공모전/01_24/test_2019_fin_0124.csv')\n",
        "train_2020=pd.read_csv('/content/drive/MyDrive/조달청 공모전/01_24/train_2020_fin_0124.csv')\n",
        "test_2020=pd.read_csv('/content/drive/MyDrive/조달청 공모전/01_24/test_2020_fin_0124.csv')"
      ],
      "metadata": {
        "id": "jXy79bPr5c3B"
      },
      "execution_count": 199,
      "outputs": []
    },
    {
      "cell_type": "code",
      "source": [
        "# 학과\n",
        "trdf17=pd.read_csv('/content/drive/MyDrive/조달청 공모전/01_26/train_2017_학과수정.csv')\n",
        "tsdf17=pd.read_csv('/content/drive/MyDrive/조달청 공모전/01_26/test_2017_학과수정.csv')\n",
        "train_2017['학과']=trdf17['bq38_1']\n",
        "test_2017['학과']=tsdf17['bq38_1']\n",
        "\n",
        "trdf18=pd.read_csv('/content/drive/MyDrive/조달청 공모전/01_26/train_2018_학과수정.csv')\n",
        "tsdf18=pd.read_csv('/content/drive/MyDrive/조달청 공모전/01_26/test_2018_학과수정.csv')\n",
        "train_2018['학과']=trdf18['bq37_1']\n",
        "test_2018['학과']=tsdf18['bq37_1']\n",
        "\n",
        "trdf19=pd.read_csv('/content/drive/MyDrive/조달청 공모전/01_26/train_2019_학과수정.csv')\n",
        "tsdf19=pd.read_csv('/content/drive/MyDrive/조달청 공모전/01_26/test_2019_학과수정.csv')\n",
        "train_2019['학과']=trdf19['bq27_1']\n",
        "test_2019['학과']=tsdf19['bq27_1']\n",
        "\n",
        "trdf20=pd.read_csv('/content/drive/MyDrive/조달청 공모전/01_26/train_2020_학과수정.csv')\n",
        "tsdf20=pd.read_csv('/content/drive/MyDrive/조달청 공모전/01_26/test_2020_학과수정.csv')\n",
        "train_2020['학과']=trdf20['bq26_1']\n",
        "test_2020['학과']=tsdf20['bq26_1']"
      ],
      "metadata": {
        "id": "S4mIuD8y5vhQ"
      },
      "execution_count": 200,
      "outputs": []
    },
    {
      "cell_type": "code",
      "execution_count": 201,
      "metadata": {
        "id": "eWCvuvQX4fvQ"
      },
      "outputs": [],
      "source": [
        "# df1=pd.read_csv('C:\\\\Users\\\\User\\\\Downloads\\\\01_24-20220124T144539Z-001\\\\01_24\\\\pred17_2.csv')\n",
        "# df2=pd.read_csv('C:\\\\Users\\\\User\\\\Downloads\\\\01_24-20220124T144539Z-001\\\\01_24\\\\pred18_2.csv')\n",
        "# df3=pd.read_csv('C:\\\\Users\\\\User\\\\Downloads\\\\01_24-20220124T144539Z-001\\\\01_24\\\\pred19_2.csv')\n",
        "# df4=pd.read_csv('C:\\\\Users\\\\User\\\\Downloads\\\\01_24-20220124T144539Z-001\\\\01_24\\\\pred20_2.csv')\n",
        "# df=pd.concat([df1,df2,df3,df4], axis=0);df.columns"
      ]
    },
    {
      "cell_type": "code",
      "execution_count": null,
      "metadata": {
        "id": "ehIRqTen4fvR"
      },
      "outputs": [],
      "source": [
        "# # df=pd.concat([df1,df2,df3,df4], axis=0)\n",
        "# submission = pd.read_csv('C:\\\\Users\\\\User\\\\Downloads\\\\sample_submission.csv') # sample submission 불러오기\n",
        "# submission['knowcode'] = df['0'].values\n",
        "\n",
        "# submission.to_csv('C:\\\\Users\\\\User\\\\Downloads\\\\01_24-20220124T144539Z-001\\\\01_24\\\\submission0126_cb.csv',index=False)"
      ]
    },
    {
      "cell_type": "code",
      "execution_count": null,
      "metadata": {
        "id": "1fDSw7mXNjle"
      },
      "outputs": [],
      "source": [
        "# train_2017=pd.read_csv('C:\\\\Users\\\\User\\\\Downloads\\\\01_24-20220124T144539Z-001\\\\01_24\\\\train_2017_fin_0124.csv')\n",
        "# test_2017=pd.read_csv('C:\\\\Users\\\\User\\\\Downloads\\\\01_24-20220124T144539Z-001\\\\01_24\\\\test_2017_fin_0124.csv')\n",
        "# train_2018=pd.read_csv('C:\\\\Users\\\\User\\\\Downloads\\\\01_24-20220124T144539Z-001\\\\01_24\\\\train_2018_fin_0124.csv')\n",
        "# test_2018=pd.read_csv('C:\\\\Users\\\\User\\\\Downloads\\\\01_24-20220124T144539Z-001\\\\01_24\\\\test_2018_fin_0124.csv')\n",
        "# train_2019=pd.read_csv('C:\\\\Users\\\\User\\\\Downloads\\\\01_24-20220124T144539Z-001\\\\01_24\\\\train_2019_fin_0124.csv')\n",
        "# test_2019=pd.read_csv('C:\\\\Users\\\\User\\\\Downloads\\\\01_24-20220124T144539Z-001\\\\01_24\\\\test_2019_fin_0124.csv')\n",
        "# train_2020=pd.read_csv('C:\\\\Users\\\\User\\\\Downloads\\\\01_24-20220124T144539Z-001\\\\01_24\\\\train_2020_fin_0124.csv')\n",
        "# test_2020=pd.read_csv('C:\\\\Users\\\\User\\\\Downloads\\\\01_24-20220124T144539Z-001\\\\01_24\\\\test_2020_fin_0124.csv')"
      ]
    },
    {
      "cell_type": "code",
      "source": [
        "type_bq1 = [1,2,3,4,5,6,7,8]\n",
        "\n",
        "train_2017['업종']='type1'\n",
        "train_2017.loc[train_2017['bq1'].isin(type_bq1),'업종']='type2'\n",
        "test_2017['업종']='type1'\n",
        "test_2017.loc[test_2017['bq1'].isin(type_bq1),'업종']='type2'\n",
        "\n",
        "train_2018['업종']='type1'\n",
        "train_2018.loc[train_2018['bq1'].isin(type_bq1),'업종']='type2'\n",
        "test_2018['업종']='type1'\n",
        "test_2018.loc[test_2018['bq1'].isin(type_bq1),'업종']='type2'\n",
        "\n",
        "train_2019['업종']='type1'\n",
        "train_2019.loc[train_2019['bq1'].isin(type_bq1),'업종']='type2'\n",
        "test_2019['업종']='type1'\n",
        "test_2019.loc[test_2019['bq1'].isin(type_bq1),'업종']='type2'\n",
        "\n",
        "train_2020['업종']='type1'\n",
        "train_2020.loc[train_2020['bq1'].isin(type_bq1),'업종']='type2'\n",
        "test_2020['업종']='type1'\n",
        "test_2020.loc[test_2020['bq1'].isin(type_bq1),'업종']='type2'"
      ],
      "metadata": {
        "id": "zrlDJAk6FGsy"
      },
      "execution_count": 202,
      "outputs": []
    },
    {
      "cell_type": "code",
      "execution_count": 203,
      "metadata": {
        "id": "AuiIHF2iSs7i"
      },
      "outputs": [],
      "source": [
        "# 범주형\n",
        "train_2017[['bq1', 'bq2', 'bq39_2']] = train_2017[['bq1', 'bq2', 'bq39_2']].astype('object')\n",
        "train_2018[['bq1', 'bq2', 'bq13', 'bq15', 'bq17', 'bq18', 'bq26_1a', 'bq26_2a', 'bq26_3a', 'bq26_4a', 'bq38_1', \n",
        "      'bq38_2']] = train_2018[['bq1', 'bq2', 'bq13', 'bq15', 'bq17', 'bq18', 'bq26_1a', 'bq26_2a', 'bq26_3a', 'bq26_4a', \n",
        "                         'bq38_1', 'bq38_2']].astype('object')\n",
        "train_2019[['bq1', 'bq2', 'bq28_1', 'bq28_2']] = train_2019[['bq1', 'bq2', 'bq28_1', 'bq28_2']].astype('object')\n",
        "train_2020[['bq1', 'bq2', 'bq27_2']] = train_2020[['bq1', 'bq2', 'bq27_2']].astype('object')\n",
        "\n",
        "# 범주형\n",
        "test_2017[['bq1', 'bq2', 'bq39_2']] = test_2017[['bq1', 'bq2', 'bq39_2']].astype('object')\n",
        "test_2018[['bq1', 'bq2', 'bq13', 'bq15', 'bq17', 'bq18', 'bq26_1a', 'bq26_2a', 'bq26_3a', 'bq26_4a', 'bq38_1', \n",
        "      'bq38_2']] = test_2018[['bq1', 'bq2', 'bq13', 'bq15', 'bq17', 'bq18', 'bq26_1a', 'bq26_2a', 'bq26_3a', 'bq26_4a', \n",
        "                         'bq38_1', 'bq38_2']].astype('object')\n",
        "test_2019[['bq1', 'bq2', 'bq28_1', 'bq28_2']] = test_2019[['bq1', 'bq2', 'bq28_1', 'bq28_2']].astype(int)\n",
        "test_2019[['bq1', 'bq2', 'bq28_1', 'bq28_2']] = test_2019[['bq1', 'bq2', 'bq28_1', 'bq28_2']].astype('object')\n",
        "test_2020[['bq1', 'bq2', 'bq27_2']] = test_2020[['bq1', 'bq2', 'bq27_2']].astype('object')"
      ]
    },
    {
      "cell_type": "code",
      "execution_count": 204,
      "metadata": {
        "colab": {
          "base_uri": "https://localhost:8080/",
          "height": 206
        },
        "id": "PLMuZQPO4fvW",
        "outputId": "1874545b-a778-4cc9-fad6-f9d2122ef820"
      },
      "outputs": [
        {
          "output_type": "execute_result",
          "data": {
            "text/html": [
              "\n",
              "  <div id=\"df-88b49a4a-3829-4fdf-9faa-663d516fdc78\">\n",
              "    <div class=\"colab-df-container\">\n",
              "      <div>\n",
              "<style scoped>\n",
              "    .dataframe tbody tr th:only-of-type {\n",
              "        vertical-align: middle;\n",
              "    }\n",
              "\n",
              "    .dataframe tbody tr th {\n",
              "        vertical-align: top;\n",
              "    }\n",
              "\n",
              "    .dataframe thead th {\n",
              "        text-align: right;\n",
              "    }\n",
              "</style>\n",
              "<table border=\"1\" class=\"dataframe\">\n",
              "  <thead>\n",
              "    <tr style=\"text-align: right;\">\n",
              "      <th></th>\n",
              "      <th>bq1</th>\n",
              "      <th>bq2</th>\n",
              "      <th>bq13</th>\n",
              "      <th>bq15</th>\n",
              "      <th>bq17</th>\n",
              "      <th>bq18</th>\n",
              "      <th>bq26_1a</th>\n",
              "      <th>bq26_2a</th>\n",
              "      <th>bq26_3a</th>\n",
              "      <th>bq26_4a</th>\n",
              "      <th>bq38_1</th>\n",
              "      <th>bq38_2</th>\n",
              "    </tr>\n",
              "  </thead>\n",
              "  <tbody>\n",
              "    <tr>\n",
              "      <th>0</th>\n",
              "      <td>1</td>\n",
              "      <td>4</td>\n",
              "      <td>3</td>\n",
              "      <td>4</td>\n",
              "      <td>3</td>\n",
              "      <td>3</td>\n",
              "      <td>0</td>\n",
              "      <td>0</td>\n",
              "      <td>0</td>\n",
              "      <td>0</td>\n",
              "      <td>0</td>\n",
              "      <td>6</td>\n",
              "    </tr>\n",
              "    <tr>\n",
              "      <th>1</th>\n",
              "      <td>10</td>\n",
              "      <td>3</td>\n",
              "      <td>1</td>\n",
              "      <td>1</td>\n",
              "      <td>1</td>\n",
              "      <td>1</td>\n",
              "      <td>2</td>\n",
              "      <td>2</td>\n",
              "      <td>2</td>\n",
              "      <td>0</td>\n",
              "      <td>1</td>\n",
              "      <td>0</td>\n",
              "    </tr>\n",
              "    <tr>\n",
              "      <th>2</th>\n",
              "      <td>20</td>\n",
              "      <td>4</td>\n",
              "      <td>3</td>\n",
              "      <td>4</td>\n",
              "      <td>3</td>\n",
              "      <td>3</td>\n",
              "      <td>2</td>\n",
              "      <td>2</td>\n",
              "      <td>2</td>\n",
              "      <td>1</td>\n",
              "      <td>0</td>\n",
              "      <td>6</td>\n",
              "    </tr>\n",
              "    <tr>\n",
              "      <th>3</th>\n",
              "      <td>20</td>\n",
              "      <td>4</td>\n",
              "      <td>3</td>\n",
              "      <td>4</td>\n",
              "      <td>3</td>\n",
              "      <td>3</td>\n",
              "      <td>2</td>\n",
              "      <td>2</td>\n",
              "      <td>2</td>\n",
              "      <td>1</td>\n",
              "      <td>0</td>\n",
              "      <td>6</td>\n",
              "    </tr>\n",
              "    <tr>\n",
              "      <th>4</th>\n",
              "      <td>19</td>\n",
              "      <td>1</td>\n",
              "      <td>2</td>\n",
              "      <td>1</td>\n",
              "      <td>1</td>\n",
              "      <td>3</td>\n",
              "      <td>0</td>\n",
              "      <td>0</td>\n",
              "      <td>0</td>\n",
              "      <td>0</td>\n",
              "      <td>4</td>\n",
              "      <td>0</td>\n",
              "    </tr>\n",
              "  </tbody>\n",
              "</table>\n",
              "</div>\n",
              "      <button class=\"colab-df-convert\" onclick=\"convertToInteractive('df-88b49a4a-3829-4fdf-9faa-663d516fdc78')\"\n",
              "              title=\"Convert this dataframe to an interactive table.\"\n",
              "              style=\"display:none;\">\n",
              "        \n",
              "  <svg xmlns=\"http://www.w3.org/2000/svg\" height=\"24px\"viewBox=\"0 0 24 24\"\n",
              "       width=\"24px\">\n",
              "    <path d=\"M0 0h24v24H0V0z\" fill=\"none\"/>\n",
              "    <path d=\"M18.56 5.44l.94 2.06.94-2.06 2.06-.94-2.06-.94-.94-2.06-.94 2.06-2.06.94zm-11 1L8.5 8.5l.94-2.06 2.06-.94-2.06-.94L8.5 2.5l-.94 2.06-2.06.94zm10 10l.94 2.06.94-2.06 2.06-.94-2.06-.94-.94-2.06-.94 2.06-2.06.94z\"/><path d=\"M17.41 7.96l-1.37-1.37c-.4-.4-.92-.59-1.43-.59-.52 0-1.04.2-1.43.59L10.3 9.45l-7.72 7.72c-.78.78-.78 2.05 0 2.83L4 21.41c.39.39.9.59 1.41.59.51 0 1.02-.2 1.41-.59l7.78-7.78 2.81-2.81c.8-.78.8-2.07 0-2.86zM5.41 20L4 18.59l7.72-7.72 1.47 1.35L5.41 20z\"/>\n",
              "  </svg>\n",
              "      </button>\n",
              "      \n",
              "  <style>\n",
              "    .colab-df-container {\n",
              "      display:flex;\n",
              "      flex-wrap:wrap;\n",
              "      gap: 12px;\n",
              "    }\n",
              "\n",
              "    .colab-df-convert {\n",
              "      background-color: #E8F0FE;\n",
              "      border: none;\n",
              "      border-radius: 50%;\n",
              "      cursor: pointer;\n",
              "      display: none;\n",
              "      fill: #1967D2;\n",
              "      height: 32px;\n",
              "      padding: 0 0 0 0;\n",
              "      width: 32px;\n",
              "    }\n",
              "\n",
              "    .colab-df-convert:hover {\n",
              "      background-color: #E2EBFA;\n",
              "      box-shadow: 0px 1px 2px rgba(60, 64, 67, 0.3), 0px 1px 3px 1px rgba(60, 64, 67, 0.15);\n",
              "      fill: #174EA6;\n",
              "    }\n",
              "\n",
              "    [theme=dark] .colab-df-convert {\n",
              "      background-color: #3B4455;\n",
              "      fill: #D2E3FC;\n",
              "    }\n",
              "\n",
              "    [theme=dark] .colab-df-convert:hover {\n",
              "      background-color: #434B5C;\n",
              "      box-shadow: 0px 1px 3px 1px rgba(0, 0, 0, 0.15);\n",
              "      filter: drop-shadow(0px 1px 2px rgba(0, 0, 0, 0.3));\n",
              "      fill: #FFFFFF;\n",
              "    }\n",
              "  </style>\n",
              "\n",
              "      <script>\n",
              "        const buttonEl =\n",
              "          document.querySelector('#df-88b49a4a-3829-4fdf-9faa-663d516fdc78 button.colab-df-convert');\n",
              "        buttonEl.style.display =\n",
              "          google.colab.kernel.accessAllowed ? 'block' : 'none';\n",
              "\n",
              "        async function convertToInteractive(key) {\n",
              "          const element = document.querySelector('#df-88b49a4a-3829-4fdf-9faa-663d516fdc78');\n",
              "          const dataTable =\n",
              "            await google.colab.kernel.invokeFunction('convertToInteractive',\n",
              "                                                     [key], {});\n",
              "          if (!dataTable) return;\n",
              "\n",
              "          const docLinkHtml = 'Like what you see? Visit the ' +\n",
              "            '<a target=\"_blank\" href=https://colab.research.google.com/notebooks/data_table.ipynb>data table notebook</a>'\n",
              "            + ' to learn more about interactive tables.';\n",
              "          element.innerHTML = '';\n",
              "          dataTable['output_type'] = 'display_data';\n",
              "          await google.colab.output.renderOutput(dataTable, element);\n",
              "          const docLink = document.createElement('div');\n",
              "          docLink.innerHTML = docLinkHtml;\n",
              "          element.appendChild(docLink);\n",
              "        }\n",
              "      </script>\n",
              "    </div>\n",
              "  </div>\n",
              "  "
            ],
            "text/plain": [
              "  bq1 bq2 bq13 bq15 bq17 bq18 bq26_1a bq26_2a bq26_3a bq26_4a bq38_1 bq38_2\n",
              "0   1   4    3    4    3    3       0       0       0       0      0      6\n",
              "1  10   3    1    1    1    1       2       2       2       0      1      0\n",
              "2  20   4    3    4    3    3       2       2       2       1      0      6\n",
              "3  20   4    3    4    3    3       2       2       2       1      0      6\n",
              "4  19   1    2    1    1    3       0       0       0       0      4      0"
            ]
          },
          "metadata": {},
          "execution_count": 204
        }
      ],
      "source": [
        "test_2018[['bq1', 'bq2', 'bq13', 'bq15', 'bq17', 'bq18', 'bq26_1a', 'bq26_2a', 'bq26_3a', 'bq26_4a', 'bq38_1', \n",
        "      'bq38_2']].head()"
      ]
    },
    {
      "cell_type": "code",
      "execution_count": 205,
      "metadata": {
        "id": "FCw0w-Ebcxwx"
      },
      "outputs": [],
      "source": [
        "train_2017=train_2017.drop(['bq1','bq1_1','bq4_1a', 'bq4_1b', 'bq4_1c', 'bq5_2', 'bq19_1', 'bq30',\n",
        "       'bq31', 'bq32', 'bq33', 'bq34', 'bq38_1','bq38_2'],axis=1)\n",
        "test_2017=test_2017.drop(['bq1','bq1_1','bq4_1a', 'bq4_1b', 'bq4_1c', 'bq5_2', 'bq19_1', 'bq30',\n",
        "       'bq31', 'bq32', 'bq33', 'bq34', 'bq38_1','bq38_2'],axis=1)"
      ]
    },
    {
      "cell_type": "code",
      "execution_count": 206,
      "metadata": {
        "id": "eibwrSkCdMGS"
      },
      "outputs": [],
      "source": [
        "train_2018=train_2018.drop(['bq1','bq1_1','bq4_1a', 'bq4_1b', 'bq4_1c', 'bq5_2','bq28_1',\n",
        "       'bq29', 'bq30', 'bq31', 'bq32', 'bq33', 'bq37_1'],axis=1)\n",
        "test_2018=test_2018.drop(['bq1','bq1_1','bq4_1a', 'bq4_1b', 'bq4_1c', 'bq5_2','bq28_1',\n",
        "       'bq29', 'bq30', 'bq31', 'bq32', 'bq33', 'bq37_1'],axis=1)"
      ]
    },
    {
      "cell_type": "code",
      "source": [
        "train_2019=train_2019.drop(['bq1','bq1_1'],axis=1)\n",
        "test_2019=test_2019.drop(['bq1','bq1_1'],axis=1)"
      ],
      "metadata": {
        "id": "9hWmZts0Ir7G"
      },
      "execution_count": 207,
      "outputs": []
    },
    {
      "cell_type": "code",
      "source": [
        "train_2020=train_2020.drop(['bq1','bq1_new'],axis=1)\n",
        "test_2020=test_2020.drop(['bq1','bq1_new'],axis=1)"
      ],
      "metadata": {
        "id": "a2kfiFUcJKng"
      },
      "execution_count": 208,
      "outputs": []
    },
    {
      "cell_type": "code",
      "source": [
        "train_2017.describe(include='object')"
      ],
      "metadata": {
        "colab": {
          "base_uri": "https://localhost:8080/",
          "height": 175
        },
        "id": "S8fRsitOEovA",
        "outputId": "c753623b-1f3d-4d5b-be05-fd44d4e3a0c3"
      },
      "execution_count": 209,
      "outputs": [
        {
          "output_type": "execute_result",
          "data": {
            "text/html": [
              "\n",
              "  <div id=\"df-383da569-d2e2-460c-a946-3ae41e368f40\">\n",
              "    <div class=\"colab-df-container\">\n",
              "      <div>\n",
              "<style scoped>\n",
              "    .dataframe tbody tr th:only-of-type {\n",
              "        vertical-align: middle;\n",
              "    }\n",
              "\n",
              "    .dataframe tbody tr th {\n",
              "        vertical-align: top;\n",
              "    }\n",
              "\n",
              "    .dataframe thead th {\n",
              "        text-align: right;\n",
              "    }\n",
              "</style>\n",
              "<table border=\"1\" class=\"dataframe\">\n",
              "  <thead>\n",
              "    <tr style=\"text-align: right;\">\n",
              "      <th></th>\n",
              "      <th>bq2</th>\n",
              "      <th>bq39_2</th>\n",
              "      <th>학과</th>\n",
              "      <th>업종</th>\n",
              "    </tr>\n",
              "  </thead>\n",
              "  <tbody>\n",
              "    <tr>\n",
              "      <th>count</th>\n",
              "      <td>9486</td>\n",
              "      <td>9486</td>\n",
              "      <td>9486</td>\n",
              "      <td>9486</td>\n",
              "    </tr>\n",
              "    <tr>\n",
              "      <th>unique</th>\n",
              "      <td>6</td>\n",
              "      <td>7</td>\n",
              "      <td>104</td>\n",
              "      <td>2</td>\n",
              "    </tr>\n",
              "    <tr>\n",
              "      <th>top</th>\n",
              "      <td>1</td>\n",
              "      <td>1</td>\n",
              "      <td>자연공</td>\n",
              "      <td>type1</td>\n",
              "    </tr>\n",
              "    <tr>\n",
              "      <th>freq</th>\n",
              "      <td>6133</td>\n",
              "      <td>6913</td>\n",
              "      <td>1228</td>\n",
              "      <td>5941</td>\n",
              "    </tr>\n",
              "  </tbody>\n",
              "</table>\n",
              "</div>\n",
              "      <button class=\"colab-df-convert\" onclick=\"convertToInteractive('df-383da569-d2e2-460c-a946-3ae41e368f40')\"\n",
              "              title=\"Convert this dataframe to an interactive table.\"\n",
              "              style=\"display:none;\">\n",
              "        \n",
              "  <svg xmlns=\"http://www.w3.org/2000/svg\" height=\"24px\"viewBox=\"0 0 24 24\"\n",
              "       width=\"24px\">\n",
              "    <path d=\"M0 0h24v24H0V0z\" fill=\"none\"/>\n",
              "    <path d=\"M18.56 5.44l.94 2.06.94-2.06 2.06-.94-2.06-.94-.94-2.06-.94 2.06-2.06.94zm-11 1L8.5 8.5l.94-2.06 2.06-.94-2.06-.94L8.5 2.5l-.94 2.06-2.06.94zm10 10l.94 2.06.94-2.06 2.06-.94-2.06-.94-.94-2.06-.94 2.06-2.06.94z\"/><path d=\"M17.41 7.96l-1.37-1.37c-.4-.4-.92-.59-1.43-.59-.52 0-1.04.2-1.43.59L10.3 9.45l-7.72 7.72c-.78.78-.78 2.05 0 2.83L4 21.41c.39.39.9.59 1.41.59.51 0 1.02-.2 1.41-.59l7.78-7.78 2.81-2.81c.8-.78.8-2.07 0-2.86zM5.41 20L4 18.59l7.72-7.72 1.47 1.35L5.41 20z\"/>\n",
              "  </svg>\n",
              "      </button>\n",
              "      \n",
              "  <style>\n",
              "    .colab-df-container {\n",
              "      display:flex;\n",
              "      flex-wrap:wrap;\n",
              "      gap: 12px;\n",
              "    }\n",
              "\n",
              "    .colab-df-convert {\n",
              "      background-color: #E8F0FE;\n",
              "      border: none;\n",
              "      border-radius: 50%;\n",
              "      cursor: pointer;\n",
              "      display: none;\n",
              "      fill: #1967D2;\n",
              "      height: 32px;\n",
              "      padding: 0 0 0 0;\n",
              "      width: 32px;\n",
              "    }\n",
              "\n",
              "    .colab-df-convert:hover {\n",
              "      background-color: #E2EBFA;\n",
              "      box-shadow: 0px 1px 2px rgba(60, 64, 67, 0.3), 0px 1px 3px 1px rgba(60, 64, 67, 0.15);\n",
              "      fill: #174EA6;\n",
              "    }\n",
              "\n",
              "    [theme=dark] .colab-df-convert {\n",
              "      background-color: #3B4455;\n",
              "      fill: #D2E3FC;\n",
              "    }\n",
              "\n",
              "    [theme=dark] .colab-df-convert:hover {\n",
              "      background-color: #434B5C;\n",
              "      box-shadow: 0px 1px 3px 1px rgba(0, 0, 0, 0.15);\n",
              "      filter: drop-shadow(0px 1px 2px rgba(0, 0, 0, 0.3));\n",
              "      fill: #FFFFFF;\n",
              "    }\n",
              "  </style>\n",
              "\n",
              "      <script>\n",
              "        const buttonEl =\n",
              "          document.querySelector('#df-383da569-d2e2-460c-a946-3ae41e368f40 button.colab-df-convert');\n",
              "        buttonEl.style.display =\n",
              "          google.colab.kernel.accessAllowed ? 'block' : 'none';\n",
              "\n",
              "        async function convertToInteractive(key) {\n",
              "          const element = document.querySelector('#df-383da569-d2e2-460c-a946-3ae41e368f40');\n",
              "          const dataTable =\n",
              "            await google.colab.kernel.invokeFunction('convertToInteractive',\n",
              "                                                     [key], {});\n",
              "          if (!dataTable) return;\n",
              "\n",
              "          const docLinkHtml = 'Like what you see? Visit the ' +\n",
              "            '<a target=\"_blank\" href=https://colab.research.google.com/notebooks/data_table.ipynb>data table notebook</a>'\n",
              "            + ' to learn more about interactive tables.';\n",
              "          element.innerHTML = '';\n",
              "          dataTable['output_type'] = 'display_data';\n",
              "          await google.colab.output.renderOutput(dataTable, element);\n",
              "          const docLink = document.createElement('div');\n",
              "          docLink.innerHTML = docLinkHtml;\n",
              "          element.appendChild(docLink);\n",
              "        }\n",
              "      </script>\n",
              "    </div>\n",
              "  </div>\n",
              "  "
            ],
            "text/plain": [
              "         bq2  bq39_2    학과     업종\n",
              "count   9486    9486  9486   9486\n",
              "unique     6       7   104      2\n",
              "top        1       1   자연공  type1\n",
              "freq    6133    6913  1228   5941"
            ]
          },
          "metadata": {},
          "execution_count": 209
        }
      ]
    },
    {
      "cell_type": "code",
      "execution_count": 210,
      "metadata": {
        "id": "8WJOw0NyeImF"
      },
      "outputs": [],
      "source": [
        "cat17=['bq2', 'bq39_2', '학과','업종', 'bq41_1_cut', 'bq41_2_cut',\n",
        "       'bq41_3_cut', 'bq37_cut']\n",
        "cat18=['bq2', 'bq13', 'bq15', 'bq17', 'bq18', 'bq26_1a', 'bq26_2a',\n",
        "       'bq26_3a', 'bq26_4a', 'bq38_1', 'bq38_2', '학과','업종', 'cq50',\n",
        "       'bq41_1_cut', 'bq41_2_cut', 'bq41_3_cut', 'bq36_cut']\n",
        "cat19=['bq2', 'bq28_1', 'bq28_2', '학과','업종', 'bq30_cut', 'bq26_cut',\n",
        "       'bq31_1_cut', 'bq31_2_cut', 'bq31_3_cut']\n",
        "cat20=['bq2', 'bq27_2', '학과','업종', 'bq30_1_cut', 'bq30_2_cut',\n",
        "       'bq30_3_cut', 'bq25_cut', 'bq29_cut']"
      ]
    },
    {
      "cell_type": "code",
      "execution_count": 211,
      "metadata": {
        "id": "5Rp12Uu7Sw7n"
      },
      "outputs": [],
      "source": [
        "train_2017[['bq41_1_cut', 'bq41_2_cut', 'bq41_3_cut', 'bq37_cut']]=train_2017[['bq41_1_cut', 'bq41_2_cut', 'bq41_3_cut', 'bq37_cut']].astype('object')\n",
        "test_2017[['bq41_1_cut', 'bq41_2_cut', 'bq41_3_cut', 'bq37_cut']]=test_2017[['bq41_1_cut', 'bq41_2_cut', 'bq41_3_cut', 'bq37_cut']].astype('object')\n",
        "train_2017=train_2017.drop(['bq39_1'],axis=1)\n",
        "test_2017=test_2017.drop(['bq39_1'],axis=1)"
      ]
    },
    {
      "cell_type": "code",
      "execution_count": 212,
      "metadata": {
        "id": "--iSacA7M2p8"
      },
      "outputs": [],
      "source": [
        "train_2018[['bq41_1_cut','bq41_2_cut', 'bq41_3_cut','bq36_cut','학과']]=train_2018[['bq41_1_cut','bq41_2_cut', 'bq41_3_cut','bq36_cut','학과']].astype('object')\n",
        "test_2018[['bq41_1_cut','bq41_2_cut', 'bq41_3_cut','bq36_cut','학과']]=test_2018[['bq41_1_cut','bq41_2_cut', 'bq41_3_cut','bq36_cut','학과']].astype('object')"
      ]
    },
    {
      "cell_type": "code",
      "execution_count": 213,
      "metadata": {
        "id": "fbTPiZDZOQUR"
      },
      "outputs": [],
      "source": [
        "train_2019[['학과', 'bq30_cut', 'bq26_cut', 'bq31_1_cut', 'bq31_2_cut', 'bq31_3_cut']]=train_2019[['학과', 'bq30_cut', 'bq26_cut', 'bq31_1_cut', 'bq31_2_cut', 'bq31_3_cut']].astype('object')\n",
        "test_2019[['학과', 'bq30_cut', 'bq26_cut', 'bq31_1_cut', 'bq31_2_cut', 'bq31_3_cut']]=test_2019[['학과', 'bq30_cut', 'bq26_cut', 'bq31_1_cut', 'bq31_2_cut', 'bq31_3_cut']].astype('object')"
      ]
    },
    {
      "cell_type": "code",
      "execution_count": 214,
      "metadata": {
        "id": "W_mjDYdSP1Eu"
      },
      "outputs": [],
      "source": [
        "train_2020[['학과','bq30_1_cut', 'bq30_2_cut', 'bq30_3_cut','bq25_cut', 'bq29_cut']]=train_2020[['학과','bq30_1_cut', 'bq30_2_cut', 'bq30_3_cut','bq25_cut', 'bq29_cut']].astype('object')\n",
        "test_2020[['학과','bq30_1_cut', 'bq30_2_cut', 'bq30_3_cut','bq25_cut', 'bq29_cut']]=test_2020[['학과','bq30_1_cut', 'bq30_2_cut', 'bq30_3_cut','bq25_cut', 'bq29_cut']].astype('object')"
      ]
    },
    {
      "cell_type": "code",
      "execution_count": null,
      "metadata": {
        "id": "FF7WWEwQ4fvd"
      },
      "outputs": [],
      "source": [
        "train_2018.describe().columns.values"
      ]
    },
    {
      "cell_type": "code",
      "execution_count": 215,
      "metadata": {
        "id": "hv147sKBOYnP"
      },
      "outputs": [],
      "source": [
        "train_2017=train_2017.drop(['Unnamed: 0','idx','aq1', 'aq2',\n",
        "       'aq3', 'aq4', 'aq5', 'aq6', 'aq7', 'aq8', 'aq9', 'aq10', 'aq11',\n",
        "       'aq12', 'aq13', 'aq14', 'aq15', 'aq16', 'aq17', 'aq18', 'aq19',\n",
        "       'aq20', 'aq21', 'aq22', 'aq23', 'aq24', 'aq25', 'aq26', 'aq27',\n",
        "       'aq28', 'aq29', 'aq30', 'aq31', 'aq32', 'aq33', 'aq34', 'aq35',\n",
        "       'aq36', 'aq37', 'aq38', 'aq39', 'aq40', 'aq41'],axis=1)\n",
        "test_2017=test_2017.drop(['Unnamed: 0','idx','aq1', 'aq2',\n",
        "       'aq3', 'aq4', 'aq5', 'aq6', 'aq7', 'aq8', 'aq9', 'aq10', 'aq11',\n",
        "       'aq12', 'aq13', 'aq14', 'aq15', 'aq16', 'aq17', 'aq18', 'aq19',\n",
        "       'aq20', 'aq21', 'aq22', 'aq23', 'aq24', 'aq25', 'aq26', 'aq27',\n",
        "       'aq28', 'aq29', 'aq30', 'aq31', 'aq32', 'aq33', 'aq34', 'aq35',\n",
        "       'aq36', 'aq37', 'aq38', 'aq39', 'aq40', 'aq41'],axis=1)\n",
        "train_2018=train_2018.drop(['Unnamed: 0','idx','cq50'],axis=1)\n",
        "test_2018=test_2018.drop(['Unnamed: 0','idx','cq50'],axis=1)\n",
        "train_2019=train_2019.drop(['Unnamed: 0','kq1',\n",
        "       'kq2', 'kq3', 'kq4', 'kq5', 'kq6', 'kq7', 'kq8', 'kq9', 'kq10',\n",
        "       'kq11', 'kq12', 'kq13', 'kq14', 'kq15', 'kq16', 'kq17', 'kq18',\n",
        "       'kq19', 'kq20', 'kq21', 'kq22', 'kq23', 'kq24', 'kq25', 'kq26',\n",
        "       'kq27', 'kq28', 'kq29', 'kq30', 'kq31', 'kq32', 'kq33'],axis=1)\n",
        "test_2019=test_2019.drop(['Unnamed: 0','kq1',\n",
        "       'kq2', 'kq3', 'kq4', 'kq5', 'kq6', 'kq7', 'kq8', 'kq9', 'kq10',\n",
        "       'kq11', 'kq12', 'kq13', 'kq14', 'kq15', 'kq16', 'kq17', 'kq18',\n",
        "       'kq19', 'kq20', 'kq21', 'kq22', 'kq23', 'kq24', 'kq25', 'kq26',\n",
        "       'kq27', 'kq28', 'kq29', 'kq30', 'kq31', 'kq32', 'kq33'],axis=1)\n",
        "train_2020=train_2020.drop(['saq1', 'saq2', 'saq3',\n",
        "       'saq4', 'saq5', 'saq6', 'saq7', 'saq8', 'saq9', 'saq10', 'saq11',\n",
        "       'saq12', 'saq13', 'saq14', 'saq15', 'saq16', 'saq17', 'saq18',\n",
        "       'saq19', 'saq20', 'saq21', 'saq22', 'saq23', 'saq24', 'saq25',\n",
        "       'saq26', 'saq27', 'saq28', 'saq29', 'saq30', 'saq31', 'saq32',\n",
        "       'saq33', 'saq34', 'saq35', 'saq36', 'saq37', 'saq38', 'saq39',\n",
        "       'saq40', 'saq41', 'saq42', 'saq43', 'saq44'],axis=1)\n",
        "test_2020=test_2020.drop(['saq1', 'saq2', 'saq3',\n",
        "       'saq4', 'saq5', 'saq6', 'saq7', 'saq8', 'saq9', 'saq10', 'saq11',\n",
        "       'saq12', 'saq13', 'saq14', 'saq15', 'saq16', 'saq17', 'saq18',\n",
        "       'saq19', 'saq20', 'saq21', 'saq22', 'saq23', 'saq24', 'saq25',\n",
        "       'saq26', 'saq27', 'saq28', 'saq29', 'saq30', 'saq31', 'saq32',\n",
        "       'saq33', 'saq34', 'saq35', 'saq36', 'saq37', 'saq38', 'saq39',\n",
        "       'saq40', 'saq41', 'saq42', 'saq43', 'saq44'],axis=1)"
      ]
    },
    {
      "cell_type": "code",
      "source": [
        ""
      ],
      "metadata": {
        "id": "9qcK0_OPN-P4"
      },
      "execution_count": null,
      "outputs": []
    },
    {
      "cell_type": "code",
      "execution_count": 216,
      "metadata": {
        "id": "g4bnmbQZ4fvh"
      },
      "outputs": [],
      "source": [
        "train_2018[['cq1', 'cq2', 'cq3', 'cq4', 'cq5', 'cq6', 'cq7', 'cq8', 'cq9',\n",
        "       'cq10', 'cq11', 'cq12', 'cq13', 'cq14', 'cq15', 'cq16', 'cq17',\n",
        "       'cq18', 'cq19', 'cq20', 'cq21', 'cq22', 'cq23', 'cq24', 'cq25',\n",
        "       'cq26', 'cq27', 'cq28', 'cq29', 'cq30', 'cq31', 'cq32', 'cq33',\n",
        "       'cq34', 'cq35', 'cq36', 'cq37', 'cq38', 'cq39', 'cq40', 'cq41',\n",
        "       'cq42', 'cq43', 'cq44', 'cq45', 'cq46', 'cq47', 'cq48', 'cq49',\n",
        "       'cq50_1', 'cq50_2', 'cq50_3', 'cq50_4', 'cq50_5', 'cq50_6',\n",
        "       'cq50_7', 'cq50_8', 'iq1', 'iq2', 'iq3', 'iq4', 'iq5', 'iq6',\n",
        "       'bq3', 'bq4', 'bq5', 'bq5_1', 'bq6', 'bq7', 'bq8_1', 'bq8_2',\n",
        "       'bq8_3', 'bq9', 'bq10', 'bq11', 'bq12_1', 'bq12_2', 'bq12_3',\n",
        "       'bq12_4', 'bq12_5', 'bq14', 'bq16', 'bq19', 'bq20', 'bq21',\n",
        "       'bq221', 'bq222', 'bq223', 'bq231', 'bq232', 'bq233', 'bq234',\n",
        "       'bq235', 'bq241', 'bq242', 'bq243', 'bq244', 'bq245', 'bq25',\n",
        "       'bq25_1', 'bq26_1', 'bq26_2', 'bq26_3', 'bq26_4', 'bq27', 'bq28',\n",
        "       'bq34', 'bq35', 'bq36', 'bq37', 'bq38', 'bq39', 'bq40', 'bq41_1',\n",
        "       'bq41_2', 'bq41_3', 'bq4_1', 'bq8_sum', 'bq12_sum']]=train_2018[['cq1', 'cq2', 'cq3', 'cq4', 'cq5', 'cq6', 'cq7', 'cq8', 'cq9',\n",
        "       'cq10', 'cq11', 'cq12', 'cq13', 'cq14', 'cq15', 'cq16', 'cq17',\n",
        "       'cq18', 'cq19', 'cq20', 'cq21', 'cq22', 'cq23', 'cq24', 'cq25',\n",
        "       'cq26', 'cq27', 'cq28', 'cq29', 'cq30', 'cq31', 'cq32', 'cq33',\n",
        "       'cq34', 'cq35', 'cq36', 'cq37', 'cq38', 'cq39', 'cq40', 'cq41',\n",
        "       'cq42', 'cq43', 'cq44', 'cq45', 'cq46', 'cq47', 'cq48', 'cq49',\n",
        "       'cq50_1', 'cq50_2', 'cq50_3', 'cq50_4', 'cq50_5', 'cq50_6',\n",
        "       'cq50_7', 'cq50_8', 'iq1', 'iq2', 'iq3', 'iq4', 'iq5', 'iq6',\n",
        "       'bq3', 'bq4', 'bq5', 'bq5_1', 'bq6', 'bq7', 'bq8_1', 'bq8_2',\n",
        "       'bq8_3', 'bq9', 'bq10', 'bq11', 'bq12_1', 'bq12_2', 'bq12_3',\n",
        "       'bq12_4', 'bq12_5', 'bq14', 'bq16', 'bq19', 'bq20', 'bq21',\n",
        "       'bq221', 'bq222', 'bq223', 'bq231', 'bq232', 'bq233', 'bq234',\n",
        "       'bq235', 'bq241', 'bq242', 'bq243', 'bq244', 'bq245', 'bq25',\n",
        "       'bq25_1', 'bq26_1', 'bq26_2', 'bq26_3', 'bq26_4', 'bq27', 'bq28',\n",
        "       'bq34', 'bq35', 'bq36', 'bq37', 'bq38', 'bq39', 'bq40', 'bq41_1',\n",
        "       'bq41_2', 'bq41_3', 'bq4_1', 'bq8_sum', 'bq12_sum']].astype(int)"
      ]
    },
    {
      "cell_type": "code",
      "execution_count": 217,
      "metadata": {
        "id": "s8-jzt6M4fvh"
      },
      "outputs": [],
      "source": [
        "train_2019[['sq1', 'sq2', 'sq3', 'sq4', 'sq5', 'sq6', 'sq7', 'sq8', 'sq9',\n",
        "       'sq10', 'sq11', 'sq12', 'sq13', 'sq14', 'sq15', 'sq16', 'kq1_1',\n",
        "       'kq1_2', 'kq2_1', 'kq2_2', 'kq3_1', 'kq3_2', 'kq4_1', 'kq4_2',\n",
        "       'kq5_1', 'kq5_2', 'kq6_1', 'kq6_2', 'kq7_1', 'kq7_2', 'kq8_1',\n",
        "       'kq8_2', 'kq9_1', 'kq9_2', 'kq10_1', 'kq10_2', 'kq11_1', 'kq11_2',\n",
        "       'kq12_1', 'kq12_2', 'kq13_1', 'kq13_2', 'kq14_1', 'kq14_2',\n",
        "       'kq15_1', 'kq15_2', 'kq16_1', 'kq16_2', 'kq17_1', 'kq17_2',\n",
        "       'kq18_1', 'kq18_2', 'kq19_1', 'kq19_2', 'kq20_1', 'kq20_2',\n",
        "       'kq21_1', 'kq21_2', 'kq22_1', 'kq22_2', 'kq23_1', 'kq23_2',\n",
        "       'kq24_1', 'kq24_2', 'kq25_1', 'kq25_2', 'kq26_1', 'kq26_2',\n",
        "       'kq27_1', 'kq27_2', 'kq28_1', 'kq28_2', 'kq29_1', 'kq29_2',\n",
        "       'kq30_1', 'kq30_2', 'kq31_1', 'kq31_2', 'kq32_1', 'kq32_2',\n",
        "       'kq33_1', 'kq33_2', 'bq3', 'bq4', 'bq5', 'bq5_1', 'bq6', 'bq7',\n",
        "       'bq8_1', 'bq8_2', 'bq8_3', 'bq9', 'bq10', 'bq11', 'bq12_1',\n",
        "       'bq12_2', 'bq12_3', 'bq12_4', 'bq12_5', 'bq13_1', 'bq13_2',\n",
        "       'bq13_3', 'bq14_1', 'bq14_2', 'bq14_3', 'bq14_4', 'bq14_5', 'bq15',\n",
        "       'bq16_1', 'bq16_2', 'bq16_3', 'bq16_4', 'bq16_5', 'bq17', 'bq18_1',\n",
        "       'bq18_2', 'bq18_3', 'bq18_4', 'bq18_5', 'bq18_6', 'bq18_7',\n",
        "       'bq18_8', 'bq18_9', 'bq19', 'bq20', 'bq21_1', 'bq21_2', 'bq21_3',\n",
        "       'bq25', 'bq26', 'bq27', 'bq28', 'bq29', 'bq30', 'bq31_1', 'bq31_2',\n",
        "       'bq31_3', 'bq8_sum', 'bq12_sum', 'bq13_sum',\n",
        "       'bq14_sum', 'bq16_sum', 'bq21_sum', 'bq4_1']]=train_2019[['sq1', 'sq2', 'sq3', 'sq4', 'sq5', 'sq6', 'sq7', 'sq8', 'sq9',\n",
        "       'sq10', 'sq11', 'sq12', 'sq13', 'sq14', 'sq15', 'sq16', 'kq1_1',\n",
        "       'kq1_2', 'kq2_1', 'kq2_2', 'kq3_1', 'kq3_2', 'kq4_1', 'kq4_2',\n",
        "       'kq5_1', 'kq5_2', 'kq6_1', 'kq6_2', 'kq7_1', 'kq7_2', 'kq8_1',\n",
        "       'kq8_2', 'kq9_1', 'kq9_2', 'kq10_1', 'kq10_2', 'kq11_1', 'kq11_2',\n",
        "       'kq12_1', 'kq12_2', 'kq13_1', 'kq13_2', 'kq14_1', 'kq14_2',\n",
        "       'kq15_1', 'kq15_2', 'kq16_1', 'kq16_2', 'kq17_1', 'kq17_2',\n",
        "       'kq18_1', 'kq18_2', 'kq19_1', 'kq19_2', 'kq20_1', 'kq20_2',\n",
        "       'kq21_1', 'kq21_2', 'kq22_1', 'kq22_2', 'kq23_1', 'kq23_2',\n",
        "       'kq24_1', 'kq24_2', 'kq25_1', 'kq25_2', 'kq26_1', 'kq26_2',\n",
        "       'kq27_1', 'kq27_2', 'kq28_1', 'kq28_2', 'kq29_1', 'kq29_2',\n",
        "       'kq30_1', 'kq30_2', 'kq31_1', 'kq31_2', 'kq32_1', 'kq32_2',\n",
        "       'kq33_1', 'kq33_2', 'bq3', 'bq4', 'bq5', 'bq5_1', 'bq6', 'bq7',\n",
        "       'bq8_1', 'bq8_2', 'bq8_3', 'bq9', 'bq10', 'bq11', 'bq12_1',\n",
        "       'bq12_2', 'bq12_3', 'bq12_4', 'bq12_5', 'bq13_1', 'bq13_2',\n",
        "       'bq13_3', 'bq14_1', 'bq14_2', 'bq14_3', 'bq14_4', 'bq14_5', 'bq15',\n",
        "       'bq16_1', 'bq16_2', 'bq16_3', 'bq16_4', 'bq16_5', 'bq17', 'bq18_1',\n",
        "       'bq18_2', 'bq18_3', 'bq18_4', 'bq18_5', 'bq18_6', 'bq18_7',\n",
        "       'bq18_8', 'bq18_9', 'bq19', 'bq20', 'bq21_1', 'bq21_2', 'bq21_3',\n",
        "       'bq25', 'bq26', 'bq27', 'bq28', 'bq29', 'bq30', 'bq31_1', 'bq31_2',\n",
        "       'bq31_3', 'bq8_sum', 'bq12_sum', 'bq13_sum',\n",
        "       'bq14_sum', 'bq16_sum', 'bq21_sum', 'bq4_1']].astype(int)"
      ]
    },
    {
      "cell_type": "code",
      "execution_count": 218,
      "metadata": {
        "id": "Kxw1B0I-4fvi"
      },
      "outputs": [],
      "source": [
        "test_2020[['saq1_1', 'saq1_2', 'saq2_1', 'saq2_2', 'saq3_1', 'saq3_2',\n",
        "       'saq4_1', 'saq4_2', 'saq5_1', 'saq5_2', 'saq6_1', 'saq6_2',\n",
        "       'saq7_1', 'saq7_2', 'saq8_1', 'saq8_2', 'saq9_1', 'saq9_2',\n",
        "       'saq10_1', 'saq10_2', 'saq11_1', 'saq11_2', 'saq12_1', 'saq12_2',\n",
        "       'saq13_1', 'saq13_2', 'saq14_1', 'saq14_2', 'saq15_1', 'saq15_2',\n",
        "       'saq16_1', 'saq16_2', 'saq17_1', 'saq17_2', 'saq18_1', 'saq18_2',\n",
        "       'saq19_1', 'saq19_2', 'saq20_1', 'saq20_2', 'saq21_1', 'saq21_2',\n",
        "       'saq22_1', 'saq22_2', 'saq23_1', 'saq23_2', 'saq24_1', 'saq24_2',\n",
        "       'saq25_1', 'saq25_2', 'saq26_1', 'saq26_2', 'saq27_1', 'saq27_2',\n",
        "       'saq28_1', 'saq28_2', 'saq29_1', 'saq29_2', 'saq30_1', 'saq30_2',\n",
        "       'saq31_1', 'saq31_2', 'saq32_1', 'saq32_2', 'saq33_1', 'saq33_2',\n",
        "       'saq34_1', 'saq34_2', 'saq35_1', 'saq35_2', 'saq36_1', 'saq36_2',\n",
        "       'saq37_1', 'saq37_2', 'saq38_1', 'saq38_2', 'saq39_1', 'saq39_2',\n",
        "       'saq40_1', 'saq40_2', 'saq41_1', 'saq41_2', 'saq42_1', 'saq42_2',\n",
        "       'saq43_1', 'saq43_2', 'saq44_1', 'saq44_2', 'vq1', 'vq2', 'vq3',\n",
        "       'vq4', 'vq5', 'vq6', 'vq7', 'vq8', 'vq9', 'vq10', 'vq11', 'vq12',\n",
        "       'vq13', 'bq3', 'bq4', 'bq5', 'bq5_1', 'bq6', 'bq7', 'bq8_1',\n",
        "       'bq8_2', 'bq8_3', 'bq9', 'bq10', 'bq11', 'bq12_1', 'bq12_2',\n",
        "       'bq12_3', 'bq12_4', 'bq12_5', 'bq13_1', 'bq13_2', 'bq13_3',\n",
        "       'bq14_1', 'bq14_2', 'bq14_3', 'bq14_4', 'bq14_5', 'bq14_6',\n",
        "       'bq14_7', 'bq15', 'bq16_1', 'bq16_2', 'bq16_3', 'bq16_4', 'bq16_5',\n",
        "       'bq16_6', 'bq16_7', 'bq16_8', 'bq16_9', 'bq16_10', 'bq17',\n",
        "       'bq18_1', 'bq18_2', 'bq18_3', 'bq18_4', 'bq18_5', 'bq18_6',\n",
        "       'bq18_7', 'bq18_8', 'bq18_9', 'bq19', 'bq20', 'bq21_1', 'bq21_2',\n",
        "       'bq21_3', 'bq21_4', 'bq22_1', 'bq22_2', 'bq22_3', 'bq22_4',\n",
        "       'bq22_5', 'bq22_6', 'bq23_1', 'bq23_2', 'bq23_3', 'bq24', 'bq25',\n",
        "       'bq26', 'bq27_1', 'bq28', 'bq29', 'bq30_1', 'bq30_2', 'bq30_3',\n",
        "       'lic_freq', 'bq8_sum', 'bq12_sum', 'bq13_sum',\n",
        "       'bq14_sum']]=test_2020[['saq1_1', 'saq1_2', 'saq2_1', 'saq2_2', 'saq3_1', 'saq3_2',\n",
        "       'saq4_1', 'saq4_2', 'saq5_1', 'saq5_2', 'saq6_1', 'saq6_2',\n",
        "       'saq7_1', 'saq7_2', 'saq8_1', 'saq8_2', 'saq9_1', 'saq9_2',\n",
        "       'saq10_1', 'saq10_2', 'saq11_1', 'saq11_2', 'saq12_1', 'saq12_2',\n",
        "       'saq13_1', 'saq13_2', 'saq14_1', 'saq14_2', 'saq15_1', 'saq15_2',\n",
        "       'saq16_1', 'saq16_2', 'saq17_1', 'saq17_2', 'saq18_1', 'saq18_2',\n",
        "       'saq19_1', 'saq19_2', 'saq20_1', 'saq20_2', 'saq21_1', 'saq21_2',\n",
        "       'saq22_1', 'saq22_2', 'saq23_1', 'saq23_2', 'saq24_1', 'saq24_2',\n",
        "       'saq25_1', 'saq25_2', 'saq26_1', 'saq26_2', 'saq27_1', 'saq27_2',\n",
        "       'saq28_1', 'saq28_2', 'saq29_1', 'saq29_2', 'saq30_1', 'saq30_2',\n",
        "       'saq31_1', 'saq31_2', 'saq32_1', 'saq32_2', 'saq33_1', 'saq33_2',\n",
        "       'saq34_1', 'saq34_2', 'saq35_1', 'saq35_2', 'saq36_1', 'saq36_2',\n",
        "       'saq37_1', 'saq37_2', 'saq38_1', 'saq38_2', 'saq39_1', 'saq39_2',\n",
        "       'saq40_1', 'saq40_2', 'saq41_1', 'saq41_2', 'saq42_1', 'saq42_2',\n",
        "       'saq43_1', 'saq43_2', 'saq44_1', 'saq44_2', 'vq1', 'vq2', 'vq3',\n",
        "       'vq4', 'vq5', 'vq6', 'vq7', 'vq8', 'vq9', 'vq10', 'vq11', 'vq12',\n",
        "       'vq13', 'bq3', 'bq4', 'bq5', 'bq5_1', 'bq6', 'bq7', 'bq8_1',\n",
        "       'bq8_2', 'bq8_3', 'bq9', 'bq10', 'bq11', 'bq12_1', 'bq12_2',\n",
        "       'bq12_3', 'bq12_4', 'bq12_5', 'bq13_1', 'bq13_2', 'bq13_3',\n",
        "       'bq14_1', 'bq14_2', 'bq14_3', 'bq14_4', 'bq14_5', 'bq14_6',\n",
        "       'bq14_7', 'bq15', 'bq16_1', 'bq16_2', 'bq16_3', 'bq16_4', 'bq16_5',\n",
        "       'bq16_6', 'bq16_7', 'bq16_8', 'bq16_9', 'bq16_10', 'bq17',\n",
        "       'bq18_1', 'bq18_2', 'bq18_3', 'bq18_4', 'bq18_5', 'bq18_6',\n",
        "       'bq18_7', 'bq18_8', 'bq18_9', 'bq19', 'bq20', 'bq21_1', 'bq21_2',\n",
        "       'bq21_3', 'bq21_4', 'bq22_1', 'bq22_2', 'bq22_3', 'bq22_4',\n",
        "       'bq22_5', 'bq22_6', 'bq23_1', 'bq23_2', 'bq23_3', 'bq24', 'bq25',\n",
        "       'bq26', 'bq27_1', 'bq28', 'bq29', 'bq30_1', 'bq30_2', 'bq30_3',\n",
        "       'lic_freq', 'bq8_sum', 'bq12_sum', 'bq13_sum',\n",
        "       'bq14_sum']].astype(int)"
      ]
    },
    {
      "cell_type": "markdown",
      "source": [
        "# bq1 인덱스로 나누기"
      ],
      "metadata": {
        "id": "KvzdrYHeTf0q"
      }
    },
    {
      "cell_type": "code",
      "source": [
        "train_2017['idx']=train_2017.index\n",
        "test_2017['idx']=test_2017.index\n",
        "\n",
        "train_2018['idx']=train_2018.index\n",
        "test_2018['idx']=test_2018.index\n",
        "\n",
        "train_2019['idx']=train_2019.index\n",
        "test_2019['idx']=test_2019.index\n",
        "\n",
        "train_2020['idx']=train_2020.index\n",
        "test_2020['idx']=test_2020.index"
      ],
      "metadata": {
        "id": "yGPFISqcTezB"
      },
      "execution_count": 225,
      "outputs": []
    },
    {
      "cell_type": "code",
      "source": [
        "idx_tr_17_1 = train_2017[train_2017['업종'] == 'type1']['idx'].to_list()\n",
        "idx_tr_17_2 = train_2017[train_2017['업종'] == 'type2']['idx'].to_list()\n",
        "idx_tr_18_1 = train_2018[train_2018['업종'] == 'type1']['idx'].to_list()\n",
        "idx_tr_18_2 = train_2018[train_2018['업종'] == 'type2']['idx'].to_list()\n",
        "idx_tr_19_1 = train_2019[train_2019['업종'] == 'type1']['idx'].to_list()\n",
        "idx_tr_19_2 = train_2019[train_2019['업종'] == 'type2']['idx'].to_list()\n",
        "idx_tr_20_1 = train_2020[train_2020['업종'] == 'type1']['idx'].to_list()\n",
        "idx_tr_20_2 = train_2020[train_2020['업종'] == 'type2']['idx'].to_list()\n",
        "\n",
        "idx_ts_17_1 = test_2017[test_2017['업종'] == 'type1']['idx'].to_list()\n",
        "idx_ts_17_2 = test_2017[test_2017['업종'] == 'type2']['idx'].to_list()\n",
        "idx_ts_18_1 = test_2018[test_2018['업종'] == 'type1']['idx'].to_list()\n",
        "idx_ts_18_2 = test_2018[test_2018['업종'] == 'type2']['idx'].to_list()\n",
        "idx_ts_19_1 = test_2019[test_2019['업종'] == 'type1']['idx'].to_list()\n",
        "idx_ts_19_2 = test_2019[test_2019['업종'] == 'type2']['idx'].to_list()\n",
        "idx_ts_20_1 = test_2020[test_2020['업종'] == 'type1']['idx'].to_list()\n",
        "idx_ts_20_2 = test_2020[test_2020['업종'] == 'type2']['idx'].to_list()"
      ],
      "metadata": {
        "id": "gacGhTRWTspY"
      },
      "execution_count": 245,
      "outputs": []
    },
    {
      "cell_type": "code",
      "execution_count": 254,
      "metadata": {
        "id": "vQLOxkgVfFaK"
      },
      "outputs": [],
      "source": [
        "train_2018['bq40']=train_2018['bq40'].astype(float)\n",
        "test_2018['bq40']=test_2018['bq40'].astype(float)\n",
        "\n",
        "y17=train_2017['knowcode']; X17=train_2017.drop('knowcode', axis=1, inplace=False)\n",
        "y18=train_2018['knowcode']; X18=train_2018.drop('knowcode', axis=1, inplace=False)\n",
        "y19=train_2019['knowcode']; X19=train_2019.drop('knowcode', axis=1, inplace=False)\n",
        "y20=train_2020['knowcode']; X20=train_2020.drop('knowcode', axis=1, inplace=False)\n",
        "X17=pd.get_dummies(X17)\n",
        "X19=pd.get_dummies(X19)\n",
        "X20=pd.get_dummies(X20)\n",
        "X18=pd.get_dummies(X18)\n",
        "test18=pd.get_dummies(test_2018)\n",
        "test17=pd.get_dummies(test_2017)\n",
        "test19=pd.get_dummies(test_2019)\n",
        "test20=pd.get_dummies(test_2020)\n",
        "test18=test18.drop(['bq41_3_cut_1'],axis=1)"
      ]
    },
    {
      "cell_type": "code",
      "execution_count": 255,
      "metadata": {
        "id": "utj_EvGffFaK"
      },
      "outputs": [],
      "source": [
        "cat17=['bq2', 'bq39_2', '학과','업종', 'bq41_1_cut', 'bq41_2_cut',\n",
        "       'bq41_3_cut', 'bq37_cut']\n",
        "cat18=['bq2', 'bq13', 'bq15', 'bq17', 'bq18', 'bq26_1a', 'bq26_2a',\n",
        "       'bq26_3a', 'bq26_4a', 'bq38_1', 'bq38_2', '학과','업종', 'cq50',\n",
        "       'bq41_1_cut', 'bq41_2_cut', 'bq41_3_cut', 'bq36_cut']\n",
        "cat19=['bq2', 'bq28_1', 'bq28_2', '학과','업종', 'bq30_cut', 'bq26_cut',\n",
        "       'bq31_1_cut', 'bq31_2_cut', 'bq31_3_cut']\n",
        "cat20=['bq2', 'bq27_2', '학과','업종', 'bq30_1_cut', 'bq30_2_cut',\n",
        "       'bq30_3_cut', 'bq25_cut', 'bq29_cut']"
      ]
    },
    {
      "cell_type": "code",
      "execution_count": 256,
      "metadata": {
        "id": "-KpT5yMliBdQ"
      },
      "outputs": [],
      "source": [
        "cat17_1=['bq2_1', 'bq2_2', 'bq2_3', 'bq2_4', 'bq2_5', 'bq2_6', 'bq39_2_1',\n",
        "       'bq39_2_2', 'bq39_2_3', 'bq39_2_4', 'bq39_2_5', 'bq39_2_6',\n",
        "       'bq39_2_7', '학과_간호', '학과_건축', '학과_게임', '학과_경영', '학과_경제', '학과_경찰',\n",
        "       '학과_공업', '학과_공업계', '학과_공학', '학과_광고', '학과_교통', '학과_국사', '학과_국어',\n",
        "       '학과_군사', '학과_금속', '학과_금형', '학과_금형설계', '학과_기계', '학과_기관', '학과_기타',\n",
        "       '학과_기타언어', '학과_도시', '학과_독어', '학과_동물', '학과_디자인', '학과_레크레이션',\n",
        "       '학과_모델', '학과_무역', '학과_무용', '학과_문과', '학과_문예창작', '학과_문화', '학과_물리',\n",
        "       '학과_미디어', '학과_미술', '학과_미용', '학과_방사선', '학과_번역', '학과_법', '학과_보건',\n",
        "       '학과_복지', '학과_불어', '학과_비서', '학과_사서', '학과_사진', '학과_사회', '학과_산업공',\n",
        "       '학과_생명', '학과_선박', '학과_설비', '학과_섬유', '학과_세무회계', '학과_소방', '학과_수학',\n",
        "       '학과_수학/통계', '학과_시스템', '학과_식품', '학과_심리', '학과_아동가족', '학과_안경',\n",
        "       '학과_약학', '학과_없음', '학과_에너지', '학과_연극', '학과_영어', '학과_용접', '학과_원자력공',\n",
        "       '학과_유통', '학과_음악', '학과_응급구조', '학과_의료', '학과_이과', '학과_이벤트', '학과_일어',\n",
        "       '학과_자동차', '학과_자연공', '학과_자원', '학과_재료', '학과_전기전자', '학과_전산', '학과_정보',\n",
        "       '학과_정치외교', '학과_제어계측공', '학과_조경', '학과_종교', '학과_중어', '학과_지리', '학과_철도',\n",
        "       '학과_철학', '학과_체육/스포츠', '학과_축산', '학과_치기공', '학과_치료', '학과_치위생',\n",
        "       '학과_컴퓨터공학', '학과_토목', '학과_항공', '학과_항해', '학과_해양', '학과_행정', '학과_호텔관광',\n",
        "       '학과_화학', '학과_환경', '학과_회화', '업종_type1', '업종_type2', 'bq41_1_cut_0',\n",
        "       'bq41_1_cut_1', 'bq41_1_cut_2', 'bq41_1_cut_3', 'bq41_1_cut_4',\n",
        "       'bq41_1_cut_5', 'bq41_1_cut_6', 'bq41_1_cut_7', 'bq41_1_cut_8',\n",
        "       'bq41_1_cut_9', 'bq41_2_cut_0', 'bq41_2_cut_1', 'bq41_2_cut_2',\n",
        "       'bq41_2_cut_3', 'bq41_2_cut_4', 'bq41_2_cut_5', 'bq41_2_cut_6',\n",
        "       'bq41_2_cut_7', 'bq41_2_cut_8', 'bq41_2_cut_9', 'bq41_3_cut_0',\n",
        "       'bq41_3_cut_1', 'bq41_3_cut_2', 'bq41_3_cut_3', 'bq41_3_cut_4',\n",
        "       'bq41_3_cut_5', 'bq41_3_cut_6', 'bq41_3_cut_7', 'bq41_3_cut_8',\n",
        "       'bq41_3_cut_9', 'bq37_cut_0', 'bq37_cut_1', 'bq37_cut_2',\n",
        "       'bq37_cut_3', 'bq37_cut_4', 'bq37_cut_5', 'bq37_cut_6',\n",
        "       'bq37_cut_7']\n",
        "\n",
        "cat19_1=['bq2_1', 'bq2_2', 'bq2_3', 'bq2_4', 'bq2_5', 'bq2_6', 'bq28_1_0',\n",
        "       'bq28_1_1', 'bq28_1_2', 'bq28_1_3', 'bq28_1_4', 'bq28_2_0',\n",
        "       'bq28_2_5', 'bq28_2_6', 'bq28_2_7', '학과_MBA', '학과_간호', '학과_건축',\n",
        "       '학과_게임', '학과_경영', '학과_경제', '학과_경찰', '학과_고졸', '학과_공업', '학과_공학',\n",
        "       '학과_광고', '학과_교통', '학과_국사', '학과_국어', '학과_군사', '학과_금속', '학과_금형설계',\n",
        "       '학과_기계', '학과_기관', '학과_기록관리', '학과_기타', '학과_기타언어', '학과_도시', '학과_독어',\n",
        "       '학과_동물', '학과_디자인', '학과_마술학', '학과_모델', '학과_무역', '학과_무용', '학과_문과',\n",
        "       '학과_문예창작', '학과_문화', '학과_물리', '학과_미디어', '학과_미술', '학과_미용', '학과_방사선',\n",
        "       '학과_방사선학', '학과_법', '학과_보건', '학과_복지', '학과_불어', '학과_비서', '학과_사무자동화',\n",
        "       '학과_사서', '학과_사진', '학과_사회', '학과_산업공', '학과_산업공학', '학과_생명', '학과_선박',\n",
        "       '학과_설비', '학과_섬유', '학과_세무회계', '학과_소방', '학과_수학', '학과_수학/통계',\n",
        "       '학과_시스템', '학과_식품', '학과_심리', '학과_아동가족', '학과_안경', '학과_안전공', '학과_약학',\n",
        "       '학과_어업', '학과_없음', '학과_에너지', '학과_연극', '학과_영어', '학과_용접', '학과_원자력 공',\n",
        "       '학과_원자력공', '학과_음악', '학과_응급구조', '학과_의료', '학과_이과', '학과_일어', '학과_자동차',\n",
        "       '학과_자연공', '학과_자원', '학과_재료', '학과_전기전자', '학과_전산', '학과_정보', '학과_정치외교',\n",
        "       '학과_제어계측공', '학과_조경', '학과_종교', '학과_중어', '학과_철학', '학과_체육/스포츠',\n",
        "       '학과_축산', '학과_치기공', '학과_치기공학', '학과_치료', '학과_치위생', '학과_컴퓨터공학',\n",
        "       '학과_토목', '학과_토목공학', '학과_항공', '학과_항해', '학과_해양', '학과_행정', '학과_호텔관광',\n",
        "       '학과_화학', '학과_환경', '업종_type1', '업종_type2', 'bq30_cut_0',\n",
        "       'bq30_cut_1', 'bq30_cut_2', 'bq30_cut_3', 'bq30_cut_4',\n",
        "       'bq30_cut_5', 'bq30_cut_6', 'bq30_cut_7', 'bq30_cut_8',\n",
        "       'bq26_cut_0', 'bq26_cut_1', 'bq26_cut_2', 'bq26_cut_3',\n",
        "       'bq26_cut_4', 'bq26_cut_5', 'bq26_cut_6', 'bq26_cut_7',\n",
        "       'bq31_1_cut_0', 'bq31_1_cut_1', 'bq31_1_cut_2', 'bq31_1_cut_3',\n",
        "       'bq31_1_cut_4', 'bq31_1_cut_5', 'bq31_1_cut_6', 'bq31_1_cut_7',\n",
        "       'bq31_1_cut_8', 'bq31_1_cut_9', 'bq31_2_cut_0', 'bq31_2_cut_1',\n",
        "       'bq31_2_cut_2', 'bq31_2_cut_3', 'bq31_2_cut_4', 'bq31_2_cut_5',\n",
        "       'bq31_2_cut_6', 'bq31_2_cut_7', 'bq31_2_cut_8', 'bq31_2_cut_9',\n",
        "       'bq31_3_cut_0', 'bq31_3_cut_1', 'bq31_3_cut_2', 'bq31_3_cut_3',\n",
        "       'bq31_3_cut_4', 'bq31_3_cut_5', 'bq31_3_cut_6', 'bq31_3_cut_7',\n",
        "       'bq31_3_cut_8', 'bq31_3_cut_9']\n",
        "cat20_1=['bq2_1', 'bq2_2', 'bq2_3', 'bq2_4', 'bq2_5', 'bq27_2_1',\n",
        "       'bq27_2_2', 'bq27_2_3', 'bq27_2_4', 'bq27_2_5', 'bq27_2_6',\n",
        "       'bq27_2_7', '학과_간호', '학과_건축', '학과_경영', '학과_경제', '학과_경찰', '학과_공업',\n",
        "       '학과_공학', '학과_광고', '학과_교통', '학과_국사', '학과_국어', '학과_그래픽', '학과_금속',\n",
        "       '학과_금형설계', '학과_기계', '학과_기관', '학과_기타', '학과_기타언어', '학과_도시', '학과_동물',\n",
        "       '학과_디자인', '학과_모델', '학과_무역', '학과_무용', '학과_문과', '학과_문예창작', '학과_문화',\n",
        "       '학과_물리', '학과_미디어', '학과_미술', '학과_미용', '학과_방사선', '학과_법', '학과_보건',\n",
        "       '학과_복지', '학과_비서', '학과_사서', '학과_사진', '학과_사회', '학과_산림', '학과_산업공',\n",
        "       '학과_생명', '학과_선박', '학과_설비', '학과_섬유', '학과_세무회계', '학과_소방', '학과_수학/통계',\n",
        "       '학과_스튜어디스', '학과_시스템', '학과_식품', '학과_심리', '학과_아동가족', '학과_안경',\n",
        "       '학과_안전공', '학과_약학', '학과_없음', '학과_에너지', '학과_연극', '학과_영어', '학과_용접',\n",
        "       '학과_원자력공', '학과_유통', '학과_음악', '학과_음향', '학과_응급구조', '학과_의료', '학과_이과',\n",
        "       '학과_일어', '학과_자동차', '학과_자연공', '학과_자원', '학과_장례지도', '학과_재료',\n",
        "       '학과_전기전자', '학과_전산', '학과_정보', '학과_정치외교', '학과_제어계측', '학과_제어계측공',\n",
        "       '학과_조경', '학과_조선공', '학과_종교', '학과_중어', '학과_지구', '학과_지리', '학과_지적',\n",
        "       '학과_천문', '학과_철도', '학과_철학', '학과_체육/스포츠', '학과_축산', '학과_치기공', '학과_치료',\n",
        "       '학과_치위생', '학과_컴퓨터공학', '학과_토목', '학과_항공', '학과_항해', '학과_해양', '학과_행정',\n",
        "       '학과_호텔관광', '학과_화학', '학과_환경', '학과_회화', '업종_type1', '업종_type2',\n",
        "       'bq30_1_cut_0', 'bq30_1_cut_1', 'bq30_1_cut_2', 'bq30_1_cut_3',\n",
        "       'bq30_1_cut_4', 'bq30_1_cut_5', 'bq30_1_cut_6', 'bq30_1_cut_7',\n",
        "       'bq30_1_cut_8', 'bq30_1_cut_9', 'bq30_2_cut_0', 'bq30_2_cut_1',\n",
        "       'bq30_2_cut_2', 'bq30_2_cut_3', 'bq30_2_cut_4', 'bq30_2_cut_5',\n",
        "       'bq30_2_cut_6', 'bq30_2_cut_7', 'bq30_2_cut_8', 'bq30_2_cut_9',\n",
        "       'bq30_3_cut_0', 'bq30_3_cut_1', 'bq30_3_cut_2', 'bq30_3_cut_3',\n",
        "       'bq30_3_cut_4', 'bq30_3_cut_5', 'bq30_3_cut_6', 'bq30_3_cut_7',\n",
        "       'bq30_3_cut_8', 'bq30_3_cut_9', 'bq25_cut_1', 'bq25_cut_2',\n",
        "       'bq25_cut_3', 'bq25_cut_4', 'bq25_cut_5', 'bq25_cut_6',\n",
        "       'bq25_cut_7', 'bq29_cut_0', 'bq29_cut_1', 'bq29_cut_2',\n",
        "       'bq29_cut_3', 'bq29_cut_4', 'bq29_cut_5', 'bq29_cut_6',\n",
        "       'bq29_cut_7']"
      ]
    },
    {
      "cell_type": "code",
      "execution_count": 257,
      "metadata": {
        "id": "JaRRZIfN4fvn"
      },
      "outputs": [],
      "source": [
        "cat18_1=['bq2_1', 'bq2_2', 'bq2_3', 'bq2_4', 'bq2_5', 'bq2_6',\n",
        "       'bq13_1', 'bq13_2', 'bq13_3', 'bq15_1', 'bq15_2', 'bq15_3',\n",
        "       'bq15_4', 'bq17_1', 'bq17_2', 'bq17_3', 'bq18_1', 'bq18_2',\n",
        "       'bq18_3', 'bq26_1a_0', 'bq26_1a_1', 'bq26_1a_2', 'bq26_1a_3',\n",
        "       'bq26_2a_0', 'bq26_2a_1', 'bq26_2a_2', 'bq26_2a_3', 'bq26_3a_0',\n",
        "       'bq26_3a_1', 'bq26_3a_2', 'bq26_3a_3', 'bq26_4a_0', 'bq26_4a_1',\n",
        "       'bq26_4a_2', 'bq26_4a_3', 'bq38_1_0', 'bq38_1_1', 'bq38_1_2',\n",
        "       'bq38_1_3', 'bq38_1_4', 'bq38_2_0', 'bq38_2_5', 'bq38_2_6',\n",
        "       'bq38_2_7', '학과_MBA', '학과_간호', '학과_건축', '학과_게임', '학과_경영', '학과_경제',\n",
        "       '학과_경찰', '학과_고졸', '학과_공업', '학과_공학', '학과_광고', '학과_교통', '학과_국사',\n",
        "       '학과_국어', '학과_군사', '학과_금속', '학과_금형', '학과_기계', '학과_기관', '학과_기타',\n",
        "       '학과_기타언어', '학과_도시', '학과_독어', '학과_동물', '학과_디자인', '학과_모델', '학과_무역',\n",
        "       '학과_무용', '학과_문과', '학과_문예창작', '학과_문화', '학과_물리', '학과_미디어', '학과_미술',\n",
        "       '학과_미용', '학과_방사선', '학과_번역', '학과_법', '학과_보건', '학과_복지', '학과_불어',\n",
        "       '학과_비서', '학과_사서', '학과_사진', '학과_사회', '학과_산림공', '학과_산업공', '학과_생명',\n",
        "       '학과_선박', '학과_설비', '학과_섬유', '학과_세무회계', '학과_소방', '학과_수학/통계',\n",
        "       '학과_시스템', '학과_식물', '학과_식품', '학과_심리', '학과_아동가족', '학과_안경', '학과_약학',\n",
        "       '학과_어업', '학과_없음', '학과_에너지', '학과_연극', '학과_영어', '학과_원자력공', '학과_음악',\n",
        "       '학과_응급구조', '학과_의료', '학과_의류', '학과_이과', '학과_일어', '학과_임', '학과_자동차',\n",
        "       '학과_자연공', '학과_자원', '학과_재료', '학과_전기전자', '학과_전산', '학과_정보', '학과_정치외교',\n",
        "       '학과_조경', '학과_종교', '학과_중어', '학과_지리', '학과_철학', '학과_청각', '학과_체육/스포츠',\n",
        "       '학과_축산', '학과_치기공', '학과_치료', '학과_치위생', '학과_카지노', '학과_컴퓨터공학',\n",
        "       '학과_토목', '학과_토목공학', '학과_항공', '학과_항해', '학과_해양', '학과_행정', '학과_호텔관광',\n",
        "       '학과_화학', '학과_환경', '업종_type1', '업종_type2', 'bq41_1_cut_0',\n",
        "       'bq41_1_cut_1', 'bq41_1_cut_2', 'bq41_1_cut_3', 'bq41_1_cut_4',\n",
        "       'bq41_1_cut_5', 'bq41_1_cut_6', 'bq41_1_cut_7', 'bq41_1_cut_8',\n",
        "       'bq41_1_cut_9', 'bq41_2_cut_0', 'bq41_2_cut_1', 'bq41_2_cut_2',\n",
        "       'bq41_2_cut_3', 'bq41_2_cut_4', 'bq41_2_cut_5', 'bq41_2_cut_6',\n",
        "       'bq41_2_cut_7', 'bq41_2_cut_8', 'bq41_2_cut_9', 'bq41_3_cut_0',\n",
        "       'bq41_3_cut_2', 'bq41_3_cut_3', 'bq41_3_cut_4', 'bq41_3_cut_5',\n",
        "       'bq41_3_cut_6', 'bq41_3_cut_7', 'bq41_3_cut_8', 'bq41_3_cut_9',\n",
        "       'bq36_cut_0', 'bq36_cut_1', 'bq36_cut_2', 'bq36_cut_3',\n",
        "       'bq36_cut_4', 'bq36_cut_5', 'bq36_cut_6', 'bq36_cut_7']"
      ]
    },
    {
      "cell_type": "code",
      "source": [
        "X17.shape"
      ],
      "metadata": {
        "colab": {
          "base_uri": "https://localhost:8080/"
        },
        "id": "xSrpXJMjWNyO",
        "outputId": "3bbc8b1c-19c0-4561-accc-712425a4cc91"
      },
      "execution_count": 241,
      "outputs": [
        {
          "output_type": "execute_result",
          "data": {
            "text/plain": [
              "(9486, 302)"
            ]
          },
          "metadata": {},
          "execution_count": 241
        }
      ]
    },
    {
      "cell_type": "code",
      "execution_count": 258,
      "metadata": {
        "id": "5tpYTwCM4fvv"
      },
      "outputs": [],
      "source": [
        "type1_X17=X17.iloc[idx_tr_17_1 , :]\n",
        "type1_y17=y17.iloc[idx_tr_17_1]\n",
        "type1_test17=test17.iloc[idx_ts_17_1 , :]\n",
        "\n",
        "type1_X18=X18.iloc[idx_tr_18_1 , :]\n",
        "type1_y18=y18.iloc[idx_tr_18_1]\n",
        "type1_test18=test18.iloc[idx_ts_18_1 , :]\n",
        "\n",
        "type1_X19=X19.iloc[idx_tr_19_1 , :]\n",
        "type1_y19=y19.iloc[idx_tr_19_1]\n",
        "type1_test19=test19.iloc[idx_ts_19_1 , :]\n",
        "\n",
        "type1_X20=X20.iloc[idx_tr_20_1 , :]\n",
        "type1_y20=y20.iloc[idx_tr_20_1]\n",
        "type1_test20=test20.iloc[idx_ts_20_1 , :]"
      ]
    },
    {
      "cell_type": "markdown",
      "metadata": {
        "id": "BCQ2nI8UfFaJ"
      },
      "source": [
        "# 업종 Type 1"
      ]
    },
    {
      "cell_type": "code",
      "execution_count": 248,
      "metadata": {
        "id": "vzksm6WxfFaK"
      },
      "outputs": [],
      "source": [
        "from catboost import CatBoostClassifier\n",
        "\n",
        "model = CatBoostClassifier(random_state=42)"
      ]
    },
    {
      "cell_type": "code",
      "source": [
        ""
      ],
      "metadata": {
        "id": "VQ6bf1hQSbgf"
      },
      "execution_count": 187,
      "outputs": []
    },
    {
      "cell_type": "code",
      "execution_count": null,
      "metadata": {
        "id": "5ojAJfnMfFaK"
      },
      "outputs": [],
      "source": [
        "model17 = CatBoostClassifier(random_state=42)\n",
        "model17.fit(type1_X17, type1_y17,cat_features=cat17_1)"
      ]
    },
    {
      "cell_type": "code",
      "execution_count": null,
      "metadata": {
        "id": "wFi3rJAS4fvx"
      },
      "outputs": [],
      "source": [
        "pred17 = model17.predict(type1_test17)\n",
        "preddf=pd.DataFrame(pred17)\n",
        "preddf.to_csv('C:\\\\Users\\\\User\\\\Downloads\\\\01_24-20220124T144539Z-001\\\\01_24\\\\pred17_type1.csv')\n"
      ]
    },
    {
      "cell_type": "code",
      "execution_count": 179,
      "metadata": {
        "id": "25WsgpHa4fvy"
      },
      "outputs": [],
      "source": [
        ""
      ]
    },
    {
      "cell_type": "code",
      "execution_count": 260,
      "metadata": {
        "id": "W_4fkNetfFaL",
        "colab": {
          "base_uri": "https://localhost:8080/",
          "height": 468
        },
        "outputId": "a66211ea-6134-4225-8eb6-9837d1c426ba"
      },
      "outputs": [
        {
          "output_type": "stream",
          "name": "stderr",
          "text": [
            "Custom logger is already specified. Specify more than one logger at same time is not thread safe."
          ]
        },
        {
          "output_type": "stream",
          "name": "stdout",
          "text": [
            "Learning rate set to 0.086451\n",
            "0:\tlearn: 6.0079362\ttotal: 9.18s\tremaining: 2h 32m 47s\n",
            "1:\tlearn: 5.9419480\ttotal: 17.7s\tremaining: 2h 27m 14s\n"
          ]
        },
        {
          "output_type": "error",
          "ename": "KeyboardInterrupt",
          "evalue": "ignored",
          "traceback": [
            "\u001b[0;31m---------------------------------------------------------------------------\u001b[0m",
            "\u001b[0;31mKeyboardInterrupt\u001b[0m                         Traceback (most recent call last)",
            "\u001b[0;32m<ipython-input-260-dc3b94b4c8b2>\u001b[0m in \u001b[0;36m<module>\u001b[0;34m()\u001b[0m\n\u001b[1;32m      1\u001b[0m \u001b[0mmodel18\u001b[0m \u001b[0;34m=\u001b[0m \u001b[0mCatBoostClassifier\u001b[0m\u001b[0;34m(\u001b[0m\u001b[0mrandom_state\u001b[0m\u001b[0;34m=\u001b[0m\u001b[0;36m42\u001b[0m\u001b[0;34m)\u001b[0m\u001b[0;34m\u001b[0m\u001b[0;34m\u001b[0m\u001b[0m\n\u001b[0;32m----> 2\u001b[0;31m \u001b[0mmodel18\u001b[0m\u001b[0;34m.\u001b[0m\u001b[0mfit\u001b[0m\u001b[0;34m(\u001b[0m\u001b[0mtype1_X18\u001b[0m\u001b[0;34m,\u001b[0m \u001b[0mtype1_y18\u001b[0m\u001b[0;34m,\u001b[0m\u001b[0mcat_features\u001b[0m\u001b[0;34m=\u001b[0m\u001b[0mcat18_1\u001b[0m\u001b[0;34m)\u001b[0m\u001b[0;34m\u001b[0m\u001b[0;34m\u001b[0m\u001b[0m\n\u001b[0m",
            "\u001b[0;32m/usr/local/lib/python3.7/dist-packages/catboost/core.py\u001b[0m in \u001b[0;36mfit\u001b[0;34m(self, X, y, cat_features, text_features, embedding_features, sample_weight, baseline, use_best_model, eval_set, verbose, logging_level, plot, column_description, verbose_eval, metric_period, silent, early_stopping_rounds, save_snapshot, snapshot_file, snapshot_interval, init_model, callbacks, log_cout, log_cerr)\u001b[0m\n\u001b[1;32m   4768\u001b[0m         self._fit(X, y, cat_features, text_features, embedding_features, None, sample_weight, None, None, None, None, baseline, use_best_model,\n\u001b[1;32m   4769\u001b[0m                   \u001b[0meval_set\u001b[0m\u001b[0;34m,\u001b[0m \u001b[0mverbose\u001b[0m\u001b[0;34m,\u001b[0m \u001b[0mlogging_level\u001b[0m\u001b[0;34m,\u001b[0m \u001b[0mplot\u001b[0m\u001b[0;34m,\u001b[0m \u001b[0mcolumn_description\u001b[0m\u001b[0;34m,\u001b[0m \u001b[0mverbose_eval\u001b[0m\u001b[0;34m,\u001b[0m \u001b[0mmetric_period\u001b[0m\u001b[0;34m,\u001b[0m\u001b[0;34m\u001b[0m\u001b[0;34m\u001b[0m\u001b[0m\n\u001b[0;32m-> 4770\u001b[0;31m                   silent, early_stopping_rounds, save_snapshot, snapshot_file, snapshot_interval, init_model, callbacks, log_cout, log_cerr)\n\u001b[0m\u001b[1;32m   4771\u001b[0m         \u001b[0;32mreturn\u001b[0m \u001b[0mself\u001b[0m\u001b[0;34m\u001b[0m\u001b[0;34m\u001b[0m\u001b[0m\n\u001b[1;32m   4772\u001b[0m \u001b[0;34m\u001b[0m\u001b[0m\n",
            "\u001b[0;32m/usr/local/lib/python3.7/dist-packages/catboost/core.py\u001b[0m in \u001b[0;36m_fit\u001b[0;34m(self, X, y, cat_features, text_features, embedding_features, pairs, sample_weight, group_id, group_weight, subgroup_id, pairs_weight, baseline, use_best_model, eval_set, verbose, logging_level, plot, column_description, verbose_eval, metric_period, silent, early_stopping_rounds, save_snapshot, snapshot_file, snapshot_interval, init_model, callbacks, log_cout, log_cerr)\u001b[0m\n\u001b[1;32m   2092\u001b[0m                 \u001b[0mparams\u001b[0m\u001b[0;34m,\u001b[0m\u001b[0;34m\u001b[0m\u001b[0;34m\u001b[0m\u001b[0m\n\u001b[1;32m   2093\u001b[0m                 \u001b[0mallow_clear_pool\u001b[0m\u001b[0;34m,\u001b[0m\u001b[0;34m\u001b[0m\u001b[0;34m\u001b[0m\u001b[0m\n\u001b[0;32m-> 2094\u001b[0;31m                 \u001b[0mtrain_params\u001b[0m\u001b[0;34m[\u001b[0m\u001b[0;34m\"init_model\"\u001b[0m\u001b[0;34m]\u001b[0m\u001b[0;34m\u001b[0m\u001b[0;34m\u001b[0m\u001b[0m\n\u001b[0m\u001b[1;32m   2095\u001b[0m             )\n\u001b[1;32m   2096\u001b[0m \u001b[0;34m\u001b[0m\u001b[0m\n",
            "\u001b[0;32m/usr/local/lib/python3.7/dist-packages/catboost/core.py\u001b[0m in \u001b[0;36m_train\u001b[0;34m(self, train_pool, test_pool, params, allow_clear_pool, init_model)\u001b[0m\n\u001b[1;32m   1514\u001b[0m \u001b[0;34m\u001b[0m\u001b[0m\n\u001b[1;32m   1515\u001b[0m     \u001b[0;32mdef\u001b[0m \u001b[0m_train\u001b[0m\u001b[0;34m(\u001b[0m\u001b[0mself\u001b[0m\u001b[0;34m,\u001b[0m \u001b[0mtrain_pool\u001b[0m\u001b[0;34m,\u001b[0m \u001b[0mtest_pool\u001b[0m\u001b[0;34m,\u001b[0m \u001b[0mparams\u001b[0m\u001b[0;34m,\u001b[0m \u001b[0mallow_clear_pool\u001b[0m\u001b[0;34m,\u001b[0m \u001b[0minit_model\u001b[0m\u001b[0;34m)\u001b[0m\u001b[0;34m:\u001b[0m\u001b[0;34m\u001b[0m\u001b[0;34m\u001b[0m\u001b[0m\n\u001b[0;32m-> 1516\u001b[0;31m         \u001b[0mself\u001b[0m\u001b[0;34m.\u001b[0m\u001b[0m_object\u001b[0m\u001b[0;34m.\u001b[0m\u001b[0m_train\u001b[0m\u001b[0;34m(\u001b[0m\u001b[0mtrain_pool\u001b[0m\u001b[0;34m,\u001b[0m \u001b[0mtest_pool\u001b[0m\u001b[0;34m,\u001b[0m \u001b[0mparams\u001b[0m\u001b[0;34m,\u001b[0m \u001b[0mallow_clear_pool\u001b[0m\u001b[0;34m,\u001b[0m \u001b[0minit_model\u001b[0m\u001b[0;34m.\u001b[0m\u001b[0m_object\u001b[0m \u001b[0;32mif\u001b[0m \u001b[0minit_model\u001b[0m \u001b[0;32melse\u001b[0m \u001b[0;32mNone\u001b[0m\u001b[0;34m)\u001b[0m\u001b[0;34m\u001b[0m\u001b[0;34m\u001b[0m\u001b[0m\n\u001b[0m\u001b[1;32m   1517\u001b[0m         \u001b[0mself\u001b[0m\u001b[0;34m.\u001b[0m\u001b[0m_set_trained_model_attributes\u001b[0m\u001b[0;34m(\u001b[0m\u001b[0;34m)\u001b[0m\u001b[0;34m\u001b[0m\u001b[0;34m\u001b[0m\u001b[0m\n\u001b[1;32m   1518\u001b[0m \u001b[0;34m\u001b[0m\u001b[0m\n",
            "\u001b[0;32m_catboost.pyx\u001b[0m in \u001b[0;36m_catboost._CatBoost._train\u001b[0;34m()\u001b[0m\n",
            "\u001b[0;32m_catboost.pyx\u001b[0m in \u001b[0;36m_catboost._CatBoost._train\u001b[0;34m()\u001b[0m\n",
            "\u001b[0;31mKeyboardInterrupt\u001b[0m: "
          ]
        }
      ],
      "source": [
        "model18 = CatBoostClassifier(random_state=42)\n",
        "model18.fit(type1_X18, type1_y18,cat_features=cat18_1)\n"
      ]
    },
    {
      "cell_type": "code",
      "execution_count": null,
      "metadata": {
        "id": "KGZITuhs4fvy"
      },
      "outputs": [],
      "source": [
        "pred18 = model18.predict(type1_test18)\n",
        "preddf=pd.DataFrame(pred18)\n",
        "preddf.to_csv('C:\\\\Users\\\\User\\\\Downloads\\\\01_24-20220124T144539Z-001\\\\01_24\\\\pred18_type1.csv')"
      ]
    },
    {
      "cell_type": "code",
      "execution_count": null,
      "metadata": {
        "id": "_a3SgXDhfFaL"
      },
      "outputs": [],
      "source": [
        "model.fit(type1_X19, type1_y19,cat_features=cat19_1)\n"
      ]
    },
    {
      "cell_type": "code",
      "execution_count": null,
      "metadata": {
        "id": "B4YBXz4L4fvz"
      },
      "outputs": [],
      "source": [
        "pred19 = model.predict(type1_test19)\n",
        "preddf=pd.DataFrame(pred19)\n",
        "preddf.to_csv('C:\\\\Users\\\\User\\\\Downloads\\\\01_24-20220124T144539Z-001\\\\01_24\\\\pred19_type1.csv')"
      ]
    },
    {
      "cell_type": "code",
      "execution_count": null,
      "metadata": {
        "id": "odamis-mfFaL"
      },
      "outputs": [],
      "source": [
        "model.fit(type1_X20, type1_y20,cat_features=cat20_1)"
      ]
    },
    {
      "cell_type": "code",
      "execution_count": null,
      "metadata": {
        "id": "VYgplFI14fv0"
      },
      "outputs": [],
      "source": [
        "pred20 = model.predict(type1_test20)\n",
        "preddf=pd.DataFrame(pred20)\n",
        "preddf.to_csv('C:\\\\Users\\\\User\\\\Downloads\\\\01_24-20220124T144539Z-001\\\\01_24\\\\pred20_type2.csv')"
      ]
    },
    {
      "cell_type": "markdown",
      "metadata": {
        "id": "SJ1EYCajZK0H"
      },
      "source": [
        "# 업종 Type 2"
      ]
    },
    {
      "cell_type": "code",
      "source": [
        "type2_X17=X17.iloc[idx_tr_17_2 , :]\n",
        "type2_y17=y17.iloc[idx_tr_17_2]\n",
        "type2_test17=test17.iloc[idx_ts_17_2 , :]\n",
        "\n",
        "type2_X18=X18.iloc[idx_tr_18_2 , :]\n",
        "type2_y18=y18.iloc[idx_tr_18_2]\n",
        "type2_test18=test18.iloc[idx_ts_18_2 , :]\n",
        "\n",
        "type2_X19=X19.iloc[idx_tr_19_2 , :]\n",
        "type2_y19=y19.iloc[idx_tr_19_2]\n",
        "type2_test19=test19.iloc[idx_ts_19_2 , :]\n",
        "\n",
        "type2_X20=X20.iloc[idx_tr_20_2 , :]\n",
        "type2_y20=y20.iloc[idx_tr_20_2]\n",
        "type2_test20=test20.iloc[idx_ts_20_2 , :]"
      ],
      "metadata": {
        "id": "7OcWiKznZK0I"
      },
      "execution_count": 264,
      "outputs": []
    },
    {
      "cell_type": "code",
      "execution_count": null,
      "metadata": {
        "id": "roPMDP0eZK0H"
      },
      "outputs": [],
      "source": [
        "from catboost import CatBoostClassifier\n",
        "\n",
        "model = CatBoostClassifier(random_state=42)"
      ]
    },
    {
      "cell_type": "code",
      "execution_count": null,
      "metadata": {
        "id": "nLJJoWZ2ZK0I"
      },
      "outputs": [],
      "source": [
        "model17 = CatBoostClassifier(random_state=42)\n",
        "model17.fit(type2_X17, type2_y17,cat_features=cat17_1)"
      ]
    },
    {
      "cell_type": "code",
      "execution_count": null,
      "metadata": {
        "id": "8JerjZnbZK0I"
      },
      "outputs": [],
      "source": [
        "pred17 = model17.predict(type2_test17)\n",
        "preddf=pd.DataFrame(pred17)\n",
        "preddf.to_csv('C:\\\\Users\\\\User\\\\Downloads\\\\01_24-20220124T144539Z-001\\\\01_24\\\\pred17_type2.csv')\n"
      ]
    },
    {
      "cell_type": "code",
      "execution_count": null,
      "metadata": {
        "id": "LsSj6sEfZK0J"
      },
      "outputs": [],
      "source": [
        "model18 = CatBoostClassifier(random_state=42)\n",
        "model18.fit(type2_X18, type2_y18,cat_features=cat18_1)\n"
      ]
    },
    {
      "cell_type": "code",
      "execution_count": null,
      "metadata": {
        "id": "86qjVE-wZK0J"
      },
      "outputs": [],
      "source": [
        "pred18 = model18.predict(type2_test18)\n",
        "preddf=pd.DataFrame(pred18)\n",
        "preddf.to_csv('C:\\\\Users\\\\User\\\\Downloads\\\\01_24-20220124T144539Z-001\\\\01_24\\\\pred18_type2.csv')"
      ]
    },
    {
      "cell_type": "code",
      "execution_count": null,
      "metadata": {
        "id": "SCM7-lHwZK0J"
      },
      "outputs": [],
      "source": [
        "model.fit(type2_X19, type2_y19,cat_features=cat19_1)\n"
      ]
    },
    {
      "cell_type": "code",
      "execution_count": null,
      "metadata": {
        "id": "nzZmjXRdZK0K"
      },
      "outputs": [],
      "source": [
        "pred19 = model.predict(type2_test19)\n",
        "preddf=pd.DataFrame(pred19)\n",
        "preddf.to_csv('C:\\\\Users\\\\User\\\\Downloads\\\\01_24-20220124T144539Z-001\\\\01_24\\\\pred19_type2.csv')"
      ]
    },
    {
      "cell_type": "code",
      "execution_count": null,
      "metadata": {
        "id": "Z9VkJjUyZK0K"
      },
      "outputs": [],
      "source": [
        "model.fit(type2_X20, type2_y20,cat_features=cat20_1)"
      ]
    },
    {
      "cell_type": "code",
      "execution_count": null,
      "metadata": {
        "id": "5ZBvprPZZK0K"
      },
      "outputs": [],
      "source": [
        "pred20 = model.predict(type2_test20)\n",
        "preddf=pd.DataFrame(pred20)\n",
        "preddf.to_csv('C:\\\\Users\\\\User\\\\Downloads\\\\01_24-20220124T144539Z-001\\\\01_24\\\\pred20_type2.csv')"
      ]
    },
    {
      "cell_type": "markdown",
      "metadata": {
        "id": "860rr-VhbSSq"
      },
      "source": [
        "# 모든 변수"
      ]
    },
    {
      "cell_type": "markdown",
      "metadata": {
        "id": "jhwjN_X4QH1X"
      },
      "source": [
        "* 2017"
      ]
    },
    {
      "cell_type": "code",
      "execution_count": null,
      "metadata": {
        "id": "oRju6nlANmB3"
      },
      "outputs": [],
      "source": [
        "tr17_all=train_2017.drop(['Unnamed: 0', 'idx', 'bq19_1' ,'bq30' ,'bq31' ,'bq32' ,'bq33' ,'bq34' ,'bq38_1','bq4_1a',\n",
        "       'bq4_1b', 'bq4_1c', 'bq5_2'], axis=1)\n",
        "ts17_all=test_2017.drop(['Unnamed: 0', 'idx','bq19_1' ,'bq30' ,'bq31' ,'bq32' ,'bq33' ,'bq34' ,'bq38_1','bq4_1a',\n",
        "       'bq4_1b', 'bq4_1c', 'bq5_2'],axis=1)\n",
        "df=pd.get_dummies(tr17_all[['bq1_1','bq38_2']])\n",
        "tr17_all=pd.concat([tr17_all,df],axis=1)\n",
        "df=pd.get_dummies(ts17_all[['bq1_1','bq38_2']])\n",
        "ts17_all=pd.concat([ts17_all,df],axis=1)\n",
        "# train_2017[['bq1_1', 'bq4_1', 'bq38_2']] # 업종/자격증개수/5개과\n",
        "tr17_all=tr17_all.drop(['bq1_1','bq38_2'],axis=1)\n",
        "ts17_all=ts17_all.drop(['bq1_1','bq38_2'],axis=1)\n"
      ]
    },
    {
      "cell_type": "markdown",
      "metadata": {
        "id": "cF1kyjWbQLMJ"
      },
      "source": [
        "* 2018"
      ]
    },
    {
      "cell_type": "code",
      "execution_count": null,
      "metadata": {
        "id": "_03RRWKgPwk4"
      },
      "outputs": [],
      "source": [
        "tr18_all=train_2018.drop(['Unnamed: 0', 'Unnamed: 0.1', 'Unnamed: 0.1.1', 'Unnamed: 0.1.1.1',\n",
        "       'Unnamed: 0.1.1.1.1', 'Unnamed: 0.1.1.1.1.1', 'Unnamed: 0.1.1.1.1.1.1',\n",
        "       'Unnamed: 0.1.1.1.1.1.1.1',\n",
        "       'idx','bq4_1a', 'bq4_1b', 'bq4_1c', 'bq5_2', 'bq28_1', 'bq29', 'bq30', 'bq31', 'bq32','bq33', 'bq37_1'], axis=1)\n",
        "ts18_all=test_2018.drop(['Unnamed: 0', 'Unnamed: 0.1', 'Unnamed: 0.1.1', 'Unnamed: 0.1.1.1',\n",
        "       'Unnamed: 0.1.1.1.1', 'Unnamed: 0.1.1.1.1.1', 'Unnamed: 0.1.1.1.1.1.1',\n",
        "       'Unnamed: 0.1.1.1.1.1.1.1', 'idx','bq4_1a', 'bq4_1b', 'bq4_1c', 'bq5_2', 'bq28_1', 'bq29', 'bq30', 'bq31', 'bq32','bq33', 'bq37_1'], axis=1)\n",
        "# train_2018[['bq1_1', 'bq4_1', '학과']] \n",
        "df=pd.get_dummies(tr18_all[['bq1_1','학과']])\n",
        "tr18_all=pd.concat([tr18_all,df],axis=1)\n",
        "df=pd.get_dummies(ts18_all[['bq1_1','학과']])\n",
        "ts18_all=pd.concat([ts18_all,df],axis=1)\n",
        "tr18_all=tr18_all.drop(['bq1_1','학과'],axis=1)\n",
        "ts18_all=ts18_all.drop(['bq1_1','학과'],axis=1)"
      ]
    },
    {
      "cell_type": "markdown",
      "metadata": {
        "id": "mJpqGz_-TPhs"
      },
      "source": [
        "* 2019"
      ]
    },
    {
      "cell_type": "code",
      "execution_count": null,
      "metadata": {
        "id": "WPnKUAe7Pwt3"
      },
      "outputs": [],
      "source": [
        "tr19_all=train_2019.drop(['Unnamed: 0','Unnamed: 0.1', 'idx','bq4_1a', 'bq4_1b', 'bq4_1c','bq5_2', 'bq18_10','bq20_1', \n",
        "                      'bq22', 'bq23', 'bq24', 'bq27_1'],axis=1)\n",
        "ts19_all=test_2019.drop(['Unnamed: 0','Unnamed: 0.1', 'idx', 'bq4_1a', 'bq4_1b', 'bq4_1c','bq5_2', 'bq18_10','bq20_1',\n",
        "                     'bq22', 'bq23', 'bq24', 'bq27_1'],axis=1)\n",
        "train_2019[['bq1_1','bq4_1', '학과']]\n",
        "df=pd.get_dummies(tr19_all[['bq1_1','학과']])\n",
        "tr19_all=pd.concat([tr19_all,df],axis=1)\n",
        "df=pd.get_dummies(ts19_all[['bq1_1','학과']])\n",
        "ts19_all=pd.concat([ts19_all,df],axis=1)\n",
        "tr19_all=tr19_all.drop(['bq1_1','학과'],axis=1)\n",
        "ts19_all=ts19_all.drop(['bq1_1','학과'],axis=1)"
      ]
    },
    {
      "cell_type": "markdown",
      "metadata": {
        "id": "HKNifGBmTzdP"
      },
      "source": [
        "* 2020"
      ]
    },
    {
      "cell_type": "code",
      "execution_count": null,
      "metadata": {
        "id": "qm24BaAQPwxo"
      },
      "outputs": [],
      "source": [
        "tr20_all=train_2020.drop(['Unnamed: 0', 'Unnamed: 0.1', 'Unnamed: 0.1.1', 'idx','bq4_1a', 'bq4_1b', 'bq4_1c','bq5_2','bq20_1','bq26_1'], axis=1)\n",
        "ts20_all=test_2020.drop(['Unnamed: 0', 'Unnamed: 0.1', 'idx','bq4_1a', 'bq4_1b', 'bq4_1c','bq5_2','bq20_1','bq26_1'],axis=1)\n",
        " #'학과', 'bq1_new'\n",
        "df=pd.get_dummies(tr20_all[['bq1_new','학과']])\n",
        "tr20_all=pd.concat([tr20_all,df],axis=1)\n",
        "df=pd.get_dummies(ts20_all[['bq1_new','학과']])\n",
        "ts20_all=pd.concat([ts20_all,df],axis=1)\n",
        "tr20_all=tr20_all.drop(['bq1_new','학과'],axis=1)\n",
        "ts20_all=ts20_all.drop(['bq1_new','학과'],axis=1)"
      ]
    },
    {
      "cell_type": "markdown",
      "metadata": {
        "id": "ReTqc2SCT1K6"
      },
      "source": [
        "* 범주형 처리"
      ]
    },
    {
      "cell_type": "code",
      "execution_count": null,
      "metadata": {
        "id": "Jff1xLbLPw3q"
      },
      "outputs": [],
      "source": [
        "# # 범주형\n",
        "# tr17_all[['bq1', 'bq2', 'bq39_2']] = tr17_all[['bq1', 'bq2', 'bq39_2']].astype('object')\n",
        "# tr18_all[['bq1', 'bq2', 'bq13', 'bq15', 'bq17', 'bq18', 'bq26_1a', 'bq26_2a', 'bq26_3a', 'bq26_4a', 'bq38_1', \n",
        "#       'bq38_2']] = tr18_all[['bq1', 'bq2', 'bq13', 'bq15', 'bq17', 'bq18', 'bq26_1a', 'bq26_2a', 'bq26_3a', 'bq26_4a', \n",
        "#                          'bq38_1', 'bq38_2']].astype('object')\n",
        "# tr19_all[['bq1', 'bq2', 'bq28_1', 'bq28_2']] = tr19_all[['bq1', 'bq2', 'bq28_1', 'bq28_2']].astype('object')\n",
        "# tr20_all[['bq1', 'bq2', 'bq27_2']] = tr20_all[['bq1', 'bq2', 'bq27_2']].astype('object')\n",
        "\n",
        "# # 범주형\n",
        "# ts17_all[['bq1', 'bq2', 'bq39_2']] = ts17_all[['bq1', 'bq2', 'bq39_2']].astype('object')\n",
        "# ts18_all[['bq1', 'bq2', 'bq13', 'bq15', 'bq17', 'bq18', 'bq26_1a', 'bq26_2a', 'bq26_3a', 'bq26_4a', 'bq38_1', \n",
        "#       'bq38_2']] = ts18_all[['bq1', 'bq2', 'bq13', 'bq15', 'bq17', 'bq18', 'bq26_1a', 'bq26_2a', 'bq26_3a', 'bq26_4a', \n",
        "#                          'bq38_1', 'bq38_2']].astype('object')\n",
        "# ts19_all[['bq1', 'bq2', 'bq28_1', 'bq28_2']] = ts19_all[['bq1', 'bq2', 'bq28_1', 'bq28_2']].astype('object')\n",
        "ts20_all[['bq1', 'bq2', 'bq27_2']] = ts20_all[['bq1', 'bq2', 'bq27_2']].astype('object')"
      ]
    },
    {
      "cell_type": "code",
      "execution_count": null,
      "metadata": {
        "id": "L-bn_K-wLq3f"
      },
      "outputs": [],
      "source": [
        "cat17=[ 'bq2', 'bq39_2','bq1_1_0', 'bq1_1_a',\n",
        "       'bq1_1_b', 'bq1_1_c', 'bq1_1_d', 'bq1_1_e', 'bq1_1_f', 'bq1_1_g',\n",
        "       'bq1_1_h', 'bq1_1_i', 'bq1_1_j', 'bq38_2_기타', 'bq38_2_문과', 'bq38_2_없음',\n",
        "       'bq38_2_예체능', 'bq38_2_의예', 'bq38_2_이과']\n",
        "cat18=['bq2', 'bq13', 'bq15', 'bq17', 'bq18', 'bq26_1a', 'bq26_2a', 'bq26_3a', 'bq26_4a', 'bq38_1', \n",
        "      'bq38_2','bq1_1_a',\n",
        "       'bq1_1_b', 'bq1_1_c', 'bq1_1_e', 'bq1_1_f', 'bq1_1_g',\n",
        "       'bq1_1_h', 'bq1_1_j', 'bq1_1_y', '학과_기타', '학과_문과', '학과_예체능', '학과_의료',\n",
        "       '학과_이과']\n",
        "cat19=['bq2', 'bq28_1', 'bq28_2','bq1_1_a', 'bq1_1_b',\n",
        "       'bq1_1_c', 'bq1_1_d', 'bq1_1_e', 'bq1_1_f', 'bq1_1_g', 'bq1_1_h',\n",
        "       'bq1_1_j', 'bq1_1_y', '학과_기타', '학과_문과', '학과_예체능', '학과_의료', '학과_이과']\n",
        "cat20=[ 'bq2', 'bq27_2','bq1_new_a', 'bq1_new_b', 'bq1_new_c', 'bq1_new_d', 'bq1_new_e',\n",
        "       'bq1_new_f', 'bq1_new_g', 'bq1_new_h', 'bq1_new_i', 'bq1_new_j',\n",
        "       '학과_기타', '학과_문과', '학과_예체능', '학과_의료', '학과_이과']\n"
      ]
    },
    {
      "cell_type": "code",
      "execution_count": null,
      "metadata": {
        "id": "DNL62M_yUfgN"
      },
      "outputs": [],
      "source": [
        "# 1,2 -> 1, 0 변경\n",
        "for col in tr17_all.columns:\n",
        "    if len(tr17_all[col].unique())==2:\n",
        "        tr17_all.loc[tr17_all[col]==2,col] = 0\n",
        "        \n",
        "# 1,2 -> 1, 0 변경\n",
        "for col in tr18_all.columns:\n",
        "    if len(tr18_all[col].unique())==2:\n",
        "        tr18_all.loc[tr18_all[col]==2, col] = 0\n",
        "        \n",
        "for col in tr19_all.columns:\n",
        "    if len(tr19_all[col].unique())==2:\n",
        "        tr19_all.loc[tr19_all[col]==2, col] = 0\n",
        "        \n",
        "for col in tr20_all.columns:\n",
        "    if len(tr20_all[col].unique())==2:\n",
        "        tr20_all.loc[tr20_all[col]==2, col] = 0"
      ]
    },
    {
      "cell_type": "code",
      "execution_count": null,
      "metadata": {
        "id": "fe_He3UdU8GV"
      },
      "outputs": [],
      "source": [
        "# 0, 1, 2는 범주형 열임\n",
        "for col in tr17_all.columns:\n",
        "    if tr17_all[col].unique().all == [0,1,2]:\n",
        "        tr17_all[col] = tr17_all[col].astype('object')\n",
        "        \n",
        "# 0, 1, 2는 범주형 열임\n",
        "for col in tr18_all.columns:\n",
        "    if tr18_all[col].unique().all == [0,1,2]:\n",
        "        tr18_all[col] = tr18_all[col].astype('object')\n",
        "        \n",
        "# 0, 1, 2는 범주형 열임\n",
        "for col in tr19_all.columns:\n",
        "    if tr19_all[col].unique().all == [0,1,2]:\n",
        "        tr19_all[col] = tr19_all[col].astype('object')\n",
        "        \n",
        "# 0, 1, 2는 범주형 열임\n",
        "for col in tr20_all.columns:\n",
        "    if tr20_all[col].unique().all == [0,1,2]:\n",
        "        tr20_all[col] = tr20_all[col].astype('object')"
      ]
    },
    {
      "cell_type": "code",
      "execution_count": null,
      "metadata": {
        "id": "6O5vOhW7Uzam"
      },
      "outputs": [],
      "source": [
        "# 1,2 -> 1, 0 변경\n",
        "for col in ts17_all.columns:\n",
        "    if len(ts17_all[col].unique())==2:\n",
        "        ts17_all.loc[ts17_all[col]==2,col] = 0\n",
        "        \n",
        "# 1,2 -> 1, 0 변경\n",
        "for col in ts18_all.columns:\n",
        "    if len(ts18_all[col].unique())==2:\n",
        "        ts18_all.loc[ts18_all[col]==2, col] = 0\n",
        "        \n",
        "for col in ts19_all.columns:\n",
        "    if len(ts19_all[col].unique())==2:\n",
        "        ts19_all.loc[ts19_all[col]==2, col] = 0\n",
        "        \n",
        "for col in ts20_all.columns:\n",
        "    if len(ts20_all[col].unique())==2:\n",
        "        ts20_all.loc[ts20_all[col]==2, col] = 0"
      ]
    },
    {
      "cell_type": "code",
      "execution_count": null,
      "metadata": {
        "id": "PP1_FRcjU593"
      },
      "outputs": [],
      "source": [
        "# 0, 1, 2는 범주형 열임\n",
        "for col in ts17_all.columns:\n",
        "    if ts17_all[col].unique().all == [0,1,2]:\n",
        "        ts17_all[col] = ts17_all[col].astype('object')\n",
        "        \n",
        "# 0, 1, 2는 범주형 열임\n",
        "for col in ts18_all.columns:\n",
        "    if ts18_all[col].unique().all == [0,1,2]:\n",
        "        ts18_all[col] = ts18_all[col].astype('object')\n",
        "        \n",
        "# 0, 1, 2는 범주형 열임\n",
        "for col in ts19_all.columns:\n",
        "    if ts19_all[col].unique().all == [0,1,2]:\n",
        "        ts19_all[col] = ts19_all[col].astype('object')\n",
        "        \n",
        "# 0, 1, 2는 범주형 열임\n",
        "for col in ts20_all.columns:\n",
        "    if ts20_all[col].unique().all == [0,1,2]:\n",
        "        ts20_all[col] = ts20_all[col].astype('object')"
      ]
    },
    {
      "cell_type": "markdown",
      "metadata": {
        "id": "JNROkT4CbVZu"
      },
      "source": [
        "# 중복변수 제거"
      ]
    },
    {
      "cell_type": "code",
      "execution_count": null,
      "metadata": {
        "id": "2h3DeA4VdPbS"
      },
      "outputs": [],
      "source": [
        ""
      ]
    },
    {
      "cell_type": "code",
      "execution_count": null,
      "metadata": {
        "id": "oQD-gVomVLZ4"
      },
      "outputs": [],
      "source": [
        "tr17_del=tr17_all.drop(['aq1_1', 'aq1_2', 'aq2_1', 'aq2_2', 'aq3_1', 'aq3_2', 'aq4_1', 'aq4_2',\n",
        "       'aq5_1', 'aq5_2', 'aq6_1', 'aq6_2', 'aq7_1', 'aq7_2', 'aq8_1', 'aq8_2',\n",
        "       'aq9_1', 'aq9_2', 'aq10_1', 'aq10_2', 'aq11_1', 'aq11_2', 'aq12_1',\n",
        "       'aq12_2', 'aq13_1', 'aq13_2', 'aq14_1', 'aq14_2', 'aq15_1', 'aq15_2',\n",
        "       'aq16_1', 'aq16_2', 'aq17_1', 'aq17_2', 'aq18_1', 'aq18_2', 'aq19_1',\n",
        "       'aq19_2', 'aq20_1', 'aq20_2', 'aq21_1', 'aq21_2', 'aq22_1', 'aq22_2',\n",
        "       'aq23_1', 'aq23_2', 'aq24_1', 'aq24_2', 'aq25_1', 'aq25_2', 'aq26_1',\n",
        "       'aq26_2', 'aq27_1', 'aq27_2', 'aq28_1', 'aq28_2', 'aq29_1', 'aq29_2',\n",
        "       'aq30_1', 'aq30_2', 'aq31_1', 'aq31_2', 'aq32_1', 'aq32_2', 'aq33_1',\n",
        "       'aq33_2', 'aq34_1', 'aq34_2', 'aq35_1', 'aq35_2', 'aq36_1', 'aq36_2',\n",
        "       'aq37_1', 'aq37_2', 'aq38_1', 'aq38_2', 'aq39_1', 'aq39_2', 'aq40_1',\n",
        "       'aq40_2', 'aq41_1', 'aq41_2',\n",
        "       'bq8_1', 'bq8_2', 'bq8_3',\n",
        "       'bq12_1','bq12_2', 'bq12_3', 'bq12_4', 'bq12_5',\n",
        "       'bq15_1','bq15_2', 'bq15_3',\n",
        "       'bq18_1', 'bq18_2', 'bq18_3', 'bq18_4', 'bq18_5', 'bq18_6', 'bq18_7',\n",
        "       'bq1'],axis=1)\n",
        "ts17_del=ts17_all.drop(['aq1_1', 'aq1_2', 'aq2_1', 'aq2_2', 'aq3_1', 'aq3_2', 'aq4_1', 'aq4_2',\n",
        "       'aq5_1', 'aq5_2', 'aq6_1', 'aq6_2', 'aq7_1', 'aq7_2', 'aq8_1', 'aq8_2',\n",
        "       'aq9_1', 'aq9_2', 'aq10_1', 'aq10_2', 'aq11_1', 'aq11_2', 'aq12_1',\n",
        "       'aq12_2', 'aq13_1', 'aq13_2', 'aq14_1', 'aq14_2', 'aq15_1', 'aq15_2',\n",
        "       'aq16_1', 'aq16_2', 'aq17_1', 'aq17_2', 'aq18_1', 'aq18_2', 'aq19_1',\n",
        "       'aq19_2', 'aq20_1', 'aq20_2', 'aq21_1', 'aq21_2', 'aq22_1', 'aq22_2',\n",
        "       'aq23_1', 'aq23_2', 'aq24_1', 'aq24_2', 'aq25_1', 'aq25_2', 'aq26_1',\n",
        "       'aq26_2', 'aq27_1', 'aq27_2', 'aq28_1', 'aq28_2', 'aq29_1', 'aq29_2',\n",
        "       'aq30_1', 'aq30_2', 'aq31_1', 'aq31_2', 'aq32_1', 'aq32_2', 'aq33_1',\n",
        "       'aq33_2', 'aq34_1', 'aq34_2', 'aq35_1', 'aq35_2', 'aq36_1', 'aq36_2',\n",
        "       'aq37_1', 'aq37_2', 'aq38_1', 'aq38_2', 'aq39_1', 'aq39_2', 'aq40_1',\n",
        "       'aq40_2', 'aq41_1', 'aq41_2',\n",
        "       'bq8_1', 'bq8_2', 'bq8_3',\n",
        "       'bq12_1','bq12_2', 'bq12_3', 'bq12_4', 'bq12_5',\n",
        "       'bq15_1','bq15_2', 'bq15_3',\n",
        "       'bq18_1', 'bq18_2', 'bq18_3', 'bq18_4', 'bq18_5', 'bq18_6', 'bq18_7',\n",
        "       'bq1'],axis=1)"
      ]
    },
    {
      "cell_type": "code",
      "execution_count": null,
      "metadata": {
        "id": "eFJ0RT80a2FV"
      },
      "outputs": [],
      "source": [
        "tr18_del=tr18_all.drop(['cq50_1', 'cq50_2', 'cq50_3', 'cq50_4','cq50_5', 'cq50_6', 'cq50_7', 'cq50_8',\n",
        "                        'bq8_1', 'bq8_2', 'bq8_3',\n",
        "                        'bq12_1', 'bq12_2','bq12_3', 'bq12_4', 'bq12_5',\n",
        "                        'bq1'],axis=1)\n",
        "ts18_del=ts18_all.drop(['cq50_1', 'cq50_2', 'cq50_3', 'cq50_4','cq50_5', 'cq50_6', 'cq50_7', 'cq50_8',\n",
        "                        'bq8_1', 'bq8_2', 'bq8_3',\n",
        "                        'bq12_1', 'bq12_2','bq12_3', 'bq12_4', 'bq12_5',\n",
        "                        'bq1'],axis=1)"
      ]
    },
    {
      "cell_type": "code",
      "execution_count": null,
      "metadata": {
        "id": "chbywUHFdvYK"
      },
      "outputs": [],
      "source": [
        "tr19_del=tr19_all.drop(['sq1', 'sq2', 'sq3', 'sq4', 'sq5', 'sq6', 'sq7', 'sq8', 'sq9', 'sq10',\n",
        "       'sq11', 'sq12', 'sq13', 'sq14', 'sq15', 'sq16',\n",
        "       'bq8_1', 'bq8_2', 'bq8_3','bq12_1', 'bq12_2',\n",
        "       'bq12_3', 'bq12_4', 'bq12_5', 'bq13_1', 'bq13_2', 'bq13_3', 'bq14_1',\n",
        "       'bq14_2', 'bq14_3', 'bq14_4', 'bq14_5','bq16_1', 'bq16_2',\n",
        "       'bq16_3', 'bq16_4', 'bq16_5', 'bq21_1', 'bq21_2', 'bq21_3',\n",
        "       'bq1'],axis=1)\n",
        "ts19_del=ts19_all.drop(['sq1', 'sq2', 'sq3', 'sq4', 'sq5', 'sq6', 'sq7', 'sq8', 'sq9', 'sq10',\n",
        "       'sq11', 'sq12', 'sq13', 'sq14', 'sq15', 'sq16',\n",
        "       'bq8_1', 'bq8_2', 'bq8_3','bq12_1', 'bq12_2',\n",
        "       'bq12_3', 'bq12_4', 'bq12_5', 'bq13_1', 'bq13_2', 'bq13_3', 'bq14_1',\n",
        "       'bq14_2', 'bq14_3', 'bq14_4', 'bq14_5','bq16_1', 'bq16_2',\n",
        "       'bq16_3', 'bq16_4', 'bq16_5', 'bq21_1', 'bq21_2', 'bq21_3',\n",
        "       'bq1'],axis=1)"
      ]
    },
    {
      "cell_type": "code",
      "execution_count": null,
      "metadata": {
        "id": "Jo4WPgt0dvho"
      },
      "outputs": [],
      "source": [
        "tr20_del=tr20_all.drop(['saq1_1', 'saq1_2', 'saq2_1', 'saq2_2', 'saq3_1', 'saq3_2', 'saq4_1',\n",
        "       'saq4_2', 'saq5_1', 'saq5_2', 'saq6_1', 'saq6_2', 'saq7_1', 'saq7_2',\n",
        "       'saq8_1', 'saq8_2', 'saq9_1', 'saq9_2', 'saq10_1', 'saq10_2', 'saq11_1',\n",
        "       'saq11_2', 'saq12_1', 'saq12_2', 'saq13_1', 'saq13_2', 'saq14_1',\n",
        "       'saq14_2', 'saq15_1', 'saq15_2', 'saq16_1', 'saq16_2', 'saq17_1',\n",
        "       'saq17_2', 'saq18_1', 'saq18_2', 'saq19_1', 'saq19_2', 'saq20_1',\n",
        "       'saq20_2', 'saq21_1', 'saq21_2', 'saq22_1', 'saq22_2', 'saq23_1',\n",
        "       'saq23_2', 'saq24_1', 'saq24_2', 'saq25_1', 'saq25_2', 'saq26_1',\n",
        "       'saq26_2', 'saq27_1', 'saq27_2', 'saq28_1', 'saq28_2', 'saq29_1',\n",
        "       'saq29_2', 'saq30_1', 'saq30_2', 'saq31_1', 'saq31_2', 'saq32_1',\n",
        "       'saq32_2', 'saq33_1', 'saq33_2', 'saq34_1', 'saq34_2', 'saq35_1',\n",
        "       'saq35_2', 'saq36_1', 'saq36_2', 'saq37_1', 'saq37_2', 'saq38_1',\n",
        "       'saq38_2', 'saq39_1', 'saq39_2', 'saq40_1', 'saq40_2', 'saq41_1',\n",
        "       'saq41_2', 'saq42_1', 'saq42_2', 'saq43_1', 'saq43_2', 'saq44_1',\n",
        "       'saq44_2',\n",
        "       'bq8_1', 'bq8_2', 'bq8_3',\n",
        "       'bq12_1', 'bq12_2', 'bq12_3', 'bq12_4', 'bq12_5',\n",
        "       'bq13_1', 'bq13_2', 'bq13_3', \n",
        "       'bq14_1','bq14_2', 'bq14_3', 'bq14_4', 'bq14_5', 'bq14_6', 'bq14_7',\n",
        "       'bq1'],axis=1)\n",
        "ts20_del=ts20_all.drop(['saq1_1', 'saq1_2', 'saq2_1', 'saq2_2', 'saq3_1', 'saq3_2', 'saq4_1',\n",
        "       'saq4_2', 'saq5_1', 'saq5_2', 'saq6_1', 'saq6_2', 'saq7_1', 'saq7_2',\n",
        "       'saq8_1', 'saq8_2', 'saq9_1', 'saq9_2', 'saq10_1', 'saq10_2', 'saq11_1',\n",
        "       'saq11_2', 'saq12_1', 'saq12_2', 'saq13_1', 'saq13_2', 'saq14_1',\n",
        "       'saq14_2', 'saq15_1', 'saq15_2', 'saq16_1', 'saq16_2', 'saq17_1',\n",
        "       'saq17_2', 'saq18_1', 'saq18_2', 'saq19_1', 'saq19_2', 'saq20_1',\n",
        "       'saq20_2', 'saq21_1', 'saq21_2', 'saq22_1', 'saq22_2', 'saq23_1',\n",
        "       'saq23_2', 'saq24_1', 'saq24_2', 'saq25_1', 'saq25_2', 'saq26_1',\n",
        "       'saq26_2', 'saq27_1', 'saq27_2', 'saq28_1', 'saq28_2', 'saq29_1',\n",
        "       'saq29_2', 'saq30_1', 'saq30_2', 'saq31_1', 'saq31_2', 'saq32_1',\n",
        "       'saq32_2', 'saq33_1', 'saq33_2', 'saq34_1', 'saq34_2', 'saq35_1',\n",
        "       'saq35_2', 'saq36_1', 'saq36_2', 'saq37_1', 'saq37_2', 'saq38_1',\n",
        "       'saq38_2', 'saq39_1', 'saq39_2', 'saq40_1', 'saq40_2', 'saq41_1',\n",
        "       'saq41_2', 'saq42_1', 'saq42_2', 'saq43_1', 'saq43_2', 'saq44_1',\n",
        "       'saq44_2',\n",
        "       'bq8_1', 'bq8_2', 'bq8_3',\n",
        "       'bq12_1', 'bq12_2', 'bq12_3', 'bq12_4', 'bq12_5',\n",
        "       'bq13_1', 'bq13_2', 'bq13_3', \n",
        "       'bq14_1','bq14_2', 'bq14_3', 'bq14_4', 'bq14_5', 'bq14_6', 'bq14_7',\n",
        "       'bq1'],axis=1)"
      ]
    },
    {
      "cell_type": "code",
      "execution_count": null,
      "metadata": {
        "id": "Tyi9o6gBfVZi"
      },
      "outputs": [],
      "source": [
        "from sklearn.neighbors import KNeighborsClassifier\n",
        "from sklearn.naive_bayes import GaussianNB\n",
        "from sklearn.tree import DecisionTreeClassifier\n",
        "from sklearn.ensemble import RandomForestClassifier\n",
        "from lightgbm import LGBMClassifier\n",
        "from sklearn.ensemble import GradientBoostingClassifier\n",
        "import xgboost as xgb\n",
        "from sklearn.neural_network import MLPClassifier\n",
        "from sklearn.model_selection import train_test_split, cross_val_score\n",
        "from sklearn.model_selection import KFold, learning_curve\n",
        "from sklearn.metrics import f1_score\n",
        "from sklearn import preprocessing, metrics"
      ]
    },
    {
      "cell_type": "code",
      "execution_count": null,
      "metadata": {
        "id": "X2PM2Gp6H1Tp"
      },
      "outputs": [],
      "source": [
        "y17=tr17_all['knowcode']; X17=tr17_del.drop('knowcode', axis=1, inplace=False)\n",
        "y18=tr18_all['knowcode']; X18=tr18_del.drop('knowcode', axis=1, inplace=False)\n",
        "y19=tr19_all['knowcode']; X19=tr19_del.drop('knowcode', axis=1, inplace=False)\n",
        "y20=tr20_all['knowcode']; X20=tr20_del.drop('knowcode', axis=1, inplace=False)"
      ]
    },
    {
      "cell_type": "code",
      "execution_count": null,
      "metadata": {
        "id": "wRv-q4LLwQbz"
      },
      "outputs": [],
      "source": [
        "tr20_all[['학과','bq1_new','bq1']].describe()"
      ]
    },
    {
      "cell_type": "code",
      "execution_count": null,
      "metadata": {
        "id": "0Pr9v4Qfwmpk"
      },
      "outputs": [],
      "source": [
        "from sklearn.preprocessing import LabelEncoder\n",
        "encoder = LabelEncoder()\n",
        "col=['학과','bq1_new']\n",
        "# tr20_all['학과']=encoder.fit_transform(tr20_all['학과'])\n",
        "# tr20_all['bq1_new']=encoder.fit_transform(tr20_all['bq1_new'])\n",
        "# ts20_all['학과']=encoder.fit_transform(ts20_all['학과'])\n",
        "# ts20_all['bq1_new']=encoder.fit_transform(ts20_all['bq1_new'])\n",
        "tr20_all[['bq1','학과','bq1_new']]=tr20_all[['bq1','학과','bq1_new']].astype(str)\n",
        "tr20_all[['bq1','학과','bq1_new']]=ts20_all[['bq1','학과','bq1_new']].astype(str)"
      ]
    },
    {
      "cell_type": "code",
      "execution_count": null,
      "metadata": {
        "id": "xVI4lQ4LwfkA"
      },
      "outputs": [],
      "source": [
        "from sklearn.preprocessing import LabelEncoder\n",
        "years = ['2017', '2018', '2019', '2020']\n",
        "\n",
        "year_encoder = {}\n",
        "\n",
        "for year, df in zip(years, know_train):\n",
        "    print(year)\n",
        "    encoders = {}\n",
        "    \n",
        "    for col in df.columns:\n",
        "        if col == 'ID':\n",
        "            continue\n",
        "        \n",
        "        try:\n",
        "            df[col] = df[col].map(int)\n",
        "        except:\n",
        "            encoder = LabelEncoder()\n",
        "            df[col] = df[col].map(str)\n",
        "            df[col] = encoder.fit_transform(df[col])\n",
        "            encoders[col] = encoder\n",
        "            \n",
        "            \n",
        "    year_encoder[year] = encoders"
      ]
    },
    {
      "cell_type": "code",
      "execution_count": null,
      "metadata": {
        "id": "43G0mvsfwLUw"
      },
      "outputs": [],
      "source": [
        "y20=tr20_all['knowcode']; X20=tr20_all.drop('knowcode', axis=1, inplace=False)"
      ]
    },
    {
      "cell_type": "code",
      "execution_count": null,
      "metadata": {
        "id": "u-GRo3elsC05"
      },
      "outputs": [],
      "source": [
        "X20.columns[100:]"
      ]
    },
    {
      "cell_type": "code",
      "execution_count": null,
      "metadata": {
        "id": "lHYPmhlJHt2H"
      },
      "outputs": [],
      "source": [
        "model1 = CatBoostClassifier( task_type = \"GPU\" )\n",
        "model1.fit(X17, y17,cat_features=cat17, early_stopping_rounds=50)\n",
        "pred17=model1.predict(ts17_del)"
      ]
    },
    {
      "cell_type": "code",
      "execution_count": null,
      "metadata": {
        "id": "IWyHd4_gObwh"
      },
      "outputs": [],
      "source": [
        "pred17df=pd.DataFrame(pred17)\n",
        "pred17df.to_csv('/content/drive/MyDrive/잡데이터제출/pred17.csv')"
      ]
    },
    {
      "cell_type": "code",
      "execution_count": null,
      "metadata": {
        "id": "97D6tZgTH_UC"
      },
      "outputs": [],
      "source": [
        "model1 = CatBoostClassifier(task_type = \"GPU\"  )\n",
        "model1.fit(X18, y18,cat_features=cat18,early_stopping_rounds=50)\n",
        "pred18=model1.predict(ts18_del)"
      ]
    },
    {
      "cell_type": "code",
      "execution_count": null,
      "metadata": {
        "id": "l5m3oRzeO0Vl"
      },
      "outputs": [],
      "source": [
        "pred17df=pd.DataFrame(pred18)\n",
        "pred17df.to_csv('/content/drive/MyDrive/잡데이터제출/pred18.csv')"
      ]
    },
    {
      "cell_type": "code",
      "execution_count": null,
      "metadata": {
        "id": "3fCZlPOTH_Z4"
      },
      "outputs": [],
      "source": [
        "model1 = CatBoostClassifier( task_type = \"GPU\" )\n",
        "model1.fit(X19, y19,cat_features=cat19,early_stopping_rounds=50)\n",
        "pred19=model1.predict(ts19_del)"
      ]
    },
    {
      "cell_type": "code",
      "execution_count": null,
      "metadata": {
        "id": "fWhSw32aO5Bl"
      },
      "outputs": [],
      "source": [
        "pred17df=pd.DataFrame(pred19)\n",
        "pred17df.to_csv('/content/drive/MyDrive/잡데이터제출/pred19.csv')"
      ]
    },
    {
      "cell_type": "code",
      "execution_count": null,
      "metadata": {
        "id": "rFLxdNbBH_h8"
      },
      "outputs": [],
      "source": [
        "model1 = CatBoostClassifier(task_type = \"GPU\"  )\n",
        "model1.fit(X20, y20,cat_features=cat20,early_stopping_rounds=50)\n",
        "pred20=model1.predict(ts20_del)"
      ]
    },
    {
      "cell_type": "code",
      "execution_count": null,
      "metadata": {
        "id": "UzgFC4R-O7zk"
      },
      "outputs": [],
      "source": [
        "pred17df=pd.DataFrame(pred20)\n",
        "pred17df.to_csv('/content/drive/MyDrive/잡데이터제출/pred20.csv')"
      ]
    },
    {
      "cell_type": "code",
      "execution_count": null,
      "metadata": {
        "id": "A7XXIWsRH_ri"
      },
      "outputs": [],
      "source": [
        "a=np.concatenate((pred17, pred18,pred19,pred20), axis=None)\n",
        "submission = pd.read_csv('/content/drive/MyDrive/조달청 공모전/know_data/sample_submission.csv') # sample submission 불러오기\n",
        "submission['knowcode'] = a\n",
        "\n",
        "submission.to_csv('/content/drive/MyDrive/잡데이터제출/submission0122_del_cb.csv', index=False)"
      ]
    },
    {
      "cell_type": "code",
      "execution_count": null,
      "metadata": {
        "id": "rhM_GlZKTz-c"
      },
      "outputs": [],
      "source": [
        "aa=np.concatenate((y17, y18,y19,y20), axis=None)\n",
        "f1 = f1_score(aa, a, average='macro')\n",
        "print(f1)"
      ]
    },
    {
      "cell_type": "code",
      "execution_count": null,
      "metadata": {
        "id": "dWKYzwK76MWq"
      },
      "outputs": [],
      "source": [
        "tr20_del['bq1']=tr20_del['bq1'].astype(str)\n",
        "ts20_del['bq1']=ts20_del['bq1'].astype(str)"
      ]
    },
    {
      "cell_type": "markdown",
      "metadata": {
        "id": "LjLfCB3KvSBg"
      },
      "source": [
        "# 모델링"
      ]
    },
    {
      "cell_type": "markdown",
      "metadata": {
        "id": "yFsHCYFmfXJv"
      },
      "source": [
        "## 20 all 모델링 0.484"
      ]
    },
    {
      "cell_type": "code",
      "execution_count": null,
      "metadata": {
        "id": "guhn4JKpfd2p"
      },
      "outputs": [],
      "source": [
        "y17=tr17_all['knowcode']; X17=tr17_all.drop('knowcode', axis=1, inplace=False)\n",
        "y18=tr18_all['knowcode']; X18=tr18_all.drop('knowcode', axis=1, inplace=False)\n",
        "y19=tr19_all['knowcode']; X19=tr19_all.drop('knowcode', axis=1, inplace=False)\n",
        "y20=tr20_all['knowcode']; X20=tr20_all.drop('knowcode', axis=1, inplace=False)"
      ]
    },
    {
      "cell_type": "code",
      "execution_count": null,
      "metadata": {
        "id": "LrgEooa2foBx"
      },
      "outputs": [],
      "source": [
        "X_train, X_test, Y_train, Y_test = train_test_split(X20, y20, test_size = 0.20, random_state=3)"
      ]
    },
    {
      "cell_type": "code",
      "execution_count": null,
      "metadata": {
        "id": "nXe7xKTSgUTA"
      },
      "outputs": [],
      "source": [
        "clfs = [KNeighborsClassifier(n_neighbors = 1), # 버려\n",
        "      GaussianNB(),                            # 버려\n",
        "      DecisionTreeClassifier(splitter = 'random'), # 버려\n",
        "       RandomForestClassifier(random_state=3)\n",
        "        ]\n",
        "clfName = {1:'KNN', 2:'Naive Bayes', 3:'Decision Trees', 4:'Random Forests'}\n",
        "\n",
        "for i in range(len(clfs)):\n",
        "    scores = cross_val_score(clfs[i], X_train, Y_train.ravel(), cv=5, scoring = 'f1')\n",
        "    print (\"mean validation F1 for\",clfName[i+1])\n",
        "    clf = clfs[i].fit(X_train, Y_train.ravel())\n",
        "    Y_pred = clf.predict(X_test)\n",
        "    f1 = f1_score(Y_test, Y_pred, average='macro')\n",
        "    print ('Test F1 for',clfName[i+1], \":\", f1)"
      ]
    },
    {
      "cell_type": "markdown",
      "metadata": {
        "id": "iYlm9uHjvX_5"
      },
      "source": [
        "## 20 del 모델링 0.466"
      ]
    },
    {
      "cell_type": "code",
      "execution_count": null,
      "metadata": {
        "id": "Lgjq_fzgvX_6"
      },
      "outputs": [],
      "source": [
        "# y17=tr17_all['knowcode']; X17=tr17_all.drop('knowcode', axis=1, inplace=False)\n",
        "# y18=tr18_all['knowcode']; X18=tr18_all.drop('knowcode', axis=1, inplace=False)\n",
        "# y19=tr19_all['knowcode']; X19=tr19_all.drop('knowcode', axis=1, inplace=False)\n",
        "y20=tr20_all['knowcode']; X20=tr20_del.drop('knowcode', axis=1, inplace=False)"
      ]
    },
    {
      "cell_type": "code",
      "execution_count": null,
      "metadata": {
        "id": "lM1fcxKyvX_6"
      },
      "outputs": [],
      "source": [
        "X_train, X_test, Y_train, Y_test = train_test_split(X20, y20, test_size = 0.20, random_state=3)"
      ]
    },
    {
      "cell_type": "code",
      "execution_count": null,
      "metadata": {
        "id": "6W08uVqkusb5"
      },
      "outputs": [],
      "source": [
        "X20.describe(include='object')"
      ]
    },
    {
      "cell_type": "code",
      "execution_count": null,
      "metadata": {
        "id": "8fbTVgcPu2Nz"
      },
      "outputs": [],
      "source": [
        "X20=X20.drop(['학과','bq1_new'],axis=1)"
      ]
    },
    {
      "cell_type": "code",
      "execution_count": null,
      "metadata": {
        "id": "JiD_WIfJvX_7"
      },
      "outputs": [],
      "source": [
        "clfs = [\n",
        "       RandomForestClassifier(random_state=3)\n",
        "        ]\n",
        "clfName = {1:'Random Forests'}\n",
        "\n",
        "for i in range(len(clfs)):\n",
        "    scores = cross_val_score(clfs[i], X_train, Y_train.ravel(), cv=5, scoring = 'f1')\n",
        "    print (\"mean validation F1 for\",clfName[i+1])\n",
        "    clf = clfs[i].fit(X_train, Y_train.ravel())\n",
        "    Y_pred = clf.predict(X_test)\n",
        "    f1 = f1_score(Y_test, Y_pred, average='macro')\n",
        "    print ('Test F1 for',clfName[i+1], \":\", f1)"
      ]
    },
    {
      "cell_type": "markdown",
      "metadata": {
        "id": "vEs7_-X1vsly"
      },
      "source": [
        "## **20 bq1알파벳(a~j) +원래범주(obj21) 0.490**"
      ]
    },
    {
      "cell_type": "code",
      "execution_count": null,
      "metadata": {
        "id": "X5Hjv2LZz1iC"
      },
      "outputs": [],
      "source": [
        "tr20_del1=tr20_all.drop(['saq1_1', 'saq1_2', 'saq2_1', 'saq2_2', 'saq3_1', 'saq3_2', 'saq4_1',\n",
        "       'saq4_2', 'saq5_1', 'saq5_2', 'saq6_1', 'saq6_2', 'saq7_1', 'saq7_2',\n",
        "       'saq8_1', 'saq8_2', 'saq9_1', 'saq9_2', 'saq10_1', 'saq10_2', 'saq11_1',\n",
        "       'saq11_2', 'saq12_1', 'saq12_2', 'saq13_1', 'saq13_2', 'saq14_1',\n",
        "       'saq14_2', 'saq15_1', 'saq15_2', 'saq16_1', 'saq16_2', 'saq17_1',\n",
        "       'saq17_2', 'saq18_1', 'saq18_2', 'saq19_1', 'saq19_2', 'saq20_1',\n",
        "       'saq20_2', 'saq21_1', 'saq21_2', 'saq22_1', 'saq22_2', 'saq23_1',\n",
        "       'saq23_2', 'saq24_1', 'saq24_2', 'saq25_1', 'saq25_2', 'saq26_1',\n",
        "       'saq26_2', 'saq27_1', 'saq27_2', 'saq28_1', 'saq28_2', 'saq29_1',\n",
        "       'saq29_2', 'saq30_1', 'saq30_2', 'saq31_1', 'saq31_2', 'saq32_1',\n",
        "       'saq32_2', 'saq33_1', 'saq33_2', 'saq34_1', 'saq34_2', 'saq35_1',\n",
        "       'saq35_2', 'saq36_1', 'saq36_2', 'saq37_1', 'saq37_2', 'saq38_1',\n",
        "       'saq38_2', 'saq39_1', 'saq39_2', 'saq40_1', 'saq40_2', 'saq41_1',\n",
        "       'saq41_2', 'saq42_1', 'saq42_2', 'saq43_1', 'saq43_2', 'saq44_1',\n",
        "       'saq44_2',\n",
        "       'bq8_1', 'bq8_2', 'bq8_3',\n",
        "       'bq12_1', 'bq12_2', 'bq12_3', 'bq12_4', 'bq12_5',\n",
        "       'bq13_1', 'bq13_2', 'bq13_3', \n",
        "       'bq14_1','bq14_2', 'bq14_3', 'bq14_4', 'bq14_5', 'bq14_6', 'bq14_7'],axis=1)\n",
        "ts20_del1=ts20_all.drop(['saq1_1', 'saq1_2', 'saq2_1', 'saq2_2', 'saq3_1', 'saq3_2', 'saq4_1',\n",
        "       'saq4_2', 'saq5_1', 'saq5_2', 'saq6_1', 'saq6_2', 'saq7_1', 'saq7_2',\n",
        "       'saq8_1', 'saq8_2', 'saq9_1', 'saq9_2', 'saq10_1', 'saq10_2', 'saq11_1',\n",
        "       'saq11_2', 'saq12_1', 'saq12_2', 'saq13_1', 'saq13_2', 'saq14_1',\n",
        "       'saq14_2', 'saq15_1', 'saq15_2', 'saq16_1', 'saq16_2', 'saq17_1',\n",
        "       'saq17_2', 'saq18_1', 'saq18_2', 'saq19_1', 'saq19_2', 'saq20_1',\n",
        "       'saq20_2', 'saq21_1', 'saq21_2', 'saq22_1', 'saq22_2', 'saq23_1',\n",
        "       'saq23_2', 'saq24_1', 'saq24_2', 'saq25_1', 'saq25_2', 'saq26_1',\n",
        "       'saq26_2', 'saq27_1', 'saq27_2', 'saq28_1', 'saq28_2', 'saq29_1',\n",
        "       'saq29_2', 'saq30_1', 'saq30_2', 'saq31_1', 'saq31_2', 'saq32_1',\n",
        "       'saq32_2', 'saq33_1', 'saq33_2', 'saq34_1', 'saq34_2', 'saq35_1',\n",
        "       'saq35_2', 'saq36_1', 'saq36_2', 'saq37_1', 'saq37_2', 'saq38_1',\n",
        "       'saq38_2', 'saq39_1', 'saq39_2', 'saq40_1', 'saq40_2', 'saq41_1',\n",
        "       'saq41_2', 'saq42_1', 'saq42_2', 'saq43_1', 'saq43_2', 'saq44_1',\n",
        "       'saq44_2',\n",
        "       'bq8_1', 'bq8_2', 'bq8_3',\n",
        "       'bq12_1', 'bq12_2', 'bq12_3', 'bq12_4', 'bq12_5',\n",
        "       'bq13_1', 'bq13_2', 'bq13_3', \n",
        "       'bq14_1','bq14_2', 'bq14_3', 'bq14_4', 'bq14_5', 'bq14_6', 'bq14_7'],axis=1)"
      ]
    },
    {
      "cell_type": "code",
      "execution_count": null,
      "metadata": {
        "id": "AXw7Cuncvsly"
      },
      "outputs": [],
      "source": [
        "\n",
        "y20=tr20_all['knowcode']; X20=tr20_del1.drop('knowcode', axis=1, inplace=False)"
      ]
    },
    {
      "cell_type": "code",
      "execution_count": null,
      "metadata": {
        "id": "EpdO9c6Jvslz"
      },
      "outputs": [],
      "source": [
        "X_train, X_test, Y_train, Y_test = train_test_split(X20, y20, test_size = 0.20, random_state=3)"
      ]
    },
    {
      "cell_type": "code",
      "execution_count": null,
      "metadata": {
        "id": "oAWYimrDvslz"
      },
      "outputs": [],
      "source": [
        "clfs = [KNeighborsClassifier(n_neighbors = 1), # 버려\n",
        "      GaussianNB(),                            # 버려\n",
        "      DecisionTreeClassifier(splitter = 'random'), # 버려\n",
        "       RandomForestClassifier(random_state=3)\n",
        "        ]\n",
        "clfName = {1:'KNN', 2:'Naive Bayes', 3:'Decision Trees', 4:'Random Forests'}\n",
        "\n",
        "for i in range(len(clfs)):\n",
        "    scores = cross_val_score(clfs[i], X_train, Y_train.ravel(), cv=5, scoring = 'f1')\n",
        "    print (\"mean validation F1 for\",clfName[i+1])\n",
        "    clf = clfs[i].fit(X_train, Y_train.ravel())\n",
        "    Y_pred = clf.predict(X_test)\n",
        "    f1 = f1_score(Y_test, Y_pred, average='macro')\n",
        "    print ('Test F1 for',clfName[i+1], \":\", f1)"
      ]
    },
    {
      "cell_type": "markdown",
      "metadata": {
        "id": "m4HFafMC8jFz"
      },
      "source": [
        "## 20 bq1 원래범주(obj21)제거, 알파벳만 0.461"
      ]
    },
    {
      "cell_type": "code",
      "execution_count": null,
      "metadata": {
        "id": "wvK6P0jO8jF1"
      },
      "outputs": [],
      "source": [
        "tr20_del1=tr20_all.drop(['saq1_1', 'saq1_2', 'saq2_1', 'saq2_2', 'saq3_1', 'saq3_2', 'saq4_1',\n",
        "       'saq4_2', 'saq5_1', 'saq5_2', 'saq6_1', 'saq6_2', 'saq7_1', 'saq7_2',\n",
        "       'saq8_1', 'saq8_2', 'saq9_1', 'saq9_2', 'saq10_1', 'saq10_2', 'saq11_1',\n",
        "       'saq11_2', 'saq12_1', 'saq12_2', 'saq13_1', 'saq13_2', 'saq14_1',\n",
        "       'saq14_2', 'saq15_1', 'saq15_2', 'saq16_1', 'saq16_2', 'saq17_1',\n",
        "       'saq17_2', 'saq18_1', 'saq18_2', 'saq19_1', 'saq19_2', 'saq20_1',\n",
        "       'saq20_2', 'saq21_1', 'saq21_2', 'saq22_1', 'saq22_2', 'saq23_1',\n",
        "       'saq23_2', 'saq24_1', 'saq24_2', 'saq25_1', 'saq25_2', 'saq26_1',\n",
        "       'saq26_2', 'saq27_1', 'saq27_2', 'saq28_1', 'saq28_2', 'saq29_1',\n",
        "       'saq29_2', 'saq30_1', 'saq30_2', 'saq31_1', 'saq31_2', 'saq32_1',\n",
        "       'saq32_2', 'saq33_1', 'saq33_2', 'saq34_1', 'saq34_2', 'saq35_1',\n",
        "       'saq35_2', 'saq36_1', 'saq36_2', 'saq37_1', 'saq37_2', 'saq38_1',\n",
        "       'saq38_2', 'saq39_1', 'saq39_2', 'saq40_1', 'saq40_2', 'saq41_1',\n",
        "       'saq41_2', 'saq42_1', 'saq42_2', 'saq43_1', 'saq43_2', 'saq44_1',\n",
        "       'saq44_2','bq1_new_a', 'bq1_new_b',\n",
        "       'bq1_new_c', 'bq1_new_d', 'bq1_new_e', 'bq1_new_f', 'bq1_new_g',\n",
        "       'bq1_new_h', 'bq1_new_i', 'bq1_new_j',\n",
        "       'bq8_1', 'bq8_2', 'bq8_3',\n",
        "       'bq12_1', 'bq12_2', 'bq12_3', 'bq12_4', 'bq12_5',\n",
        "       'bq13_1', 'bq13_2', 'bq13_3', \n",
        "       'bq14_1','bq14_2', 'bq14_3', 'bq14_4', 'bq14_5', 'bq14_6', 'bq14_7'],axis=1)\n",
        "ts20_del1=ts20_all.drop(['saq1_1', 'saq1_2', 'saq2_1', 'saq2_2', 'saq3_1', 'saq3_2', 'saq4_1',\n",
        "       'saq4_2', 'saq5_1', 'saq5_2', 'saq6_1', 'saq6_2', 'saq7_1', 'saq7_2',\n",
        "       'saq8_1', 'saq8_2', 'saq9_1', 'saq9_2', 'saq10_1', 'saq10_2', 'saq11_1',\n",
        "       'saq11_2', 'saq12_1', 'saq12_2', 'saq13_1', 'saq13_2', 'saq14_1',\n",
        "       'saq14_2', 'saq15_1', 'saq15_2', 'saq16_1', 'saq16_2', 'saq17_1',\n",
        "       'saq17_2', 'saq18_1', 'saq18_2', 'saq19_1', 'saq19_2', 'saq20_1',\n",
        "       'saq20_2', 'saq21_1', 'saq21_2', 'saq22_1', 'saq22_2', 'saq23_1',\n",
        "       'saq23_2', 'saq24_1', 'saq24_2', 'saq25_1', 'saq25_2', 'saq26_1',\n",
        "       'saq26_2', 'saq27_1', 'saq27_2', 'saq28_1', 'saq28_2', 'saq29_1',\n",
        "       'saq29_2', 'saq30_1', 'saq30_2', 'saq31_1', 'saq31_2', 'saq32_1',\n",
        "       'saq32_2', 'saq33_1', 'saq33_2', 'saq34_1', 'saq34_2', 'saq35_1',\n",
        "       'saq35_2', 'saq36_1', 'saq36_2', 'saq37_1', 'saq37_2', 'saq38_1',\n",
        "       'saq38_2', 'saq39_1', 'saq39_2', 'saq40_1', 'saq40_2', 'saq41_1',\n",
        "       'saq41_2', 'saq42_1', 'saq42_2', 'saq43_1', 'saq43_2', 'saq44_1',\n",
        "       'saq44_2','bq1_new_a', 'bq1_new_b',\n",
        "       'bq1_new_c', 'bq1_new_d', 'bq1_new_e', 'bq1_new_f', 'bq1_new_g',\n",
        "       'bq1_new_h', 'bq1_new_i', 'bq1_new_j',\n",
        "       'bq8_1', 'bq8_2', 'bq8_3',\n",
        "       'bq12_1', 'bq12_2', 'bq12_3', 'bq12_4', 'bq12_5',\n",
        "       'bq13_1', 'bq13_2', 'bq13_3', \n",
        "       'bq14_1','bq14_2', 'bq14_3', 'bq14_4', 'bq14_5', 'bq14_6', 'bq14_7'],axis=1)"
      ]
    },
    {
      "cell_type": "code",
      "execution_count": null,
      "metadata": {
        "id": "ULdlCkvH8jF2"
      },
      "outputs": [],
      "source": [
        "\n",
        "y20=tr20_all['knowcode']; X20=tr20_del1.drop('knowcode', axis=1, inplace=False)"
      ]
    },
    {
      "cell_type": "code",
      "execution_count": null,
      "metadata": {
        "id": "UoQyQzEy8jF3"
      },
      "outputs": [],
      "source": [
        "X_train, X_test, Y_train, Y_test = train_test_split(X20, y20, test_size = 0.20, random_state=3)"
      ]
    },
    {
      "cell_type": "code",
      "execution_count": null,
      "metadata": {
        "id": "8SkSCeH28jF3"
      },
      "outputs": [],
      "source": [
        "clfs = [KNeighborsClassifier(n_neighbors = 1), # 버려\n",
        "      GaussianNB(),                            # 버려\n",
        "      DecisionTreeClassifier(splitter = 'random'), # 버려\n",
        "       RandomForestClassifier(random_state=3)\n",
        "        ]\n",
        "clfName = {1:'KNN', 2:'Naive Bayes', 3:'Decision Trees', 4:'Random Forests'}\n",
        "\n",
        "for i in range(len(clfs)):\n",
        "    scores = cross_val_score(clfs[i], X_train, Y_train.ravel(), cv=5, scoring = 'f1')\n",
        "    print (\"mean validation F1 for\",clfName[i+1])\n",
        "    clf = clfs[i].fit(X_train, Y_train.ravel())\n",
        "    Y_pred = clf.predict(X_test)\n",
        "    f1 = f1_score(Y_test, Y_pred, average='macro')\n",
        "    print ('Test F1 for',clfName[i+1], \":\", f1)"
      ]
    },
    {
      "cell_type": "code",
      "execution_count": null,
      "metadata": {
        "id": "p3Bc2IOg8dRN"
      },
      "outputs": [],
      "source": [
        ""
      ]
    },
    {
      "cell_type": "markdown",
      "metadata": {
        "id": "LYs37ke3FFzV"
      },
      "source": [
        "## **20 bq1알파벳(a~j) +원래범주(obj21) + bq8 추가 0.491**\n",
        "## **20 bq1알파벳(a~j) +원래범주(obj21) + bq8,12,13,14 추가 0.503**\n",
        "\n",
        "* bq13,14은 각각 보면 버리는게 맞음 근데 둘을 뺐을때 0.484"
      ]
    },
    {
      "cell_type": "code",
      "execution_count": null,
      "metadata": {
        "id": "xmhocrkRFFze"
      },
      "outputs": [],
      "source": [
        "tr20_del1=tr20_all.drop(['saq1_1', 'saq1_2', 'saq2_1', 'saq2_2', 'saq3_1', 'saq3_2', 'saq4_1',\n",
        "       'saq4_2', 'saq5_1', 'saq5_2', 'saq6_1', 'saq6_2', 'saq7_1', 'saq7_2',\n",
        "       'saq8_1', 'saq8_2', 'saq9_1', 'saq9_2', 'saq10_1', 'saq10_2', 'saq11_1',\n",
        "       'saq11_2', 'saq12_1', 'saq12_2', 'saq13_1', 'saq13_2', 'saq14_1',\n",
        "       'saq14_2', 'saq15_1', 'saq15_2', 'saq16_1', 'saq16_2', 'saq17_1',\n",
        "       'saq17_2', 'saq18_1', 'saq18_2', 'saq19_1', 'saq19_2', 'saq20_1',\n",
        "       'saq20_2', 'saq21_1', 'saq21_2', 'saq22_1', 'saq22_2', 'saq23_1',\n",
        "       'saq23_2', 'saq24_1', 'saq24_2', 'saq25_1', 'saq25_2', 'saq26_1',\n",
        "       'saq26_2', 'saq27_1', 'saq27_2', 'saq28_1', 'saq28_2', 'saq29_1',\n",
        "       'saq29_2', 'saq30_1', 'saq30_2', 'saq31_1', 'saq31_2', 'saq32_1',\n",
        "       'saq32_2', 'saq33_1', 'saq33_2', 'saq34_1', 'saq34_2', 'saq35_1',\n",
        "       'saq35_2', 'saq36_1', 'saq36_2', 'saq37_1', 'saq37_2', 'saq38_1',\n",
        "       'saq38_2', 'saq39_1', 'saq39_2', 'saq40_1', 'saq40_2', 'saq41_1',\n",
        "       'saq41_2', 'saq42_1', 'saq42_2', 'saq43_1', 'saq43_2', 'saq44_1',\n",
        "       'saq44_2'],axis=1)\n",
        "ts20_del1=ts20_all.drop(['saq1_1', 'saq1_2', 'saq2_1', 'saq2_2', 'saq3_1', 'saq3_2', 'saq4_1',\n",
        "       'saq4_2', 'saq5_1', 'saq5_2', 'saq6_1', 'saq6_2', 'saq7_1', 'saq7_2',\n",
        "       'saq8_1', 'saq8_2', 'saq9_1', 'saq9_2', 'saq10_1', 'saq10_2', 'saq11_1',\n",
        "       'saq11_2', 'saq12_1', 'saq12_2', 'saq13_1', 'saq13_2', 'saq14_1',\n",
        "       'saq14_2', 'saq15_1', 'saq15_2', 'saq16_1', 'saq16_2', 'saq17_1',\n",
        "       'saq17_2', 'saq18_1', 'saq18_2', 'saq19_1', 'saq19_2', 'saq20_1',\n",
        "       'saq20_2', 'saq21_1', 'saq21_2', 'saq22_1', 'saq22_2', 'saq23_1',\n",
        "       'saq23_2', 'saq24_1', 'saq24_2', 'saq25_1', 'saq25_2', 'saq26_1',\n",
        "       'saq26_2', 'saq27_1', 'saq27_2', 'saq28_1', 'saq28_2', 'saq29_1',\n",
        "       'saq29_2', 'saq30_1', 'saq30_2', 'saq31_1', 'saq31_2', 'saq32_1',\n",
        "       'saq32_2', 'saq33_1', 'saq33_2', 'saq34_1', 'saq34_2', 'saq35_1',\n",
        "       'saq35_2', 'saq36_1', 'saq36_2', 'saq37_1', 'saq37_2', 'saq38_1',\n",
        "       'saq38_2', 'saq39_1', 'saq39_2', 'saq40_1', 'saq40_2', 'saq41_1',\n",
        "       'saq41_2', 'saq42_1', 'saq42_2', 'saq43_1', 'saq43_2', 'saq44_1',\n",
        "       'saq44_2'],axis=1)"
      ]
    },
    {
      "cell_type": "code",
      "execution_count": null,
      "metadata": {
        "id": "tFgbiNrbFFze"
      },
      "outputs": [],
      "source": [
        "\n",
        "y20=tr20_all['knowcode']; X20=tr20_del1.drop('knowcode', axis=1, inplace=False)"
      ]
    },
    {
      "cell_type": "code",
      "execution_count": null,
      "metadata": {
        "id": "SBZHMyWHFFzf"
      },
      "outputs": [],
      "source": [
        "X_train, X_test, Y_train, Y_test = train_test_split(X20, y20, test_size = 0.20, random_state=3)"
      ]
    },
    {
      "cell_type": "code",
      "execution_count": null,
      "metadata": {
        "id": "_OOy2QiBFFzf"
      },
      "outputs": [],
      "source": [
        "clfs = [KNeighborsClassifier(n_neighbors = 1), # 버려\n",
        "      GaussianNB(),                            # 버려\n",
        "      DecisionTreeClassifier(splitter = 'random'), # 버려\n",
        "       RandomForestClassifier(random_state=3)\n",
        "        ]\n",
        "clfName = {1:'KNN', 2:'Naive Bayes', 3:'Decision Trees', 4:'Random Forests'}\n",
        "\n",
        "for i in range(len(clfs)):\n",
        "    scores = cross_val_score(clfs[i], X_train, Y_train.ravel(), cv=5, scoring = 'f1')\n",
        "    print (\"mean validation F1 for\",clfName[i+1])\n",
        "    clf = clfs[i].fit(X_train, Y_train.ravel())\n",
        "    Y_pred = clf.predict(X_test)\n",
        "    f1 = f1_score(Y_test, Y_pred, average='macro')\n",
        "    print ('Test F1 for',clfName[i+1], \":\", f1)"
      ]
    },
    {
      "cell_type": "code",
      "execution_count": null,
      "metadata": {
        "id": "hdmp67j_pPdw"
      },
      "outputs": [],
      "source": [
        "importances = clfs[3].feature_importances_\n",
        "forest_importances = pd.Series(importances, index=X20.columns)\n",
        "plt.rcParams[\"figure.figsize\"] = (20,10)\n",
        "forest_importances.plot.bar()\n",
        "\n",
        "fig.tight_layout()"
      ]
    },
    {
      "cell_type": "markdown",
      "metadata": {
        "id": "ccWKsv7D1wFh"
      },
      "source": [
        "## 20 bq1 범주 빼고  실수 넣고 0.461"
      ]
    },
    {
      "cell_type": "code",
      "execution_count": null,
      "metadata": {
        "id": "TTobzeuU1wFn"
      },
      "outputs": [],
      "source": [
        "tr20_del1=tr20_all.drop(['saq1_1', 'saq1_2', 'saq2_1', 'saq2_2', 'saq3_1', 'saq3_2', 'saq4_1',\n",
        "       'saq4_2', 'saq5_1', 'saq5_2', 'saq6_1', 'saq6_2', 'saq7_1', 'saq7_2',\n",
        "       'saq8_1', 'saq8_2', 'saq9_1', 'saq9_2', 'saq10_1', 'saq10_2', 'saq11_1',\n",
        "       'saq11_2', 'saq12_1', 'saq12_2', 'saq13_1', 'saq13_2', 'saq14_1',\n",
        "       'saq14_2', 'saq15_1', 'saq15_2', 'saq16_1', 'saq16_2', 'saq17_1',\n",
        "       'saq17_2', 'saq18_1', 'saq18_2', 'saq19_1', 'saq19_2', 'saq20_1',\n",
        "       'saq20_2', 'saq21_1', 'saq21_2', 'saq22_1', 'saq22_2', 'saq23_1',\n",
        "       'saq23_2', 'saq24_1', 'saq24_2', 'saq25_1', 'saq25_2', 'saq26_1',\n",
        "       'saq26_2', 'saq27_1', 'saq27_2', 'saq28_1', 'saq28_2', 'saq29_1',\n",
        "       'saq29_2', 'saq30_1', 'saq30_2', 'saq31_1', 'saq31_2', 'saq32_1',\n",
        "       'saq32_2', 'saq33_1', 'saq33_2', 'saq34_1', 'saq34_2', 'saq35_1',\n",
        "       'saq35_2', 'saq36_1', 'saq36_2', 'saq37_1', 'saq37_2', 'saq38_1',\n",
        "       'saq38_2', 'saq39_1', 'saq39_2', 'saq40_1', 'saq40_2', 'saq41_1',\n",
        "       'saq41_2', 'saq42_1', 'saq42_2', 'saq43_1', 'saq43_2', 'saq44_1',\n",
        "       'saq44_2',\n",
        "       'bq8_1', 'bq8_2', 'bq8_3',\n",
        "       'bq12_1', 'bq12_2', 'bq12_3', 'bq12_4', 'bq12_5',\n",
        "       'bq13_1', 'bq13_2', 'bq13_3', \n",
        "       'bq14_1','bq14_2', 'bq14_3', 'bq14_4', 'bq14_5', 'bq14_6', 'bq14_7',\n",
        "       'bq1_new_a', 'bq1_new_b',\n",
        "       'bq1_new_c', 'bq1_new_d', 'bq1_new_e', 'bq1_new_f', 'bq1_new_g',\n",
        "       'bq1_new_h', 'bq1_new_i', 'bq1_new_j' ],axis=1)\n",
        "ts20_del1=ts20_all.drop(['saq1_1', 'saq1_2', 'saq2_1', 'saq2_2', 'saq3_1', 'saq3_2', 'saq4_1',\n",
        "       'saq4_2', 'saq5_1', 'saq5_2', 'saq6_1', 'saq6_2', 'saq7_1', 'saq7_2',\n",
        "       'saq8_1', 'saq8_2', 'saq9_1', 'saq9_2', 'saq10_1', 'saq10_2', 'saq11_1',\n",
        "       'saq11_2', 'saq12_1', 'saq12_2', 'saq13_1', 'saq13_2', 'saq14_1',\n",
        "       'saq14_2', 'saq15_1', 'saq15_2', 'saq16_1', 'saq16_2', 'saq17_1',\n",
        "       'saq17_2', 'saq18_1', 'saq18_2', 'saq19_1', 'saq19_2', 'saq20_1',\n",
        "       'saq20_2', 'saq21_1', 'saq21_2', 'saq22_1', 'saq22_2', 'saq23_1',\n",
        "       'saq23_2', 'saq24_1', 'saq24_2', 'saq25_1', 'saq25_2', 'saq26_1',\n",
        "       'saq26_2', 'saq27_1', 'saq27_2', 'saq28_1', 'saq28_2', 'saq29_1',\n",
        "       'saq29_2', 'saq30_1', 'saq30_2', 'saq31_1', 'saq31_2', 'saq32_1',\n",
        "       'saq32_2', 'saq33_1', 'saq33_2', 'saq34_1', 'saq34_2', 'saq35_1',\n",
        "       'saq35_2', 'saq36_1', 'saq36_2', 'saq37_1', 'saq37_2', 'saq38_1',\n",
        "       'saq38_2', 'saq39_1', 'saq39_2', 'saq40_1', 'saq40_2', 'saq41_1',\n",
        "       'saq41_2', 'saq42_1', 'saq42_2', 'saq43_1', 'saq43_2', 'saq44_1',\n",
        "       'saq44_2',\n",
        "       'bq8_1', 'bq8_2', 'bq8_3',\n",
        "       'bq12_1', 'bq12_2', 'bq12_3', 'bq12_4', 'bq12_5',\n",
        "       'bq13_1', 'bq13_2', 'bq13_3', \n",
        "       'bq14_1','bq14_2', 'bq14_3', 'bq14_4', 'bq14_5', 'bq14_6', 'bq14_7',\n",
        "       'bq1_new_a', 'bq1_new_b',\n",
        "       'bq1_new_c', 'bq1_new_d', 'bq1_new_e', 'bq1_new_f', 'bq1_new_g',\n",
        "       'bq1_new_h', 'bq1_new_i', 'bq1_new_j'],axis=1)"
      ]
    },
    {
      "cell_type": "code",
      "execution_count": null,
      "metadata": {
        "id": "pYVZNA5P1wFn"
      },
      "outputs": [],
      "source": [
        "\n",
        "y20=tr20_all['knowcode']; X20=tr20_del1.drop('knowcode', axis=1, inplace=False)"
      ]
    },
    {
      "cell_type": "code",
      "execution_count": null,
      "metadata": {
        "id": "Jg8jjYus1wFn"
      },
      "outputs": [],
      "source": [
        "X_train, X_test, Y_train, Y_test = train_test_split(X20, y20, test_size = 0.20, random_state=3)"
      ]
    },
    {
      "cell_type": "code",
      "execution_count": null,
      "metadata": {
        "id": "d1KA6sav1wFn"
      },
      "outputs": [],
      "source": [
        "clfs = [KNeighborsClassifier(n_neighbors = 1), # 버려\n",
        "      GaussianNB(),                            # 버려\n",
        "      DecisionTreeClassifier(splitter = 'random'), # 버려\n",
        "       RandomForestClassifier(random_state=3)\n",
        "        ]\n",
        "clfName = {1:'KNN', 2:'Naive Bayes', 3:'Decision Trees', 4:'Random Forests'}\n",
        "\n",
        "for i in range(len(clfs)):\n",
        "    scores = cross_val_score(clfs[i], X_train, Y_train.ravel(), cv=5, scoring = 'f1')\n",
        "    print (\"mean validation F1 for\",clfName[i+1])\n",
        "    clf = clfs[i].fit(X_train, Y_train.ravel())\n",
        "    Y_pred = clf.predict(X_test)\n",
        "    f1 = f1_score(Y_test, Y_pred, average='macro')\n",
        "    print ('Test F1 for',clfName[i+1], \":\", f1)"
      ]
    },
    {
      "cell_type": "code",
      "execution_count": null,
      "metadata": {
        "id": "BpcZs4d-mNZu"
      },
      "outputs": [],
      "source": [
        ""
      ]
    },
    {
      "cell_type": "markdown",
      "metadata": {
        "id": "2wnCavFw2wce"
      },
      "source": [
        "## 20 학과 빼기 0.4539"
      ]
    },
    {
      "cell_type": "code",
      "execution_count": null,
      "metadata": {
        "id": "v3REHMlp2wcx"
      },
      "outputs": [],
      "source": [
        "tr20_del1=tr20_all.drop(['saq1_1', 'saq1_2', 'saq2_1', 'saq2_2', 'saq3_1', 'saq3_2', 'saq4_1',\n",
        "       'saq4_2', 'saq5_1', 'saq5_2', 'saq6_1', 'saq6_2', 'saq7_1', 'saq7_2',\n",
        "       'saq8_1', 'saq8_2', 'saq9_1', 'saq9_2', 'saq10_1', 'saq10_2', 'saq11_1',\n",
        "       'saq11_2', 'saq12_1', 'saq12_2', 'saq13_1', 'saq13_2', 'saq14_1',\n",
        "       'saq14_2', 'saq15_1', 'saq15_2', 'saq16_1', 'saq16_2', 'saq17_1',\n",
        "       'saq17_2', 'saq18_1', 'saq18_2', 'saq19_1', 'saq19_2', 'saq20_1',\n",
        "       'saq20_2', 'saq21_1', 'saq21_2', 'saq22_1', 'saq22_2', 'saq23_1',\n",
        "       'saq23_2', 'saq24_1', 'saq24_2', 'saq25_1', 'saq25_2', 'saq26_1',\n",
        "       'saq26_2', 'saq27_1', 'saq27_2', 'saq28_1', 'saq28_2', 'saq29_1',\n",
        "       'saq29_2', 'saq30_1', 'saq30_2', 'saq31_1', 'saq31_2', 'saq32_1',\n",
        "       'saq32_2', 'saq33_1', 'saq33_2', 'saq34_1', 'saq34_2', 'saq35_1',\n",
        "       'saq35_2', 'saq36_1', 'saq36_2', 'saq37_1', 'saq37_2', 'saq38_1',\n",
        "       'saq38_2', 'saq39_1', 'saq39_2', 'saq40_1', 'saq40_2', 'saq41_1',\n",
        "       'saq41_2', 'saq42_1', 'saq42_2', 'saq43_1', 'saq43_2', 'saq44_1',\n",
        "       'saq44_2','bq1',\n",
        "       'bq8_1', 'bq8_2', 'bq8_3',\n",
        "       'bq12_1', 'bq12_2', 'bq12_3', 'bq12_4', 'bq12_5',\n",
        "       'bq13_1', 'bq13_2', 'bq13_3', \n",
        "       'bq14_1','bq14_2', 'bq14_3', 'bq14_4', 'bq14_5', 'bq14_6', 'bq14_7',\n",
        "       '학과_기타', '학과_문과', '학과_예체능',\n",
        "       '학과_의료', '학과_이과'],axis=1)\n",
        "ts20_del1=ts20_all.drop(['saq1_1', 'saq1_2', 'saq2_1', 'saq2_2', 'saq3_1', 'saq3_2', 'saq4_1',\n",
        "       'saq4_2', 'saq5_1', 'saq5_2', 'saq6_1', 'saq6_2', 'saq7_1', 'saq7_2',\n",
        "       'saq8_1', 'saq8_2', 'saq9_1', 'saq9_2', 'saq10_1', 'saq10_2', 'saq11_1',\n",
        "       'saq11_2', 'saq12_1', 'saq12_2', 'saq13_1', 'saq13_2', 'saq14_1',\n",
        "       'saq14_2', 'saq15_1', 'saq15_2', 'saq16_1', 'saq16_2', 'saq17_1',\n",
        "       'saq17_2', 'saq18_1', 'saq18_2', 'saq19_1', 'saq19_2', 'saq20_1',\n",
        "       'saq20_2', 'saq21_1', 'saq21_2', 'saq22_1', 'saq22_2', 'saq23_1',\n",
        "       'saq23_2', 'saq24_1', 'saq24_2', 'saq25_1', 'saq25_2', 'saq26_1',\n",
        "       'saq26_2', 'saq27_1', 'saq27_2', 'saq28_1', 'saq28_2', 'saq29_1',\n",
        "       'saq29_2', 'saq30_1', 'saq30_2', 'saq31_1', 'saq31_2', 'saq32_1',\n",
        "       'saq32_2', 'saq33_1', 'saq33_2', 'saq34_1', 'saq34_2', 'saq35_1',\n",
        "       'saq35_2', 'saq36_1', 'saq36_2', 'saq37_1', 'saq37_2', 'saq38_1',\n",
        "       'saq38_2', 'saq39_1', 'saq39_2', 'saq40_1', 'saq40_2', 'saq41_1',\n",
        "       'saq41_2', 'saq42_1', 'saq42_2', 'saq43_1', 'saq43_2', 'saq44_1',\n",
        "       'saq44_2','bq1',\n",
        "       'bq8_1', 'bq8_2', 'bq8_3',\n",
        "       'bq12_1', 'bq12_2', 'bq12_3', 'bq12_4', 'bq12_5',\n",
        "       'bq13_1', 'bq13_2', 'bq13_3', \n",
        "       'bq14_1','bq14_2', 'bq14_3', 'bq14_4', 'bq14_5', 'bq14_6', 'bq14_7',\n",
        "       '학과_기타', '학과_문과', '학과_예체능',\n",
        "       '학과_의료', '학과_이과'],axis=1)"
      ]
    },
    {
      "cell_type": "code",
      "execution_count": null,
      "metadata": {
        "id": "hhHC90Kz2wcx"
      },
      "outputs": [],
      "source": [
        "\n",
        "y20=tr20_all['knowcode']; X20=tr20_del1.drop('knowcode', axis=1, inplace=False)"
      ]
    },
    {
      "cell_type": "code",
      "execution_count": null,
      "metadata": {
        "id": "h90sgJNi2wcx"
      },
      "outputs": [],
      "source": [
        "X_train, X_test, Y_train, Y_test = train_test_split(X20, y20, test_size = 0.20, random_state=3)"
      ]
    },
    {
      "cell_type": "code",
      "execution_count": null,
      "metadata": {
        "id": "JjkbrsIr2wcx"
      },
      "outputs": [],
      "source": [
        "clfs = [KNeighborsClassifier(n_neighbors = 1), # 버려\n",
        "      GaussianNB(),                            # 버려\n",
        "      DecisionTreeClassifier(splitter = 'random'), # 버려\n",
        "       RandomForestClassifier(random_state=3)\n",
        "        ]\n",
        "clfName = {1:'KNN', 2:'Naive Bayes', 3:'Decision Trees', 4:'Random Forests'}\n",
        "\n",
        "for i in range(len(clfs)):\n",
        "    scores = cross_val_score(clfs[i], X_train, Y_train.ravel(), cv=5, scoring = 'f1')\n",
        "    print (\"mean validation F1 for\",clfName[i+1])\n",
        "    clf = clfs[i].fit(X_train, Y_train.ravel())\n",
        "    Y_pred = clf.predict(X_test)\n",
        "    f1 = f1_score(Y_test, Y_pred, average='macro')\n",
        "    print ('Test F1 for',clfName[i+1], \":\", f1)"
      ]
    },
    {
      "cell_type": "markdown",
      "metadata": {
        "id": "NQP6JZ3L3wgZ"
      },
      "source": [
        "## 20 saq 전부 원래대로(범주 제거) 0.474"
      ]
    },
    {
      "cell_type": "code",
      "execution_count": null,
      "metadata": {
        "id": "p_2fyUPP3wgl"
      },
      "outputs": [],
      "source": [
        "tr20_del1=tr20_all.drop(['bq1',\n",
        "       'bq8_1', 'bq8_2', 'bq8_3',\n",
        "       'bq12_1', 'bq12_2', 'bq12_3', 'bq12_4', 'bq12_5',\n",
        "       'bq13_1', 'bq13_2', 'bq13_3', \n",
        "       'bq14_1','bq14_2', 'bq14_3', 'bq14_4', 'bq14_5', 'bq14_6', 'bq14_7',\n",
        "       'saq1',\n",
        "       'saq2', 'saq3', 'saq4', 'saq5', 'saq6', 'saq7', 'saq8', 'saq9', 'saq10',\n",
        "       'saq11', 'saq12', 'saq13', 'saq14', 'saq15', 'saq16', 'saq17', 'saq18',\n",
        "       'saq19', 'saq20', 'saq21', 'saq22', 'saq23', 'saq24', 'saq25', 'saq26',\n",
        "       'saq27', 'saq28', 'saq29', 'saq30', 'saq31', 'saq32', 'saq33', 'saq34',\n",
        "       'saq35', 'saq36', 'saq37', 'saq38', 'saq39', 'saq40', 'saq41', 'saq42',\n",
        "       'saq43', 'saq44'],axis=1)\n",
        "ts20_del1=ts20_all.drop(['bq1',\n",
        "       'bq8_1', 'bq8_2', 'bq8_3',\n",
        "       'bq12_1', 'bq12_2', 'bq12_3', 'bq12_4', 'bq12_5',\n",
        "       'bq13_1', 'bq13_2', 'bq13_3', \n",
        "       'bq14_1','bq14_2', 'bq14_3', 'bq14_4', 'bq14_5', 'bq14_6', 'bq14_7',\n",
        "       'saq1',\n",
        "       'saq2', 'saq3', 'saq4', 'saq5', 'saq6', 'saq7', 'saq8', 'saq9', 'saq10',\n",
        "       'saq11', 'saq12', 'saq13', 'saq14', 'saq15', 'saq16', 'saq17', 'saq18',\n",
        "       'saq19', 'saq20', 'saq21', 'saq22', 'saq23', 'saq24', 'saq25', 'saq26',\n",
        "       'saq27', 'saq28', 'saq29', 'saq30', 'saq31', 'saq32', 'saq33', 'saq34',\n",
        "       'saq35', 'saq36', 'saq37', 'saq38', 'saq39', 'saq40', 'saq41', 'saq42',\n",
        "       'saq43', 'saq44'],axis=1)"
      ]
    },
    {
      "cell_type": "code",
      "execution_count": null,
      "metadata": {
        "id": "9NjGBdeV3wgm"
      },
      "outputs": [],
      "source": [
        "\n",
        "y20=tr20_all['knowcode']; X20=tr20_del1.drop('knowcode', axis=1, inplace=False)"
      ]
    },
    {
      "cell_type": "code",
      "execution_count": null,
      "metadata": {
        "id": "uO7A4gep3wgm"
      },
      "outputs": [],
      "source": [
        "X_train, X_test, Y_train, Y_test = train_test_split(X20, y20, test_size = 0.20, random_state=3)"
      ]
    },
    {
      "cell_type": "code",
      "execution_count": null,
      "metadata": {
        "id": "gaZteBKq3wgm"
      },
      "outputs": [],
      "source": [
        "clfs = [KNeighborsClassifier(n_neighbors = 1), # 버려\n",
        "      GaussianNB(),                            # 버려\n",
        "      DecisionTreeClassifier(splitter = 'random'), # 버려\n",
        "       RandomForestClassifier(random_state=3)\n",
        "        ]\n",
        "clfName = {1:'KNN', 2:'Naive Bayes', 3:'Decision Trees', 4:'Random Forests'}\n",
        "\n",
        "for i in range(len(clfs)):\n",
        "    scores = cross_val_score(clfs[i], X_train, Y_train.ravel(), cv=5, scoring = 'f1')\n",
        "    print (\"mean validation F1 for\",clfName[i+1])\n",
        "    clf = clfs[i].fit(X_train, Y_train.ravel())\n",
        "    Y_pred = clf.predict(X_test)\n",
        "    f1 = f1_score(Y_test, Y_pred, average='macro')\n",
        "    print ('Test F1 for',clfName[i+1], \":\", f1)"
      ]
    },
    {
      "cell_type": "markdown",
      "metadata": {
        "id": "h1sFjNTO4vpy"
      },
      "source": [
        "## 20 bq8~ 14 원래대로 0.458"
      ]
    },
    {
      "cell_type": "code",
      "execution_count": null,
      "metadata": {
        "id": "_vAbG1nH4vqG"
      },
      "outputs": [],
      "source": [
        "tr20_del1=tr20_all.drop(['saq1_1', 'saq1_2', 'saq2_1', 'saq2_2', 'saq3_1', 'saq3_2', 'saq4_1',\n",
        "       'saq4_2', 'saq5_1', 'saq5_2', 'saq6_1', 'saq6_2', 'saq7_1', 'saq7_2',\n",
        "       'saq8_1', 'saq8_2', 'saq9_1', 'saq9_2', 'saq10_1', 'saq10_2', 'saq11_1',\n",
        "       'saq11_2', 'saq12_1', 'saq12_2', 'saq13_1', 'saq13_2', 'saq14_1',\n",
        "       'saq14_2', 'saq15_1', 'saq15_2', 'saq16_1', 'saq16_2', 'saq17_1',\n",
        "       'saq17_2', 'saq18_1', 'saq18_2', 'saq19_1', 'saq19_2', 'saq20_1',\n",
        "       'saq20_2', 'saq21_1', 'saq21_2', 'saq22_1', 'saq22_2', 'saq23_1',\n",
        "       'saq23_2', 'saq24_1', 'saq24_2', 'saq25_1', 'saq25_2', 'saq26_1',\n",
        "       'saq26_2', 'saq27_1', 'saq27_2', 'saq28_1', 'saq28_2', 'saq29_1',\n",
        "       'saq29_2', 'saq30_1', 'saq30_2', 'saq31_1', 'saq31_2', 'saq32_1',\n",
        "       'saq32_2', 'saq33_1', 'saq33_2', 'saq34_1', 'saq34_2', 'saq35_1',\n",
        "       'saq35_2', 'saq36_1', 'saq36_2', 'saq37_1', 'saq37_2', 'saq38_1',\n",
        "       'saq38_2', 'saq39_1', 'saq39_2', 'saq40_1', 'saq40_2', 'saq41_1',\n",
        "       'saq41_2', 'saq42_1', 'saq42_2', 'saq43_1', 'saq43_2', 'saq44_1',\n",
        "       'saq44_2','bq1','bq8_sum',\n",
        "       'bq12_sum', 'bq13_sum', 'bq14_sum',],axis=1)\n",
        "ts20_del1=ts20_all.drop(['saq1_1', 'saq1_2', 'saq2_1', 'saq2_2', 'saq3_1', 'saq3_2', 'saq4_1',\n",
        "       'saq4_2', 'saq5_1', 'saq5_2', 'saq6_1', 'saq6_2', 'saq7_1', 'saq7_2',\n",
        "       'saq8_1', 'saq8_2', 'saq9_1', 'saq9_2', 'saq10_1', 'saq10_2', 'saq11_1',\n",
        "       'saq11_2', 'saq12_1', 'saq12_2', 'saq13_1', 'saq13_2', 'saq14_1',\n",
        "       'saq14_2', 'saq15_1', 'saq15_2', 'saq16_1', 'saq16_2', 'saq17_1',\n",
        "       'saq17_2', 'saq18_1', 'saq18_2', 'saq19_1', 'saq19_2', 'saq20_1',\n",
        "       'saq20_2', 'saq21_1', 'saq21_2', 'saq22_1', 'saq22_2', 'saq23_1',\n",
        "       'saq23_2', 'saq24_1', 'saq24_2', 'saq25_1', 'saq25_2', 'saq26_1',\n",
        "       'saq26_2', 'saq27_1', 'saq27_2', 'saq28_1', 'saq28_2', 'saq29_1',\n",
        "       'saq29_2', 'saq30_1', 'saq30_2', 'saq31_1', 'saq31_2', 'saq32_1',\n",
        "       'saq32_2', 'saq33_1', 'saq33_2', 'saq34_1', 'saq34_2', 'saq35_1',\n",
        "       'saq35_2', 'saq36_1', 'saq36_2', 'saq37_1', 'saq37_2', 'saq38_1',\n",
        "       'saq38_2', 'saq39_1', 'saq39_2', 'saq40_1', 'saq40_2', 'saq41_1',\n",
        "       'saq41_2', 'saq42_1', 'saq42_2', 'saq43_1', 'saq43_2', 'saq44_1',\n",
        "       'saq44_2','bq1','bq8_sum',\n",
        "       'bq12_sum', 'bq13_sum', 'bq14_sum',],axis=1)"
      ]
    },
    {
      "cell_type": "code",
      "execution_count": null,
      "metadata": {
        "id": "mb6Saond4vqH"
      },
      "outputs": [],
      "source": [
        "\n",
        "y20=tr20_all['knowcode']; X20=tr20_del1.drop('knowcode', axis=1, inplace=False)"
      ]
    },
    {
      "cell_type": "code",
      "execution_count": null,
      "metadata": {
        "id": "So0Kf-r04vqH"
      },
      "outputs": [],
      "source": [
        "X_train, X_test, Y_train, Y_test = train_test_split(X20, y20, test_size = 0.20, random_state=3)"
      ]
    },
    {
      "cell_type": "code",
      "execution_count": null,
      "metadata": {
        "id": "EmUaIB6p4vqI"
      },
      "outputs": [],
      "source": [
        "clfs = [KNeighborsClassifier(n_neighbors = 1), # 버려\n",
        "      GaussianNB(),                            # 버려\n",
        "      DecisionTreeClassifier(splitter = 'random'), # 버려\n",
        "       RandomForestClassifier(random_state=3)\n",
        "        ]\n",
        "clfName = {1:'KNN', 2:'Naive Bayes', 3:'Decision Trees', 4:'Random Forests'}\n",
        "\n",
        "for i in range(len(clfs)):\n",
        "    scores = cross_val_score(clfs[i], X_train, Y_train.ravel(), cv=5, scoring = 'f1')\n",
        "    print (\"mean validation F1 for\",clfName[i+1])\n",
        "    clf = clfs[i].fit(X_train, Y_train.ravel())\n",
        "    Y_pred = clf.predict(X_test)\n",
        "    f1 = f1_score(Y_test, Y_pred, average='macro')\n",
        "    print ('Test F1 for',clfName[i+1], \":\", f1)"
      ]
    },
    {
      "cell_type": "markdown",
      "metadata": {
        "id": "UzgSWPjQQeOC"
      },
      "source": [
        "\n",
        "## **20 bq1알파벳(a~j) +원래범주(obj21) + bq8,12,13,14 추가 "
      ]
    },
    {
      "cell_type": "markdown",
      "metadata": {
        "id": "N05SwunGKYgU"
      },
      "source": [
        "## xgboost\n"
      ]
    },
    {
      "cell_type": "code",
      "execution_count": null,
      "metadata": {
        "id": "q0jtuwTnKaCF"
      },
      "outputs": [],
      "source": [
        "df17=pd.read_csv('/content/drive/MyDrive/잡데이터제출/pred17.csv')\n",
        "df18=pd.read_csv('/content/drive/MyDrive/잡데이터제출/pred18.csv')"
      ]
    },
    {
      "cell_type": "code",
      "execution_count": null,
      "metadata": {
        "id": "l71jqT-cQeOD"
      },
      "outputs": [],
      "source": [
        "tr20_del1=tr20_all.drop(['saq1_1', 'saq1_2', 'saq2_1', 'saq2_2', 'saq3_1', 'saq3_2', 'saq4_1',\n",
        "       'saq4_2', 'saq5_1', 'saq5_2', 'saq6_1', 'saq6_2', 'saq7_1', 'saq7_2',\n",
        "       'saq8_1', 'saq8_2', 'saq9_1', 'saq9_2', 'saq10_1', 'saq10_2', 'saq11_1',\n",
        "       'saq11_2', 'saq12_1', 'saq12_2', 'saq13_1', 'saq13_2', 'saq14_1',\n",
        "       'saq14_2', 'saq15_1', 'saq15_2', 'saq16_1', 'saq16_2', 'saq17_1',\n",
        "       'saq17_2', 'saq18_1', 'saq18_2', 'saq19_1', 'saq19_2', 'saq20_1',\n",
        "       'saq20_2', 'saq21_1', 'saq21_2', 'saq22_1', 'saq22_2', 'saq23_1',\n",
        "       'saq23_2', 'saq24_1', 'saq24_2', 'saq25_1', 'saq25_2', 'saq26_1',\n",
        "       'saq26_2', 'saq27_1', 'saq27_2', 'saq28_1', 'saq28_2', 'saq29_1',\n",
        "       'saq29_2', 'saq30_1', 'saq30_2', 'saq31_1', 'saq31_2', 'saq32_1',\n",
        "       'saq32_2', 'saq33_1', 'saq33_2', 'saq34_1', 'saq34_2', 'saq35_1',\n",
        "       'saq35_2', 'saq36_1', 'saq36_2', 'saq37_1', 'saq37_2', 'saq38_1',\n",
        "       'saq38_2', 'saq39_1', 'saq39_2', 'saq40_1', 'saq40_2', 'saq41_1',\n",
        "       'saq41_2', 'saq42_1', 'saq42_2', 'saq43_1', 'saq43_2', 'saq44_1',\n",
        "       'saq44_2','bq1'],axis=1)\n",
        "ts20_del1=ts20_all.drop(['saq1_1', 'saq1_2', 'saq2_1', 'saq2_2', 'saq3_1', 'saq3_2', 'saq4_1',\n",
        "       'saq4_2', 'saq5_1', 'saq5_2', 'saq6_1', 'saq6_2', 'saq7_1', 'saq7_2',\n",
        "       'saq8_1', 'saq8_2', 'saq9_1', 'saq9_2', 'saq10_1', 'saq10_2', 'saq11_1',\n",
        "       'saq11_2', 'saq12_1', 'saq12_2', 'saq13_1', 'saq13_2', 'saq14_1',\n",
        "       'saq14_2', 'saq15_1', 'saq15_2', 'saq16_1', 'saq16_2', 'saq17_1',\n",
        "       'saq17_2', 'saq18_1', 'saq18_2', 'saq19_1', 'saq19_2', 'saq20_1',\n",
        "       'saq20_2', 'saq21_1', 'saq21_2', 'saq22_1', 'saq22_2', 'saq23_1',\n",
        "       'saq23_2', 'saq24_1', 'saq24_2', 'saq25_1', 'saq25_2', 'saq26_1',\n",
        "       'saq26_2', 'saq27_1', 'saq27_2', 'saq28_1', 'saq28_2', 'saq29_1',\n",
        "       'saq29_2', 'saq30_1', 'saq30_2', 'saq31_1', 'saq31_2', 'saq32_1',\n",
        "       'saq32_2', 'saq33_1', 'saq33_2', 'saq34_1', 'saq34_2', 'saq35_1',\n",
        "       'saq35_2', 'saq36_1', 'saq36_2', 'saq37_1', 'saq37_2', 'saq38_1',\n",
        "       'saq38_2', 'saq39_1', 'saq39_2', 'saq40_1', 'saq40_2', 'saq41_1',\n",
        "       'saq41_2', 'saq42_1', 'saq42_2', 'saq43_1', 'saq43_2', 'saq44_1',\n",
        "       'saq44_2','bq1'],axis=1)"
      ]
    },
    {
      "cell_type": "code",
      "execution_count": null,
      "metadata": {
        "id": "tFHkLH2_SlZq"
      },
      "outputs": [],
      "source": [
        "df=pd.get_dummies(tr20_del1[['bq2','bq27_2']])\n",
        "tr20_del1=pd.concat([tr20_del1,df],axis=1)\n",
        "tr20_del1=tr20_del1.drop(['bq2','bq27_2'],axis=1)\n"
      ]
    },
    {
      "cell_type": "code",
      "execution_count": null,
      "metadata": {
        "id": "mbBN3r5GQeOE"
      },
      "outputs": [],
      "source": [
        "from xgboost import XGBClassifier # model\n",
        "y20=tr20_all['knowcode']; X20=tr20_del1.drop('knowcode', axis=1, inplace=False)"
      ]
    },
    {
      "cell_type": "code",
      "execution_count": null,
      "metadata": {
        "id": "qwb6D_vnQeOE"
      },
      "outputs": [],
      "source": [
        "X_train, X_test, y_train, y_test = train_test_split(X20, y20, test_size = 0.20, random_state=3)"
      ]
    },
    {
      "cell_type": "code",
      "execution_count": null,
      "metadata": {
        "id": "Hxq1alkbQeOF"
      },
      "outputs": [],
      "source": [
        "import xgboost as xgb ## XGBoost 불러오기\n",
        "from xgboost import plot_importance\n",
        "# dtrain = xgb.DMatrix(data=X_train, label = y_train)\n",
        "# dtest = xgb.DMatrix(data=X_test, label=y_test)\n",
        "model = XGBClassifier()\n",
        "model.fit(X_train, y_train)"
      ]
    },
    {
      "cell_type": "code",
      "execution_count": null,
      "metadata": {
        "id": "6hQ0ViXxYMpB"
      },
      "outputs": [],
      "source": [
        "y_pred = model.predict(X_test)\n",
        "f1 = f1_score(y_test, y_pred, average='macro')\n",
        "print(f1)"
      ]
    },
    {
      "cell_type": "code",
      "execution_count": null,
      "metadata": {
        "id": "qCB63YJWKaH9"
      },
      "outputs": [],
      "source": [
        "from xgboost import plot_importance\n",
        "from matplotlib import pyplot\n",
        "import matplotlib.pyplot as plt\n",
        "plt.rcParams[\"figure.figsize\"] = (14, 20)\n",
        "plot_importance(model)\n",
        "plt.show()"
      ]
    },
    {
      "cell_type": "markdown",
      "metadata": {
        "id": "hLx7QKygYx9f"
      },
      "source": [
        "## xgboost cv\n"
      ]
    },
    {
      "cell_type": "code",
      "execution_count": null,
      "metadata": {
        "id": "g6vkbDnpYx9o"
      },
      "outputs": [],
      "source": [
        "tr20_del1=tr20_all.drop(['saq1_1', 'saq1_2', 'saq2_1', 'saq2_2', 'saq3_1', 'saq3_2', 'saq4_1',\n",
        "       'saq4_2', 'saq5_1', 'saq5_2', 'saq6_1', 'saq6_2', 'saq7_1', 'saq7_2',\n",
        "       'saq8_1', 'saq8_2', 'saq9_1', 'saq9_2', 'saq10_1', 'saq10_2', 'saq11_1',\n",
        "       'saq11_2', 'saq12_1', 'saq12_2', 'saq13_1', 'saq13_2', 'saq14_1',\n",
        "       'saq14_2', 'saq15_1', 'saq15_2', 'saq16_1', 'saq16_2', 'saq17_1',\n",
        "       'saq17_2', 'saq18_1', 'saq18_2', 'saq19_1', 'saq19_2', 'saq20_1',\n",
        "       'saq20_2', 'saq21_1', 'saq21_2', 'saq22_1', 'saq22_2', 'saq23_1',\n",
        "       'saq23_2', 'saq24_1', 'saq24_2', 'saq25_1', 'saq25_2', 'saq26_1',\n",
        "       'saq26_2', 'saq27_1', 'saq27_2', 'saq28_1', 'saq28_2', 'saq29_1',\n",
        "       'saq29_2', 'saq30_1', 'saq30_2', 'saq31_1', 'saq31_2', 'saq32_1',\n",
        "       'saq32_2', 'saq33_1', 'saq33_2', 'saq34_1', 'saq34_2', 'saq35_1',\n",
        "       'saq35_2', 'saq36_1', 'saq36_2', 'saq37_1', 'saq37_2', 'saq38_1',\n",
        "       'saq38_2', 'saq39_1', 'saq39_2', 'saq40_1', 'saq40_2', 'saq41_1',\n",
        "       'saq41_2', 'saq42_1', 'saq42_2', 'saq43_1', 'saq43_2', 'saq44_1',\n",
        "       'saq44_2','bq1'],axis=1)\n",
        "ts20_del1=ts20_all.drop(['saq1_1', 'saq1_2', 'saq2_1', 'saq2_2', 'saq3_1', 'saq3_2', 'saq4_1',\n",
        "       'saq4_2', 'saq5_1', 'saq5_2', 'saq6_1', 'saq6_2', 'saq7_1', 'saq7_2',\n",
        "       'saq8_1', 'saq8_2', 'saq9_1', 'saq9_2', 'saq10_1', 'saq10_2', 'saq11_1',\n",
        "       'saq11_2', 'saq12_1', 'saq12_2', 'saq13_1', 'saq13_2', 'saq14_1',\n",
        "       'saq14_2', 'saq15_1', 'saq15_2', 'saq16_1', 'saq16_2', 'saq17_1',\n",
        "       'saq17_2', 'saq18_1', 'saq18_2', 'saq19_1', 'saq19_2', 'saq20_1',\n",
        "       'saq20_2', 'saq21_1', 'saq21_2', 'saq22_1', 'saq22_2', 'saq23_1',\n",
        "       'saq23_2', 'saq24_1', 'saq24_2', 'saq25_1', 'saq25_2', 'saq26_1',\n",
        "       'saq26_2', 'saq27_1', 'saq27_2', 'saq28_1', 'saq28_2', 'saq29_1',\n",
        "       'saq29_2', 'saq30_1', 'saq30_2', 'saq31_1', 'saq31_2', 'saq32_1',\n",
        "       'saq32_2', 'saq33_1', 'saq33_2', 'saq34_1', 'saq34_2', 'saq35_1',\n",
        "       'saq35_2', 'saq36_1', 'saq36_2', 'saq37_1', 'saq37_2', 'saq38_1',\n",
        "       'saq38_2', 'saq39_1', 'saq39_2', 'saq40_1', 'saq40_2', 'saq41_1',\n",
        "       'saq41_2', 'saq42_1', 'saq42_2', 'saq43_1', 'saq43_2', 'saq44_1',\n",
        "       'saq44_2','bq1'],axis=1)"
      ]
    },
    {
      "cell_type": "code",
      "execution_count": null,
      "metadata": {
        "id": "MWalYmIDYx9o"
      },
      "outputs": [],
      "source": [
        "df=pd.get_dummies(tr20_del1[['bq2','bq27_2']])\n",
        "tr20_del1=pd.concat([tr20_del1,df],axis=1)\n",
        "tr20_del1=tr20_del1.drop(['bq2','bq27_2'],axis=1)\n"
      ]
    },
    {
      "cell_type": "code",
      "execution_count": null,
      "metadata": {
        "id": "DoKK2ph8Yx9o"
      },
      "outputs": [],
      "source": [
        "from xgboost import XGBClassifier # model\n",
        "y20=tr20_all['knowcode']; X20=tr20_del1.drop('knowcode', axis=1, inplace=False)"
      ]
    },
    {
      "cell_type": "code",
      "execution_count": null,
      "metadata": {
        "id": "Lg7f6yNAYx9o"
      },
      "outputs": [],
      "source": [
        "X_train, X_test, y_train, y_test = train_test_split(X20, y20, test_size = 0.20, random_state=3)"
      ]
    },
    {
      "cell_type": "code",
      "execution_count": null,
      "metadata": {
        "id": "u7CWBXBgYx9o"
      },
      "outputs": [],
      "source": [
        "import xgboost as xgb ## XGBoost 불러오기\n",
        "from xgboost import plot_importance\n",
        "# dtrain = xgb.DMatrix(data=X_train, label = y_train)\n",
        "# dtest = xgb.DMatrix(data=X_test, label=y_test)\n",
        "xgb = XGBClassifier()\n",
        "scores = cross_val_score(xgb, X_train, y_train.ravel(), cv=5, scoring = 'f1')\n",
        "clf = xgb.fit(X_train, y_train.ravel())\n",
        "y_pred = clf.predict(X_test)\n",
        "f1 = f1_score(Y_test, y_pred, average='macro')\n",
        "print (f1)"
      ]
    },
    {
      "cell_type": "code",
      "execution_count": null,
      "metadata": {
        "id": "sJA4pn9zYx9p"
      },
      "outputs": [],
      "source": [
        "from xgboost import plot_importance\n",
        "from matplotlib import pyplot\n",
        "import matplotlib.pyplot as plt\n",
        "plt.rcParams[\"figure.figsize\"] = (14, 20)\n",
        "plot_importance(xgb)\n",
        "plt.show()"
      ]
    },
    {
      "cell_type": "markdown",
      "metadata": {
        "id": "dv9oZfGAZaTU"
      },
      "source": [
        "## xgboost cv\n"
      ]
    },
    {
      "cell_type": "code",
      "execution_count": null,
      "metadata": {
        "id": "lJxbK_ZpZaTc"
      },
      "outputs": [],
      "source": [
        "tr20_del1=tr20_all.drop(['saq1_1', 'saq1_2', 'saq2_1', 'saq2_2', 'saq3_1', 'saq3_2', 'saq4_1',\n",
        "       'saq4_2', 'saq5_1', 'saq5_2', 'saq6_1', 'saq6_2', 'saq7_1', 'saq7_2',\n",
        "       'saq8_1', 'saq8_2', 'saq9_1', 'saq9_2', 'saq10_1', 'saq10_2', 'saq11_1',\n",
        "       'saq11_2', 'saq12_1', 'saq12_2', 'saq13_1', 'saq13_2', 'saq14_1',\n",
        "       'saq14_2', 'saq15_1', 'saq15_2', 'saq16_1', 'saq16_2', 'saq17_1',\n",
        "       'saq17_2', 'saq18_1', 'saq18_2', 'saq19_1', 'saq19_2', 'saq20_1',\n",
        "       'saq20_2', 'saq21_1', 'saq21_2', 'saq22_1', 'saq22_2', 'saq23_1',\n",
        "       'saq23_2', 'saq24_1', 'saq24_2', 'saq25_1', 'saq25_2', 'saq26_1',\n",
        "       'saq26_2', 'saq27_1', 'saq27_2', 'saq28_1', 'saq28_2', 'saq29_1',\n",
        "       'saq29_2', 'saq30_1', 'saq30_2', 'saq31_1', 'saq31_2', 'saq32_1',\n",
        "       'saq32_2', 'saq33_1', 'saq33_2', 'saq34_1', 'saq34_2', 'saq35_1',\n",
        "       'saq35_2', 'saq36_1', 'saq36_2', 'saq37_1', 'saq37_2', 'saq38_1',\n",
        "       'saq38_2', 'saq39_1', 'saq39_2', 'saq40_1', 'saq40_2', 'saq41_1',\n",
        "       'saq41_2', 'saq42_1', 'saq42_2', 'saq43_1', 'saq43_2', 'saq44_1',\n",
        "       'saq44_2','bq1','bq8_1', 'bq8_2', 'bq8_3',\n",
        "       'bq12_1', 'bq12_2', 'bq12_3', 'bq12_4', 'bq12_5',\n",
        "       'bq13_1', 'bq13_2', 'bq13_3', \n",
        "       'bq14_1','bq14_2', 'bq14_3', 'bq14_4', 'bq14_5', 'bq14_6', 'bq14_7',],axis=1)\n",
        "ts20_del1=ts20_all.drop(['saq1_1', 'saq1_2', 'saq2_1', 'saq2_2', 'saq3_1', 'saq3_2', 'saq4_1',\n",
        "       'saq4_2', 'saq5_1', 'saq5_2', 'saq6_1', 'saq6_2', 'saq7_1', 'saq7_2',\n",
        "       'saq8_1', 'saq8_2', 'saq9_1', 'saq9_2', 'saq10_1', 'saq10_2', 'saq11_1',\n",
        "       'saq11_2', 'saq12_1', 'saq12_2', 'saq13_1', 'saq13_2', 'saq14_1',\n",
        "       'saq14_2', 'saq15_1', 'saq15_2', 'saq16_1', 'saq16_2', 'saq17_1',\n",
        "       'saq17_2', 'saq18_1', 'saq18_2', 'saq19_1', 'saq19_2', 'saq20_1',\n",
        "       'saq20_2', 'saq21_1', 'saq21_2', 'saq22_1', 'saq22_2', 'saq23_1',\n",
        "       'saq23_2', 'saq24_1', 'saq24_2', 'saq25_1', 'saq25_2', 'saq26_1',\n",
        "       'saq26_2', 'saq27_1', 'saq27_2', 'saq28_1', 'saq28_2', 'saq29_1',\n",
        "       'saq29_2', 'saq30_1', 'saq30_2', 'saq31_1', 'saq31_2', 'saq32_1',\n",
        "       'saq32_2', 'saq33_1', 'saq33_2', 'saq34_1', 'saq34_2', 'saq35_1',\n",
        "       'saq35_2', 'saq36_1', 'saq36_2', 'saq37_1', 'saq37_2', 'saq38_1',\n",
        "       'saq38_2', 'saq39_1', 'saq39_2', 'saq40_1', 'saq40_2', 'saq41_1',\n",
        "       'saq41_2', 'saq42_1', 'saq42_2', 'saq43_1', 'saq43_2', 'saq44_1',\n",
        "       'saq44_2','bq1'],axis=1)"
      ]
    },
    {
      "cell_type": "code",
      "execution_count": null,
      "metadata": {
        "id": "7xUsSa3iZaTd"
      },
      "outputs": [],
      "source": [
        "df=pd.get_dummies(tr20_del1[['bq2','bq27_2']])\n",
        "tr20_del1=pd.concat([tr20_del1,df],axis=1)\n",
        "tr20_del1=tr20_del1.drop(['bq2','bq27_2'],axis=1)\n"
      ]
    },
    {
      "cell_type": "code",
      "execution_count": null,
      "metadata": {
        "id": "P6UYqEj6ZaTd"
      },
      "outputs": [],
      "source": [
        "from xgboost import XGBClassifier # model\n",
        "y20=tr20_all['knowcode']; X20=tr20_del1.drop('knowcode', axis=1, inplace=False)"
      ]
    },
    {
      "cell_type": "code",
      "execution_count": null,
      "metadata": {
        "id": "9zsuhZFzZaTd"
      },
      "outputs": [],
      "source": [
        "X_train, X_test, y_train, y_test = train_test_split(X20, y20, test_size = 0.20, random_state=3)"
      ]
    },
    {
      "cell_type": "code",
      "execution_count": null,
      "metadata": {
        "id": "q218co8xZaTd"
      },
      "outputs": [],
      "source": [
        "import xgboost as xgb ## XGBoost 불러오기\n",
        "from xgboost import plot_importance\n",
        "# dtrain = xgb.DMatrix(data=X_train, label = y_train)\n",
        "# dtest = xgb.DMatrix(data=X_test, label=y_test)\n",
        "xgb = XGBClassifier()\n",
        "scores = cross_val_score(xgb, X_train, y_train.ravel(), cv=5, scoring = 'f1')\n",
        "clf = xgb.fit(X_train, y_train.ravel())\n",
        "y_pred = clf.predict(X_test)\n",
        "f1 = f1_score(Y_test, y_pred, average='macro')\n",
        "print (f1)"
      ]
    },
    {
      "cell_type": "code",
      "execution_count": null,
      "metadata": {
        "id": "alqWBLStZaTe"
      },
      "outputs": [],
      "source": [
        "from xgboost import plot_importance\n",
        "from matplotlib import pyplot\n",
        "import matplotlib.pyplot as plt\n",
        "plt.rcParams[\"figure.figsize\"] = (14, 20)\n",
        "plot_importance(xgb)\n",
        "plt.show()"
      ]
    },
    {
      "cell_type": "markdown",
      "metadata": {
        "id": "f1Ji-RRzpXgi"
      },
      "source": [
        "## **20 bq1알파벳(a~j) +원래범주(obj21) + bq8 추가 0.491**\n",
        "## **20 bq1알파벳(a~j) +원래범주(obj21) + bq8,12,13,14 추가 0.503**\n",
        "\n",
        "* bq13,14은 각각 보면 버리는게 맞음 근데 둘을 뺐을때 0.484"
      ]
    },
    {
      "cell_type": "code",
      "execution_count": null,
      "metadata": {
        "id": "HPGX6njHpXgj"
      },
      "outputs": [],
      "source": [
        "tr20_del1=tr20_all.drop(['saq1_1', 'saq1_2', 'saq2_1', 'saq2_2', 'saq3_1', 'saq3_2', 'saq4_1',\n",
        "       'saq4_2', 'saq5_1', 'saq5_2', 'saq6_1', 'saq6_2', 'saq7_1', 'saq7_2',\n",
        "       'saq8_1', 'saq8_2', 'saq9_1', 'saq9_2', 'saq10_1', 'saq10_2', 'saq11_1',\n",
        "       'saq11_2', 'saq12_1', 'saq12_2', 'saq13_1', 'saq13_2', 'saq14_1',\n",
        "       'saq14_2', 'saq15_1', 'saq15_2', 'saq16_1', 'saq16_2', 'saq17_1',\n",
        "       'saq17_2', 'saq18_1', 'saq18_2', 'saq19_1', 'saq19_2', 'saq20_1',\n",
        "       'saq20_2', 'saq21_1', 'saq21_2', 'saq22_1', 'saq22_2', 'saq23_1',\n",
        "       'saq23_2', 'saq24_1', 'saq24_2', 'saq25_1', 'saq25_2', 'saq26_1',\n",
        "       'saq26_2', 'saq27_1', 'saq27_2', 'saq28_1', 'saq28_2', 'saq29_1',\n",
        "       'saq29_2', 'saq30_1', 'saq30_2', 'saq31_1', 'saq31_2', 'saq32_1',\n",
        "       'saq32_2', 'saq33_1', 'saq33_2', 'saq34_1', 'saq34_2', 'saq35_1',\n",
        "       'saq35_2', 'saq36_1', 'saq36_2', 'saq37_1', 'saq37_2', 'saq38_1',\n",
        "       'saq38_2', 'saq39_1', 'saq39_2', 'saq40_1', 'saq40_2', 'saq41_1',\n",
        "       'saq41_2', 'saq42_1', 'saq42_2', 'saq43_1', 'saq43_2', 'saq44_1',\n",
        "       'saq44_2'],axis=1)\n",
        "ts20_del1=ts20_all.drop(['saq1_1', 'saq1_2', 'saq2_1', 'saq2_2', 'saq3_1', 'saq3_2', 'saq4_1',\n",
        "       'saq4_2', 'saq5_1', 'saq5_2', 'saq6_1', 'saq6_2', 'saq7_1', 'saq7_2',\n",
        "       'saq8_1', 'saq8_2', 'saq9_1', 'saq9_2', 'saq10_1', 'saq10_2', 'saq11_1',\n",
        "       'saq11_2', 'saq12_1', 'saq12_2', 'saq13_1', 'saq13_2', 'saq14_1',\n",
        "       'saq14_2', 'saq15_1', 'saq15_2', 'saq16_1', 'saq16_2', 'saq17_1',\n",
        "       'saq17_2', 'saq18_1', 'saq18_2', 'saq19_1', 'saq19_2', 'saq20_1',\n",
        "       'saq20_2', 'saq21_1', 'saq21_2', 'saq22_1', 'saq22_2', 'saq23_1',\n",
        "       'saq23_2', 'saq24_1', 'saq24_2', 'saq25_1', 'saq25_2', 'saq26_1',\n",
        "       'saq26_2', 'saq27_1', 'saq27_2', 'saq28_1', 'saq28_2', 'saq29_1',\n",
        "       'saq29_2', 'saq30_1', 'saq30_2', 'saq31_1', 'saq31_2', 'saq32_1',\n",
        "       'saq32_2', 'saq33_1', 'saq33_2', 'saq34_1', 'saq34_2', 'saq35_1',\n",
        "       'saq35_2', 'saq36_1', 'saq36_2', 'saq37_1', 'saq37_2', 'saq38_1',\n",
        "       'saq38_2', 'saq39_1', 'saq39_2', 'saq40_1', 'saq40_2', 'saq41_1',\n",
        "       'saq41_2', 'saq42_1', 'saq42_2', 'saq43_1', 'saq43_2', 'saq44_1',\n",
        "       'saq44_2'],axis=1)"
      ]
    },
    {
      "cell_type": "code",
      "execution_count": null,
      "metadata": {
        "id": "Hq5tzfTLpXgl"
      },
      "outputs": [],
      "source": [
        "\n",
        "y20=tr20_all['knowcode']; X20=tr20_del1.drop('knowcode', axis=1, inplace=False)"
      ]
    },
    {
      "cell_type": "code",
      "execution_count": null,
      "metadata": {
        "id": "aoidb6SOpXgm"
      },
      "outputs": [],
      "source": [
        "X_train, X_test, Y_train, Y_test = train_test_split(X20, y20, test_size = 0.20, random_state=3)"
      ]
    },
    {
      "cell_type": "code",
      "execution_count": null,
      "metadata": {
        "id": "r225IoD9re1Y"
      },
      "outputs": [],
      "source": [
        "from keras import backend as K\n",
        "from sklearn.metrics import recall_score \n",
        "\n",
        "from sklearn.metrics import precision_score \n",
        "\n",
        "from sklearn.metrics import f1_score \n",
        "def recall(y_target, y_pred):\n",
        "    # clip(t, clip_value_min, clip_value_max) : clip_value_min~clip_value_max 이외 가장자리를 깎아 낸다\n",
        "    # round : 반올림한다\n",
        "    y_target_yn = K.round(K.clip(y_target, 0, 1)) # 실제값을 0(Negative) 또는 1(Positive)로 설정한다\n",
        "    y_pred_yn = K.round(K.clip(y_pred, 0, 1)) # 예측값을 0(Negative) 또는 1(Positive)로 설정한다\n",
        "\n",
        "    # True Positive는 실제 값과 예측 값이 모두 1(Positive)인 경우이다\n",
        "    count_true_positive = K.sum(y_target_yn * y_pred_yn) \n",
        "\n",
        "    # (True Positive + False Negative) = 실제 값이 1(Positive) 전체\n",
        "    count_true_positive_false_negative = K.sum(y_target_yn)\n",
        "\n",
        "    # Recall =  (True Positive) / (True Positive + False Negative)\n",
        "    # K.epsilon()는 'divide by zero error' 예방차원에서 작은 수를 더한다\n",
        "    recall = count_true_positive / (count_true_positive_false_negative + K.epsilon())\n",
        "\n",
        "    # return a single tensor value\n",
        "    return recall\n",
        "\n",
        "\n",
        "def precision(y_target, y_pred):\n",
        "    # clip(t, clip_value_min, clip_value_max) : clip_value_min~clip_value_max 이외 가장자리를 깎아 낸다\n",
        "    # round : 반올림한다\n",
        "    y_pred_yn = K.round(K.clip(y_pred, 0, 1)) # 예측값을 0(Negative) 또는 1(Positive)로 설정한다\n",
        "    y_target_yn = K.round(K.clip(y_target, 0, 1)) # 실제값을 0(Negative) 또는 1(Positive)로 설정한다\n",
        "\n",
        "    # True Positive는 실제 값과 예측 값이 모두 1(Positive)인 경우이다\n",
        "    count_true_positive = K.sum(y_target_yn * y_pred_yn) \n",
        "\n",
        "    # (True Positive + False Positive) = 예측 값이 1(Positive) 전체\n",
        "    count_true_positive_false_positive = K.sum(y_pred_yn)\n",
        "\n",
        "    # Precision = (True Positive) / (True Positive + False Positive)\n",
        "    # K.epsilon()는 'divide by zero error' 예방차원에서 작은 수를 더한다\n",
        "    precision = count_true_positive / (count_true_positive_false_positive + K.epsilon())\n",
        "\n",
        "    # return a single tensor value\n",
        "    return precision\n",
        "\n",
        "def f1score(y_target, y_pred):\n",
        "    _recall = recall(y_target, y_pred)\n",
        "    _precision = precision(y_target, y_pred)\n",
        "    # K.epsilon()는 'divide by zero error' 예방차원에서 작은 수를 더한다\n",
        "    _f1score = ( 2 * _recall * _precision) / (_recall + _precision+ K.epsilon())\n",
        "    \n",
        "    # return a single tensor value\n",
        "    return _f1score"
      ]
    },
    {
      "cell_type": "code",
      "execution_count": null,
      "metadata": {
        "id": "amAsQxkhrrtO"
      },
      "outputs": [],
      "source": [
        "len(y20.unique())"
      ]
    },
    {
      "cell_type": "code",
      "execution_count": null,
      "metadata": {
        "id": "Rv_rgXnJqRkH"
      },
      "outputs": [],
      "source": [
        "import tensorflow as tf\n",
        "import keras\n",
        "from keras.models import Sequential\n",
        "from keras.layers import Dense\n",
        "\n",
        "model = tf.keras.Sequential([ \n",
        "                             tf.keras.layers.Dense(units=1000, activation='relu', input_shape=(152,)), \n",
        "                             tf.keras.layers.Dense(units=800, activation='relu'), \n",
        "                             tf.keras.layers.Dense(units=600, activation='relu'), \n",
        "                             tf.keras.layers.Dense(units=537, activation='relu') ]) \n",
        "model.compile(optimizer=tf.keras.optimizers.Adam(lr=0.07), loss='categorical_crossentropy',\n",
        "              metrics=['accuracy',precision, recall, f1score]) \n",
        "model.summary()\n"
      ]
    },
    {
      "cell_type": "code",
      "execution_count": null,
      "metadata": {
        "id": "c2Hyxi-qtVDl"
      },
      "outputs": [],
      "source": [
        "history = model.fit(X_train, Y_train, validation_split=0.3, epochs=200, batch_size=5, verbose=1) "
      ]
    },
    {
      "cell_type": "code",
      "execution_count": null,
      "metadata": {
        "id": "Vp4YvNMYsSuw"
      },
      "outputs": [],
      "source": [
        "_loss, _acc, _precision, _recall, _f1score = model.evaluate(X_test, Y_test, batch_size=30, verbose=0)\n",
        "print('loss: {:.3f}, accuracy: {:.3f}, precision: {:.3f}, recall: {:.3f}, f1score: {:.3f}'.format(_loss, _acc, _precision, _recall, _f1score))"
      ]
    },
    {
      "cell_type": "code",
      "execution_count": null,
      "metadata": {
        "id": "fYRDYWegsyDZ"
      },
      "outputs": [],
      "source": [
        "from keras import backend as K\n",
        "\n",
        "def recall_m(y_true, y_pred):\n",
        "    true_positives = K.sum(K.round(K.clip(y_true * y_pred, 0, 1)))\n",
        "    possible_positives = K.sum(K.round(K.clip(y_true, 0, 1)))\n",
        "    recall = true_positives / (possible_positives + K.epsilon())\n",
        "    return recall\n",
        "\n",
        "def precision_m(y_true, y_pred):\n",
        "    true_positives = K.sum(K.round(K.clip(y_true * y_pred, 0, 1)))\n",
        "    predicted_positives = K.sum(K.round(K.clip(y_pred, 0, 1)))\n",
        "    precision = true_positives / (predicted_positives + K.epsilon())\n",
        "    return precision\n",
        "\n",
        "def f1_m(y_true, y_pred):\n",
        "    precision = precision_m(y_true, y_pred)\n",
        "    recall = recall_m(y_true, y_pred)\n",
        "    return 2*((precision*recall)/(precision+recall+K.epsilon()))\n",
        "\n",
        "# compile the model\n",
        "model.compile(optimizer='adam', loss='binary_crossentropy', metrics=['acc',f1_m,precision_m, recall_m])\n",
        "\n",
        "# fit the model\n",
        "history = model.fit(X_train, Y_train, validation_split=0.3, epochs=10, verbose=0)\n",
        "\n",
        "# evaluate the model\n",
        "loss, accuracy, f1_score, precision, recall = model.evaluate(X_test, Y_test, verbose=0)"
      ]
    },
    {
      "cell_type": "code",
      "execution_count": null,
      "metadata": {
        "id": "uPLxi4HupXgm"
      },
      "outputs": [],
      "source": [
        "clfs = [KNeighborsClassifier(n_neighbors = 1), # 버려\n",
        "      GaussianNB(),                            # 버려\n",
        "      DecisionTreeClassifier(splitter = 'random'), # 버려\n",
        "       RandomForestClassifier(random_state=3)\n",
        "        ]\n",
        "clfName = {1:'KNN', 2:'Naive Bayes', 3:'Decision Trees', 4:'Random Forests'}\n",
        "\n",
        "for i in range(len(clfs)):\n",
        "    scores = cross_val_score(clfs[i], X_train, Y_train.ravel(), cv=5, scoring = 'f1')\n",
        "    print (\"mean validation F1 for\",clfName[i+1])\n",
        "    clf = clfs[i].fit(X_train, Y_train.ravel())\n",
        "    Y_pred = clf.predict(X_test)\n",
        "    f1 = f1_score(Y_test, Y_pred, average='macro')\n",
        "    print ('Test F1 for',clfName[i+1], \":\", f1)"
      ]
    },
    {
      "cell_type": "code",
      "execution_count": null,
      "metadata": {
        "id": "JUTgPAXxpXgn"
      },
      "outputs": [],
      "source": [
        "importances = clfs[3].feature_importances_\n",
        "forest_importances = pd.Series(importances, index=X20.columns)\n",
        "plt.rcParams[\"figure.figsize\"] = (20,10)\n",
        "forest_importances.plot.bar()\n",
        "\n",
        "fig.tight_layout()"
      ]
    },
    {
      "cell_type": "markdown",
      "metadata": {
        "id": "e48FOkfJ3rF4"
      },
      "source": [
        "## **20 bq1알파벳(a~j) +원래범주(obj21) + bq8 추가 0.491**\n",
        "## **20 bq1알파벳(a~j) +원래범주(obj21) + bq8,12,13,14 추가 0.503**\n",
        "\n",
        "* bq13,14은 각각 보면 버리는게 맞음 근데 둘을 뺐을때 0.484"
      ]
    },
    {
      "cell_type": "code",
      "execution_count": null,
      "metadata": {
        "id": "d6EuetO-3rF5"
      },
      "outputs": [],
      "source": [
        "tr20_del1=tr20_all.drop(['saq1_1', 'saq1_2', 'saq2_1', 'saq2_2', 'saq3_1', 'saq3_2', 'saq4_1',\n",
        "       'saq4_2', 'saq5_1', 'saq5_2', 'saq6_1', 'saq6_2', 'saq7_1', 'saq7_2',\n",
        "       'saq8_1', 'saq8_2', 'saq9_1', 'saq9_2', 'saq10_1', 'saq10_2', 'saq11_1',\n",
        "       'saq11_2', 'saq12_1', 'saq12_2', 'saq13_1', 'saq13_2', 'saq14_1',\n",
        "       'saq14_2', 'saq15_1', 'saq15_2', 'saq16_1', 'saq16_2', 'saq17_1',\n",
        "       'saq17_2', 'saq18_1', 'saq18_2', 'saq19_1', 'saq19_2', 'saq20_1',\n",
        "       'saq20_2', 'saq21_1', 'saq21_2', 'saq22_1', 'saq22_2', 'saq23_1',\n",
        "       'saq23_2', 'saq24_1', 'saq24_2', 'saq25_1', 'saq25_2', 'saq26_1',\n",
        "       'saq26_2', 'saq27_1', 'saq27_2', 'saq28_1', 'saq28_2', 'saq29_1',\n",
        "       'saq29_2', 'saq30_1', 'saq30_2', 'saq31_1', 'saq31_2', 'saq32_1',\n",
        "       'saq32_2', 'saq33_1', 'saq33_2', 'saq34_1', 'saq34_2', 'saq35_1',\n",
        "       'saq35_2', 'saq36_1', 'saq36_2', 'saq37_1', 'saq37_2', 'saq38_1',\n",
        "       'saq38_2', 'saq39_1', 'saq39_2', 'saq40_1', 'saq40_2', 'saq41_1',\n",
        "       'saq41_2', 'saq42_1', 'saq42_2', 'saq43_1', 'saq43_2', 'saq44_1',\n",
        "       'saq44_2'],axis=1)\n",
        "ts20_del1=ts20_all.drop(['saq1_1', 'saq1_2', 'saq2_1', 'saq2_2', 'saq3_1', 'saq3_2', 'saq4_1',\n",
        "       'saq4_2', 'saq5_1', 'saq5_2', 'saq6_1', 'saq6_2', 'saq7_1', 'saq7_2',\n",
        "       'saq8_1', 'saq8_2', 'saq9_1', 'saq9_2', 'saq10_1', 'saq10_2', 'saq11_1',\n",
        "       'saq11_2', 'saq12_1', 'saq12_2', 'saq13_1', 'saq13_2', 'saq14_1',\n",
        "       'saq14_2', 'saq15_1', 'saq15_2', 'saq16_1', 'saq16_2', 'saq17_1',\n",
        "       'saq17_2', 'saq18_1', 'saq18_2', 'saq19_1', 'saq19_2', 'saq20_1',\n",
        "       'saq20_2', 'saq21_1', 'saq21_2', 'saq22_1', 'saq22_2', 'saq23_1',\n",
        "       'saq23_2', 'saq24_1', 'saq24_2', 'saq25_1', 'saq25_2', 'saq26_1',\n",
        "       'saq26_2', 'saq27_1', 'saq27_2', 'saq28_1', 'saq28_2', 'saq29_1',\n",
        "       'saq29_2', 'saq30_1', 'saq30_2', 'saq31_1', 'saq31_2', 'saq32_1',\n",
        "       'saq32_2', 'saq33_1', 'saq33_2', 'saq34_1', 'saq34_2', 'saq35_1',\n",
        "       'saq35_2', 'saq36_1', 'saq36_2', 'saq37_1', 'saq37_2', 'saq38_1',\n",
        "       'saq38_2', 'saq39_1', 'saq39_2', 'saq40_1', 'saq40_2', 'saq41_1',\n",
        "       'saq41_2', 'saq42_1', 'saq42_2', 'saq43_1', 'saq43_2', 'saq44_1',\n",
        "       'saq44_2'],axis=1)"
      ]
    },
    {
      "cell_type": "code",
      "execution_count": null,
      "metadata": {
        "id": "eWzg_NCz7v7z"
      },
      "outputs": [],
      "source": [
        "tr20_del1.columns[50:150]"
      ]
    },
    {
      "cell_type": "code",
      "execution_count": null,
      "metadata": {
        "id": "XixKKu4L8UP3"
      },
      "outputs": [],
      "source": [
        "cor=tr20_del1[['vq1', 'vq2', 'vq3', 'vq4', 'vq5', 'vq6', 'vq7', 'vq8', 'vq9', 'vq10',\n",
        "       'vq11', 'vq12', 'vq13']].corr()\n",
        "cor"
      ]
    },
    {
      "cell_type": "code",
      "execution_count": null,
      "metadata": {
        "id": "KWgVRPyu7ugJ"
      },
      "outputs": [],
      "source": [
        "tr20_all[['bq25', 'bq29', 'bq30_1',\n",
        "       'bq30_2', 'bq30_3']].head()"
      ]
    },
    {
      "cell_type": "code",
      "execution_count": null,
      "metadata": {
        "id": "RcK7POOnEN23"
      },
      "outputs": [],
      "source": [
        "# tr20_all[['saq1', 'saq2', 'saq3', 'saq4',\n",
        "#        'saq5', 'saq6', 'saq7', 'saq8', 'saq9', 'saq10', 'saq11', 'saq12',\n",
        "#        'saq13', 'saq14', 'saq15', 'saq16', 'saq17', 'saq18', 'saq19', 'saq20',\n",
        "#        'saq21', 'saq22', 'saq23', 'saq24', 'saq25', 'saq26']].corr()\n",
        "# tr20_all[['saq27', 'saq28',\n",
        "#        'saq29', 'saq30', 'saq31', 'saq32', 'saq33', 'saq34', 'saq35', 'saq36',\n",
        "#        'saq37', 'saq38']].corr()\n",
        "tr20_all[['saq39', 'saq40', 'saq41', 'saq42']].corr()\n",
        "# 'saq43', 'saq44'\n",
        "#tr20_all[['saq1', 'saq2', 'saq3', 'saq4',\n",
        "      #  'saq5', 'saq6', 'saq7', 'saq8', 'saq9', 'saq10', 'saq11', 'saq12',\n",
        "      #  'saq13', 'saq14', 'saq15', 'saq16', 'saq17', 'saq18', 'saq19', 'saq20',\n",
        "      #  'saq21', 'saq22', 'saq23', 'saq24', 'saq25', 'saq26', 'saq27', 'saq28',\n",
        "      #  'saq29', 'saq30', 'saq31', 'saq32', 'saq33', 'saq34', 'saq35', 'saq36',\n",
        "      #  'saq37', 'saq38', 'saq39', 'saq40', 'saq41', 'saq42', 'saq43', 'saq44']].corr()"
      ]
    },
    {
      "cell_type": "code",
      "execution_count": null,
      "metadata": {
        "id": "ha5t3-fy4BHn"
      },
      "outputs": [],
      "source": [
        "tr20_del1[['bq30_1', 'bq30_2', 'bq30_3']].describe()"
      ]
    },
    {
      "cell_type": "code",
      "execution_count": null,
      "metadata": {
        "id": "uL8abJFaAnfh"
      },
      "outputs": [],
      "source": [
        "tr20_all['bq30_1_cut'] = 0\n",
        "tr20_all.loc[tr20_all['bq30_1'] >= 2000, 'bq30_1_cut'] = 1\n",
        "tr20_all.loc[tr20_all['bq30_1'] >= 3000, 'bq30_1_cut'] = 2\n",
        "tr20_all.loc[tr20_all['bq30_1'] >= 4000, 'bq30_1_cut'] = 3\n",
        "tr20_all.loc[tr20_all['bq30_1'] >= 5000, 'bq30_1_cut'] = 4\n",
        "tr20_all.loc[tr20_all['bq30_1'] >= 6000, 'bq30_1_cut'] = 5\n",
        "tr20_all.loc[tr20_all['bq30_1'] >= 7000, 'bq30_1_cut'] = 6\n",
        "tr20_all.loc[tr20_all['bq30_1'] >= 8000, 'bq30_1_cut'] = 7\n",
        "tr20_all.loc[tr20_all['bq30_1'] >= 9000, 'bq30_1_cut'] = 8\n",
        "tr20_all.loc[tr20_all['bq30_1'] >= 10000, 'bq30_1_cut'] = 9\n",
        "tr20_all['bq30_2_cut'] = 0\n",
        "tr20_all.loc[tr20_all['bq30_2'] >= 2000, 'bq30_2_cut'] = 1\n",
        "tr20_all.loc[tr20_all['bq30_2'] >= 3000, 'bq30_2_cut'] = 2\n",
        "tr20_all.loc[tr20_all['bq30_2'] >= 4000, 'bq30_2_cut'] = 3\n",
        "tr20_all.loc[tr20_all['bq30_2'] >= 5000, 'bq30_2_cut'] = 4\n",
        "tr20_all.loc[tr20_all['bq30_2'] >= 6000, 'bq30_2_cut'] = 5\n",
        "tr20_all.loc[tr20_all['bq30_2'] >= 7000, 'bq30_2_cut'] = 6\n",
        "tr20_all.loc[tr20_all['bq30_2'] >= 8000, 'bq30_2_cut'] = 7\n",
        "tr20_all.loc[tr20_all['bq30_2'] >= 9000, 'bq30_2_cut'] = 8\n",
        "tr20_all.loc[tr20_all['bq30_2'] >= 10000, 'bq30_2_cut'] = 9\n",
        "tr20_all['bq30_3_cut'] = 0\n",
        "tr20_all.loc[tr20_all['bq30_3'] >= 2000, 'bq30_3_cut'] = 1\n",
        "tr20_all.loc[tr20_all['bq30_3'] >= 3000, 'bq30_3_cut'] = 2\n",
        "tr20_all.loc[tr20_all['bq30_3'] >= 4000, 'bq30_3_cut'] = 3\n",
        "tr20_all.loc[tr20_all['bq30_3'] >= 5000, 'bq30_3_cut'] = 4\n",
        "tr20_all.loc[tr20_all['bq30_3'] >= 6000, 'bq30_3_cut'] = 5\n",
        "tr20_all.loc[tr20_all['bq30_3'] >= 7000, 'bq30_3_cut'] = 6\n",
        "tr20_all.loc[tr20_all['bq30_3'] >= 8000, 'bq30_3_cut'] = 7\n",
        "tr20_all.loc[tr20_all['bq30_3'] >= 9000, 'bq30_3_cut'] = 8\n",
        "tr20_all.loc[tr20_all['bq30_3'] >= 10000, 'bq30_3_cut'] = 9\n",
        "\n",
        "ts20_all['bq30_1_cut'] = 0\n",
        "ts20_all.loc[ts20_all['bq30_1'] >= 2000, 'bq30_1_cut'] = 1\n",
        "ts20_all.loc[ts20_all['bq30_1'] >= 3000, 'bq30_1_cut'] = 2\n",
        "ts20_all.loc[ts20_all['bq30_1'] >= 4000, 'bq30_1_cut'] = 3\n",
        "ts20_all.loc[ts20_all['bq30_1'] >= 5000, 'bq30_1_cut'] = 4\n",
        "ts20_all.loc[ts20_all['bq30_1'] >= 6000, 'bq30_1_cut'] = 5\n",
        "ts20_all.loc[ts20_all['bq30_1'] >= 7000, 'bq30_1_cut'] = 6\n",
        "ts20_all.loc[ts20_all['bq30_1'] >= 8000, 'bq30_1_cut'] = 7\n",
        "ts20_all.loc[ts20_all['bq30_1'] >= 9000, 'bq30_1_cut'] = 8\n",
        "ts20_all.loc[ts20_all['bq30_1'] >= 10000, 'bq30_1_cut'] = 9\n",
        "ts20_all['bq30_2_cut'] = 0\n",
        "ts20_all.loc[ts20_all['bq30_2'] >= 2000, 'bq30_2_cut'] = 1\n",
        "ts20_all.loc[ts20_all['bq30_2'] >= 3000, 'bq30_2_cut'] = 2\n",
        "ts20_all.loc[ts20_all['bq30_2'] >= 4000, 'bq30_2_cut'] = 3\n",
        "ts20_all.loc[ts20_all['bq30_2'] >= 5000, 'bq30_2_cut'] = 4\n",
        "ts20_all.loc[ts20_all['bq30_2'] >= 6000, 'bq30_2_cut'] = 5\n",
        "ts20_all.loc[ts20_all['bq30_2'] >= 7000, 'bq30_2_cut'] = 6\n",
        "ts20_all.loc[ts20_all['bq30_2'] >= 8000, 'bq30_2_cut'] = 7\n",
        "ts20_all.loc[ts20_all['bq30_2'] >= 9000, 'bq30_2_cut'] = 8\n",
        "ts20_all.loc[ts20_all['bq30_2'] >= 10000, 'bq30_2_cut'] = 9\n",
        "ts20_all['bq30_3_cut'] = 0\n",
        "ts20_all.loc[ts20_all['bq30_3'] >= 2000, 'bq30_3_cut'] = 1\n",
        "ts20_all.loc[ts20_all['bq30_3'] >= 3000, 'bq30_3_cut'] = 2\n",
        "ts20_all.loc[ts20_all['bq30_3'] >= 4000, 'bq30_3_cut'] = 3\n",
        "ts20_all.loc[ts20_all['bq30_3'] >= 5000, 'bq30_3_cut'] = 4\n",
        "ts20_all.loc[ts20_all['bq30_3'] >= 6000, 'bq30_3_cut'] = 5\n",
        "ts20_all.loc[ts20_all['bq30_3'] >= 7000, 'bq30_3_cut'] = 6\n",
        "ts20_all.loc[ts20_all['bq30_3'] >= 8000, 'bq30_3_cut'] = 7\n",
        "ts20_all.loc[ts20_all['bq30_3'] >= 9000, 'bq30_3_cut'] = 8\n",
        "ts20_all.loc[ts20_all['bq30_3'] >= 10000, 'bq30_3_cut'] = 9"
      ]
    },
    {
      "cell_type": "code",
      "execution_count": null,
      "metadata": {
        "id": "ZZ8Tca9jE_dX"
      },
      "outputs": [],
      "source": [
        "tr20_all['bq25_cut'] = 0\n",
        "tr20_all.loc[tr20_all['bq25'] >= 20, 'bq25_cut'] = 1\n",
        "tr20_all.loc[tr20_all['bq25'] >= 30, 'bq25_cut'] = 2\n",
        "tr20_all.loc[tr20_all['bq25'] >= 40, 'bq25_cut'] = 3\n",
        "tr20_all.loc[tr20_all['bq25'] >= 50, 'bq25_cut'] = 4\n",
        "tr20_all.loc[tr20_all['bq25'] >= 60, 'bq25_cut'] = 5\n",
        "tr20_all.loc[tr20_all['bq25'] >= 70, 'bq25_cut'] = 6\n",
        "tr20_all.loc[tr20_all['bq25'] >= 80, 'bq25_cut'] = 7\n",
        "tr20_all.loc[tr20_all['bq25'] >= 90, 'bq25_cut'] = 8\n",
        "\n",
        "tr20_all['bq29_cut'] = 0\n",
        "tr20_all.loc[tr20_all['bq29'] >= 20, 'bq29_cut'] = 1\n",
        "tr20_all.loc[tr20_all['bq29'] >= 30, 'bq29_cut'] = 2\n",
        "tr20_all.loc[tr20_all['bq29'] >= 40, 'bq29_cut'] = 3\n",
        "tr20_all.loc[tr20_all['bq29'] >= 50, 'bq29_cut'] = 4\n",
        "tr20_all.loc[tr20_all['bq29'] >= 60, 'bq29_cut'] = 5\n",
        "tr20_all.loc[tr20_all['bq29'] >= 70, 'bq29_cut'] = 6\n",
        "tr20_all.loc[tr20_all['bq29'] >= 80, 'bq29_cut'] = 7\n",
        "tr20_all.loc[tr20_all['bq29'] >= 90, 'bq29_cut'] = 8\n",
        "\n",
        "ts20_all['bq25_cut'] = 0\n",
        "ts20_all.loc[ts20_all['bq25'] >= 20, 'bq25_cut'] = 1\n",
        "ts20_all.loc[ts20_all['bq25'] >= 30, 'bq25_cut'] = 2\n",
        "ts20_all.loc[ts20_all['bq25'] >= 40, 'bq25_cut'] = 3\n",
        "ts20_all.loc[ts20_all['bq25'] >= 50, 'bq25_cut'] = 4\n",
        "ts20_all.loc[ts20_all['bq25'] >= 60, 'bq25_cut'] = 5\n",
        "ts20_all.loc[ts20_all['bq25'] >= 70, 'bq25_cut'] = 6\n",
        "ts20_all.loc[ts20_all['bq25'] >= 80, 'bq25_cut'] = 7\n",
        "ts20_all.loc[ts20_all['bq25'] >= 90, 'bq25_cut'] = 8\n",
        "\n",
        "ts20_all['bq29_cut'] = 0\n",
        "ts20_all.loc[ts20_all['bq29'] >= 20, 'bq29_cut'] = 1\n",
        "ts20_all.loc[ts20_all['bq29'] >= 30, 'bq29_cut'] = 2\n",
        "ts20_all.loc[ts20_all['bq29'] >= 40, 'bq29_cut'] = 3\n",
        "ts20_all.loc[ts20_all['bq29'] >= 50, 'bq29_cut'] = 4\n",
        "ts20_all.loc[ts20_all['bq29'] >= 60, 'bq29_cut'] = 5\n",
        "ts20_all.loc[ts20_all['bq29'] >= 70, 'bq29_cut'] = 6\n",
        "ts20_all.loc[ts20_all['bq29'] >= 80, 'bq29_cut'] = 7\n",
        "ts20_all.loc[ts20_all['bq29'] >= 90, 'bq29_cut'] = 8"
      ]
    },
    {
      "cell_type": "code",
      "execution_count": null,
      "metadata": {
        "id": "wDwQVSKJHWsB"
      },
      "outputs": [],
      "source": [
        "ts20_all=ts20_all.drop(['bq1_new_a', 'bq1_new_b', 'bq1_new_c',\n",
        "       'bq1_new_d', 'bq1_new_e', 'bq1_new_f', 'bq1_new_g', 'bq1_new_h',\n",
        "       'bq1_new_i', 'bq1_new_j', '학과_기타', '학과_문과', '학과_예체능', '학과_의료', '학과_이과'],axis=1)\n",
        "tr20_all=tr20_all.drop(['bq1_new_a', 'bq1_new_b', 'bq1_new_c',\n",
        "       'bq1_new_d', 'bq1_new_e', 'bq1_new_f', 'bq1_new_g', 'bq1_new_h',\n",
        "       'bq1_new_i', 'bq1_new_j', '학과_기타', '학과_문과', '학과_예체능', '학과_의료', '학과_이과'],axis=1)"
      ]
    },
    {
      "cell_type": "code",
      "execution_count": null,
      "metadata": {
        "id": "YNRe6c9xIkJJ"
      },
      "outputs": [],
      "source": [
        "tr20_all.columns[200:]"
      ]
    },
    {
      "cell_type": "code",
      "execution_count": null,
      "metadata": {
        "id": "ZWDajwQtIoML"
      },
      "outputs": [],
      "source": [
        "ts20_all.columns[200:]"
      ]
    },
    {
      "cell_type": "code",
      "execution_count": null,
      "metadata": {
        "id": "1i5OJYwGIXb9"
      },
      "outputs": [],
      "source": [
        "tr20_all.to_csv('/content/drive/MyDrive/조달청 공모전/tr20_all.csv', index=False)\n",
        "ts20_all.to_csv('/content/drive/MyDrive/조달청 공모전/ts20_all.csv', index=False)"
      ]
    },
    {
      "cell_type": "code",
      "execution_count": null,
      "metadata": {
        "id": "I7AWNs-F4Gof"
      },
      "outputs": [],
      "source": [
        "# 그나마 vq 아래로 대체하는게 나음\n",
        "df1=tr20_del1[['vq1', 'vq2', 'vq3', 'vq4', 'vq5', 'vq6', 'vq7', 'vq8', 'vq9', 'vq10',\n",
        "       'vq11', 'vq12', 'vq13']]\n",
        "df2=tr20_del1[['saq1', 'saq2', 'saq3', 'saq4',\n",
        "       'saq5', 'saq6', 'saq7', 'saq8', 'saq9', 'saq10', 'saq11', 'saq12',\n",
        "       'saq13', 'saq14', 'saq15', 'saq16', 'saq17', 'saq18', 'saq19', 'saq20',\n",
        "       'saq21', 'saq22', 'saq23', 'saq24', 'saq25', 'saq26']] \n",
        "df3=tr20_del1[['saq27', 'saq28',\n",
        "       'saq29', 'saq30', 'saq31', 'saq32', 'saq33', 'saq34', 'saq35', 'saq36',\n",
        "       'saq37', 'saq38']]\n",
        "df4=tr20_del1[['saq39', 'saq40', 'saq41', 'saq42']]\n",
        "# df5=tr20_del1[['saq43', 'saq44']]\n",
        "# tr20_del1[\"vq_mean\"] = df1.mean(axis = 1) \n",
        "# tr20_del1[\"vq_var\"] = df1.var(axis = 1) \n",
        "# tr20_del1[\"vq_std\"] = df1.std(axis = 1) \n",
        "# tr20_del1[\"vq_sum\"] = df1.sum(axis = 1) \n",
        "#tr20_del1[\"vq_median\"] = df1.median(axis = 1)\n",
        "tr20_del1[\"saq1_mean\"] = df2.mean(axis = 1) \n",
        "tr20_del1[\"saq1_var\"] = df2.var(axis = 1) \n",
        "# tr20_del1[\"saq1_std\"] = df2.std(axis = 1) \n",
        "# tr20_del1[\"saq1_sum\"] = df2.sum(axis = 1) \n",
        "#tr20_del1[\"saq1_median\"] = df2.median(axis = 1)\n",
        "tr20_del1[\"saq2_mean\"] = df3.mean(axis = 1) \n",
        "tr20_del1[\"saq2_var\"] = df3.var(axis = 1) \n",
        "# tr20_del1[\"saq2_std\"] = df3.std(axis = 1) \n",
        "# tr20_del1[\"saq2_sum\"] = df3.sum(axis = 1) \n",
        "tr20_del1[\"saq2_median\"] = df3.median(axis = 1)\n",
        "tr20_del1[\"saq3_mean\"] = df4.mean(axis = 1) \n",
        "tr20_del1[\"saq3_var\"] = df4.var(axis = 1) \n",
        "# tr20_del1[\"saq3_std\"] = df4.std(axis = 1) \n",
        "# tr20_del1[\"saq3_sum\"] = df4.sum(axis = 1) \n",
        "#tr20_del1[\"saq3_median\"] = df4.median(axis = 1)\n",
        "\n",
        "\n",
        "tr20_del1=tr20_del1.drop(['saq1', 'saq2',\n",
        "       'saq3', 'saq4', 'saq5', 'saq6', 'saq7', 'saq8', 'saq9', 'saq10',\n",
        "       'saq11', 'saq12', 'saq13', 'saq14', 'saq15', 'saq16', 'saq17', 'saq18',\n",
        "       'saq19', 'saq20', 'saq21', 'saq22', 'saq23', 'saq24', 'saq25', 'saq26',\n",
        "       'saq27', 'saq28', 'saq29', 'saq30', 'saq31', 'saq32', 'saq33', 'saq34',\n",
        "       'saq35', 'saq36', 'saq37', 'saq38', 'saq39', 'saq40', 'saq41', 'saq42'],axis=1)"
      ]
    },
    {
      "cell_type": "code",
      "execution_count": null,
      "metadata": {
        "id": "IH1oE3SV4mCd"
      },
      "outputs": [],
      "source": [
        "df1=ts20_del1[['vq1', 'vq2', 'vq3', 'vq4', 'vq5', 'vq6', 'vq7', 'vq8', 'vq9', 'vq10',\n",
        "       'vq11', 'vq12', 'vq13']]\n",
        "df2=ts20_del1[['saq1', 'saq2', 'saq3', 'saq4',\n",
        "       'saq5', 'saq6', 'saq7', 'saq8', 'saq9', 'saq10', 'saq11', 'saq12',\n",
        "       'saq13', 'saq14', 'saq15', 'saq16', 'saq17', 'saq18', 'saq19', 'saq20',\n",
        "       'saq21', 'saq22', 'saq23', 'saq24', 'saq25', 'saq26']] \n",
        "df3=ts20_del1[['saq27', 'saq28',\n",
        "       'saq29', 'saq30', 'saq31', 'saq32', 'saq33', 'saq34', 'saq35', 'saq36',\n",
        "       'saq37', 'saq38']]\n",
        "df4=ts20_del1[['saq39', 'saq40', 'saq41', 'saq42']]\n",
        "# df5=ts20_del1[['saq43', 'saq44']]\n",
        "ts20_del1[\"vq_mean\"] = df1.mean(axis = 1) \n",
        "ts20_del1[\"vq_var\"] = df1.var(axis = 1) \n",
        "#ts20_del1[\"vq_std\"] = df1.std(axis = 1) \n",
        "#ts20_del1[\"vq_sum\"] = df1.sum(axis = 1) \n",
        "#ts20_del1[\"vq_median\"] = df1.median(axis = 1)\n",
        "ts20_del1[\"saq1_mean\"] = df2.mean(axis = 1) \n",
        "ts20_del1[\"saq1_var\"] = df2.var(axis = 1) \n",
        "#ts20_del1[\"saq1_std\"] = df2.std(axis = 1) \n",
        "#ts20_del1[\"saq1_sum\"] = df2.sum(axis = 1) \n",
        "#ts20_del1[\"saq1_median\"] = df2.median(axis = 1)\n",
        "ts20_del1[\"saq2_mean\"] = df3.mean(axis = 1) \n",
        "ts20_del1[\"saq2_var\"] = df3.var(axis = 1) \n",
        "#ts20_del1[\"saq2_std\"] = df3.std(axis = 1) \n",
        "#ts20_del1[\"saq2_sum\"] = df3.sum(axis = 1) \n",
        "#ts20_del1[\"saq2_median\"] = df3.median(axis = 1)\n",
        "ts20_del1[\"saq3_mean\"] = df4.mean(axis = 1) \n",
        "ts20_del1[\"saq3_var\"] = df4.var(axis = 1) \n",
        "#ts20_del1[\"saq3_std\"] = df4.std(axis = 1) \n",
        "#ts20_del1[\"saq3_sum\"] = df4.sum(axis = 1) \n",
        "#ts20_del1[\"saq3_median\"] = df4.median(axis = 1)\n",
        "\n",
        "\n",
        "ts20_del1=ts20_del1.drop(['vq1', 'vq2', 'vq3', 'vq4', 'vq5', 'vq6', 'vq7', 'vq8', 'vq9', 'vq10',\n",
        "       'vq11', 'vq12', 'vq13','saq1', 'saq2',\n",
        "       'saq3', 'saq4', 'saq5', 'saq6', 'saq7', 'saq8', 'saq9', 'saq10',\n",
        "       'saq11', 'saq12', 'saq13', 'saq14', 'saq15', 'saq16', 'saq17', 'saq18',\n",
        "       'saq19', 'saq20', 'saq21', 'saq22', 'saq23', 'saq24', 'saq25', 'saq26',\n",
        "       'saq27', 'saq28', 'saq29', 'saq30', 'saq31', 'saq32', 'saq33', 'saq34',\n",
        "       'saq35', 'saq36', 'saq37', 'saq38', 'saq39', 'saq40', 'saq41', 'saq42'],axis=1)"
      ]
    },
    {
      "cell_type": "code",
      "execution_count": null,
      "metadata": {
        "id": "-yVW8B1jrZlG"
      },
      "outputs": [],
      "source": [
        "X20[['bq1']].describe()"
      ]
    },
    {
      "cell_type": "code",
      "execution_count": null,
      "metadata": {
        "id": "HSLU80vR3rF6"
      },
      "outputs": [],
      "source": [
        "y20=tr20_all['knowcode']; X20=tr20_del1.drop('knowcode', axis=1, inplace=False)"
      ]
    },
    {
      "cell_type": "code",
      "execution_count": null,
      "metadata": {
        "id": "6CE6v-t-3rF7"
      },
      "outputs": [],
      "source": [
        "X_train, X_test, Y_train, Y_test = train_test_split(X20, y20, test_size = 0.20, random_state=3)"
      ]
    },
    {
      "cell_type": "code",
      "execution_count": null,
      "metadata": {
        "id": "66vmCGZH3rF8"
      },
      "outputs": [],
      "source": [
        "clfs = [KNeighborsClassifier(n_neighbors = 1), # 버려\n",
        "      GaussianNB(),                            # 버려\n",
        "      DecisionTreeClassifier(splitter = 'random'), # 버려\n",
        "       RandomForestClassifier(random_state=3)\n",
        "        ]\n",
        "clfName = {1:'KNN', 2:'Naive Bayes', 3:'Decision Trees', 4:'Random Forests'}\n",
        "\n",
        "for i in range(len(clfs)):\n",
        "    scores = cross_val_score(clfs[i], X_train, Y_train.ravel(), cv=5, scoring = 'f1')\n",
        "    print (\"mean validation F1 for\",clfName[i+1])\n",
        "    clf = clfs[i].fit(X_train, Y_train.ravel())\n",
        "    Y_pred = clf.predict(X_test)\n",
        "    f1 = f1_score(Y_test, Y_pred, average='macro')\n",
        "    print ('Test F1 for',clfName[i+1], \":\", f1) # 466"
      ]
    },
    {
      "cell_type": "code",
      "execution_count": null,
      "metadata": {
        "id": "mZX-B0MI3rF9"
      },
      "outputs": [],
      "source": [
        "importances = clfs[3].feature_importances_\n",
        "forest_importances = pd.Series(importances, index=X20.columns)\n",
        "plt.rcParams[\"figure.figsize\"] = (20,10)\n",
        "forest_importances.plot.bar()\n",
        "\n",
        "fig.tight_layout()"
      ]
    },
    {
      "cell_type": "markdown",
      "metadata": {
        "id": "9p8MkDHavnnJ"
      },
      "source": [
        "## 17 all 모델링"
      ]
    },
    {
      "cell_type": "code",
      "execution_count": null,
      "metadata": {
        "id": "t815rWewvnnK"
      },
      "outputs": [],
      "source": [
        "y17=tr17_all['knowcode']; X17=tr17_all.drop('knowcode', axis=1, inplace=False)\n",
        "y18=tr18_all['knowcode']; X18=tr18_all.drop('knowcode', axis=1, inplace=False)\n",
        "y19=tr19_all['knowcode']; X19=tr19_all.drop('knowcode', axis=1, inplace=False)\n",
        "y20=tr20_all['knowcode']; X20=tr20_all.drop('knowcode', axis=1, inplace=False)"
      ]
    },
    {
      "cell_type": "code",
      "execution_count": null,
      "metadata": {
        "id": "6_qnYbRDvnnK"
      },
      "outputs": [],
      "source": [
        "X_train, X_test, Y_train, Y_test = train_test_split(X20, y20, test_size = 0.20, random_state=3)"
      ]
    },
    {
      "cell_type": "code",
      "execution_count": null,
      "metadata": {
        "id": "hBN5XidUvnnK"
      },
      "outputs": [],
      "source": [
        "clfs = [KNeighborsClassifier(n_neighbors = 1), # 버려\n",
        "      GaussianNB(),                            # 버려\n",
        "      DecisionTreeClassifier(splitter = 'random'), # 버려\n",
        "       RandomForestClassifier()\n",
        "        ]\n",
        "clfName = {1:'KNN', 2:'Naive Bayes', 3:'Decision Trees', 4:'Random Forests'}\n",
        "\n",
        "for i in range(len(clfs)):\n",
        "    scores = cross_val_score(clfs[i], X_train, Y_train.ravel(), cv=5, scoring = 'f1')\n",
        "    print (\"mean validation F1 for\",clfName[i+1])\n",
        "    clf = clfs[i].fit(X_train, Y_train.ravel())\n",
        "    Y_pred = clf.predict(X_test)\n",
        "    f1 = f1_score(Y_test, Y_pred, average='macro')\n",
        "    print ('Test F1 for',clfName[i+1], \":\", f1)"
      ]
    },
    {
      "cell_type": "markdown",
      "metadata": {
        "id": "CTxxbBz9iBLA"
      },
      "source": [
        "##  17 del 모델링"
      ]
    },
    {
      "cell_type": "code",
      "execution_count": null,
      "metadata": {
        "id": "DxXEtkyWiBLg"
      },
      "outputs": [],
      "source": [
        "y17=tr17_del['knowcode']; X17=tr17_del.drop('knowcode', axis=1, inplace=False)\n",
        "y18=tr18_del['knowcode']; X18=tr18_del.drop('knowcode', axis=1, inplace=False)\n",
        "y19=tr19_del['knowcode']; X19=tr19_del.drop('knowcode', axis=1, inplace=False)\n",
        "y20=tr20_del['knowcode']; X20=tr20_del.drop('knowcode', axis=1, inplace=False)"
      ]
    },
    {
      "cell_type": "code",
      "execution_count": null,
      "metadata": {
        "id": "Gk8jxEZeiBLh"
      },
      "outputs": [],
      "source": [
        "X_train, X_test, Y_train, Y_test = train_test_split(X17, y17, test_size = 0.20)"
      ]
    },
    {
      "cell_type": "code",
      "execution_count": null,
      "metadata": {
        "id": "_0HIfESYiBLi"
      },
      "outputs": [],
      "source": [
        "clfs = [KNeighborsClassifier(n_neighbors = 1), # 버려\n",
        "      GaussianNB(),                            # 버려\n",
        "      DecisionTreeClassifier(splitter = 'random'), # 버려\n",
        "       RandomForestClassifier(),\n",
        "        GradientBoostingClassifier(),\n",
        "        LGBMClassifier()\n",
        "        ]\n",
        "clfName = {1:'KNN', 2:'Naive Bayes', 3:'Decision Trees', 4:'Random Forests', 5:'GradientBoostingClassifier',6:'LGBMClassifier'}\n",
        "\n",
        "for i in range(len(clfs)):\n",
        "    scores = cross_val_score(clfs[i], X_train, Y_train.ravel(), cv=5, scoring = 'f1')\n",
        "    print (\"mean validation F1 for\",clfName[i+1])\n",
        "    clf = clfs[i].fit(X_train, Y_train.ravel())\n",
        "    Y_pred = clf.predict(X_test)\n",
        "    f1 = f1_score(Y_test, Y_pred, average='macro')\n",
        "    print ('Test F1 for',clfName[i+1], \":\", f1)"
      ]
    },
    {
      "cell_type": "code",
      "execution_count": null,
      "metadata": {
        "id": "hnCwPhwLiBLk"
      },
      "outputs": [],
      "source": [
        ""
      ]
    },
    {
      "cell_type": "code",
      "execution_count": null,
      "metadata": {
        "id": "eTtf0VaDgiO3"
      },
      "outputs": [],
      "source": [
        ""
      ]
    },
    {
      "cell_type": "markdown",
      "metadata": {
        "id": "pvjdNJbqvXWo"
      },
      "source": [
        "# 모델링"
      ]
    },
    {
      "cell_type": "markdown",
      "metadata": {
        "id": "3MXIElvbvXWp"
      },
      "source": [
        "## 18 all 모델링"
      ]
    },
    {
      "cell_type": "code",
      "execution_count": null,
      "metadata": {
        "id": "hW0cJFvDvXWq"
      },
      "outputs": [],
      "source": [
        "y17=tr17_all['knowcode']; X17=tr17_all.drop('knowcode', axis=1, inplace=False)\n",
        "y18=tr18_all['knowcode']; X18=tr18_all.drop('knowcode', axis=1, inplace=False)\n",
        "y19=tr19_all['knowcode']; X19=tr19_all.drop('knowcode', axis=1, inplace=False)\n",
        "y20=tr20_all['knowcode']; X20=tr20_all.drop('knowcode', axis=1, inplace=False)"
      ]
    },
    {
      "cell_type": "code",
      "execution_count": null,
      "metadata": {
        "id": "k18DlDHPvXWs"
      },
      "outputs": [],
      "source": [
        "X_train, X_test, Y_train, Y_test = train_test_split(X18, y18, test_size = 0.20)"
      ]
    },
    {
      "cell_type": "code",
      "execution_count": null,
      "metadata": {
        "id": "yRtKTQNevXWt"
      },
      "outputs": [],
      "source": [
        "clfs = [KNeighborsClassifier(n_neighbors = 1), # 버려\n",
        "      GaussianNB(),                            # 버려\n",
        "      DecisionTreeClassifier(splitter = 'random'), # 버려\n",
        "       RandomForestClassifier(),\n",
        "        GradientBoostingClassifier(),\n",
        "        LGBMClassifier()\n",
        "        ]\n",
        "clfName = {1:'KNN', 2:'Naive Bayes', 3:'Decision Trees', 4:'Random Forests', 5:'GradientBoostingClassifier',6:'LGBMClassifier'}\n",
        "\n",
        "for i in range(len(clfs)):\n",
        "    scores = cross_val_score(clfs[i], X_train, Y_train.ravel(), cv=5, scoring = 'f1')\n",
        "    print (\"mean validation F1 for\",clfName[i+1])\n",
        "    clf = clfs[i].fit(X_train, Y_train.ravel())\n",
        "    Y_pred = clf.predict(X_test)\n",
        "    f1 = f1_score(Y_test, Y_pred, average='macro')\n",
        "    print ('Test F1 for',clfName[i+1], \":\", f1)"
      ]
    },
    {
      "cell_type": "markdown",
      "metadata": {
        "id": "xO5bXc96vXWu"
      },
      "source": [
        "##  18 del 모델링"
      ]
    },
    {
      "cell_type": "code",
      "execution_count": null,
      "metadata": {
        "id": "oQdGQqzUvXWv"
      },
      "outputs": [],
      "source": [
        "y17=tr17_del['knowcode']; X17=tr17_del.drop('knowcode', axis=1, inplace=False)\n",
        "y18=tr18_del['knowcode']; X18=tr18_del.drop('knowcode', axis=1, inplace=False)\n",
        "y19=tr19_del['knowcode']; X19=tr19_del.drop('knowcode', axis=1, inplace=False)\n",
        "y20=tr20_del['knowcode']; X20=tr20_del.drop('knowcode', axis=1, inplace=False)"
      ]
    },
    {
      "cell_type": "code",
      "execution_count": null,
      "metadata": {
        "id": "028TjjzevXWx"
      },
      "outputs": [],
      "source": [
        "X_train, X_test, Y_train, Y_test = train_test_split(X18, y18, test_size = 0.20)"
      ]
    },
    {
      "cell_type": "code",
      "execution_count": null,
      "metadata": {
        "id": "BdkyH12xvXWz"
      },
      "outputs": [],
      "source": [
        "clfs = [KNeighborsClassifier(n_neighbors = 1), # 버려\n",
        "      GaussianNB(),                            # 버려\n",
        "      DecisionTreeClassifier(splitter = 'random'), # 버려\n",
        "       RandomForestClassifier(),\n",
        "        GradientBoostingClassifier(),\n",
        "        LGBMClassifier()\n",
        "        ]\n",
        "clfName = {1:'KNN', 2:'Naive Bayes', 3:'Decision Trees', 4:'Random Forests', 5:'GradientBoostingClassifier',6:'LGBMClassifier'}\n",
        "\n",
        "for i in range(len(clfs)):\n",
        "    scores = cross_val_score(clfs[i], X_train, Y_train.ravel(), cv=5, scoring = 'f1')\n",
        "    print (\"mean validation F1 for\",clfName[i+1])\n",
        "    clf = clfs[i].fit(X_train, Y_train.ravel())\n",
        "    Y_pred = clf.predict(X_test)\n",
        "    f1 = f1_score(Y_test, Y_pred, average='macro')\n",
        "    print ('Test F1 for',clfName[i+1], \":\", f1)"
      ]
    },
    {
      "cell_type": "code",
      "execution_count": null,
      "metadata": {
        "id": "mLthQXMgvXW1"
      },
      "outputs": [],
      "source": [
        ""
      ]
    },
    {
      "cell_type": "code",
      "execution_count": null,
      "metadata": {
        "id": "GJFh4kZovXW1"
      },
      "outputs": [],
      "source": [
        ""
      ]
    },
    {
      "cell_type": "markdown",
      "metadata": {
        "id": "h9YTVIwmvYY3"
      },
      "source": [
        "# 모델링"
      ]
    },
    {
      "cell_type": "markdown",
      "metadata": {
        "id": "YJJpTl_xvYY5"
      },
      "source": [
        "## 19 all 모델링"
      ]
    },
    {
      "cell_type": "code",
      "execution_count": null,
      "metadata": {
        "id": "MEu_LPW4vYY5"
      },
      "outputs": [],
      "source": [
        "y17=tr17_all['knowcode']; X17=tr17_all.drop('knowcode', axis=1, inplace=False)\n",
        "y18=tr18_all['knowcode']; X18=tr18_all.drop('knowcode', axis=1, inplace=False)\n",
        "y19=tr19_all['knowcode']; X19=tr19_all.drop('knowcode', axis=1, inplace=False)\n",
        "y20=tr20_all['knowcode']; X20=tr20_all.drop('knowcode', axis=1, inplace=False)"
      ]
    },
    {
      "cell_type": "code",
      "execution_count": null,
      "metadata": {
        "id": "ZdMocfZyvYY7"
      },
      "outputs": [],
      "source": [
        "X_train, X_test, Y_train, Y_test = train_test_split(X19, y19, test_size = 0.20)"
      ]
    },
    {
      "cell_type": "code",
      "execution_count": null,
      "metadata": {
        "id": "u9brpK0gvYY7"
      },
      "outputs": [],
      "source": [
        "clfs = [KNeighborsClassifier(n_neighbors = 1), # 버려\n",
        "      GaussianNB(),                            # 버려\n",
        "      DecisionTreeClassifier(splitter = 'random'), # 버려\n",
        "       RandomForestClassifier(),\n",
        "        GradientBoostingClassifier(),\n",
        "        LGBMClassifier()\n",
        "        ]\n",
        "clfName = {1:'KNN', 2:'Naive Bayes', 3:'Decision Trees', 4:'Random Forests', 5:'GradientBoostingClassifier',6:'LGBMClassifier'}\n",
        "\n",
        "for i in range(len(clfs)):\n",
        "    scores = cross_val_score(clfs[i], X_train, Y_train.ravel(), cv=5, scoring = 'f1')\n",
        "    print (\"mean validation F1 for\",clfName[i+1])\n",
        "    clf = clfs[i].fit(X_train, Y_train.ravel())\n",
        "    Y_pred = clf.predict(X_test)\n",
        "    f1 = f1_score(Y_test, Y_pred, average='macro')\n",
        "    print ('Test F1 for',clfName[i+1], \":\", f1)"
      ]
    },
    {
      "cell_type": "markdown",
      "metadata": {
        "id": "sEQyM7j6vYY9"
      },
      "source": [
        "##  19 del 모델링"
      ]
    },
    {
      "cell_type": "code",
      "execution_count": null,
      "metadata": {
        "id": "t0cvQEazvYY9"
      },
      "outputs": [],
      "source": [
        "y17=tr17_del['knowcode']; X17=tr17_del.drop('knowcode', axis=1, inplace=False)\n",
        "y18=tr18_del['knowcode']; X18=tr18_del.drop('knowcode', axis=1, inplace=False)\n",
        "y19=tr19_del['knowcode']; X19=tr19_del.drop('knowcode', axis=1, inplace=False)\n",
        "y20=tr20_del['knowcode']; X20=tr20_del.drop('knowcode', axis=1, inplace=False)"
      ]
    },
    {
      "cell_type": "code",
      "execution_count": null,
      "metadata": {
        "id": "lCz4RdBfvYY-"
      },
      "outputs": [],
      "source": [
        "X_train, X_test, Y_train, Y_test = train_test_split(X19, y19, test_size = 0.20)"
      ]
    },
    {
      "cell_type": "code",
      "execution_count": null,
      "metadata": {
        "id": "RswOpGtTvYY_"
      },
      "outputs": [],
      "source": [
        "clfs = [KNeighborsClassifier(n_neighbors = 1), # 버려\n",
        "      GaussianNB(),                            # 버려\n",
        "      DecisionTreeClassifier(splitter = 'random'), # 버려\n",
        "       RandomForestClassifier(),\n",
        "        GradientBoostingClassifier(),\n",
        "        LGBMClassifier()\n",
        "        ]\n",
        "clfName = {1:'KNN', 2:'Naive Bayes', 3:'Decision Trees', 4:'Random Forests', 5:'GradientBoostingClassifier',6:'LGBMClassifier'}\n",
        "\n",
        "for i in range(len(clfs)):\n",
        "    scores = cross_val_score(clfs[i], X_train, Y_train.ravel(), cv=5, scoring = 'f1')\n",
        "    print (\"mean validation F1 for\",clfName[i+1])\n",
        "    clf = clfs[i].fit(X_train, Y_train.ravel())\n",
        "    Y_pred = clf.predict(X_test)\n",
        "    f1 = f1_score(Y_test, Y_pred, average='macro')\n",
        "    print ('Test F1 for',clfName[i+1], \":\", f1)"
      ]
    },
    {
      "cell_type": "code",
      "execution_count": null,
      "metadata": {
        "id": "m80YYb9avYZA"
      },
      "outputs": [],
      "source": [
        ""
      ]
    },
    {
      "cell_type": "code",
      "execution_count": null,
      "metadata": {
        "id": "RFaXkQJkvYZA"
      },
      "outputs": [],
      "source": [
        ""
      ]
    },
    {
      "cell_type": "markdown",
      "metadata": {
        "id": "7EUYUqK5vZ8Z"
      },
      "source": [
        "# 모델링"
      ]
    },
    {
      "cell_type": "markdown",
      "metadata": {
        "id": "T8_NdeNVvZ8a"
      },
      "source": [
        "## 20 all 모델링"
      ]
    },
    {
      "cell_type": "code",
      "execution_count": null,
      "metadata": {
        "id": "JoBIz5psvZ8b"
      },
      "outputs": [],
      "source": [
        "y17=tr17_all['knowcode']; X17=tr17_all.drop('knowcode', axis=1, inplace=False)\n",
        "y18=tr18_all['knowcode']; X18=tr18_all.drop('knowcode', axis=1, inplace=False)\n",
        "y19=tr19_all['knowcode']; X19=tr19_all.drop('knowcode', axis=1, inplace=False)\n",
        "y20=tr20_all['knowcode']; X20=tr20_all.drop('knowcode', axis=1, inplace=False)"
      ]
    },
    {
      "cell_type": "code",
      "execution_count": null,
      "metadata": {
        "id": "V8AQCSkovZ8c"
      },
      "outputs": [],
      "source": [
        "X_train, X_test, Y_train, Y_test = train_test_split(X20, y20, test_size = 0.20)"
      ]
    },
    {
      "cell_type": "code",
      "execution_count": null,
      "metadata": {
        "id": "iuAmjR67vZ8d"
      },
      "outputs": [],
      "source": [
        "clfs = [KNeighborsClassifier(n_neighbors = 1), # 버려\n",
        "      GaussianNB(),                            # 버려\n",
        "      DecisionTreeClassifier(splitter = 'random'), # 버려\n",
        "       RandomForestClassifier(),\n",
        "        GradientBoostingClassifier(),\n",
        "        LGBMClassifier()\n",
        "        ]\n",
        "clfName = {1:'KNN', 2:'Naive Bayes', 3:'Decision Trees', 4:'Random Forests', 5:'GradientBoostingClassifier',6:'LGBMClassifier'}\n",
        "\n",
        "for i in range(len(clfs)):\n",
        "    scores = cross_val_score(clfs[i], X_train, Y_train.ravel(), cv=5, scoring = 'f1')\n",
        "    print (\"mean validation F1 for\",clfName[i+1])\n",
        "    clf = clfs[i].fit(X_train, Y_train.ravel())\n",
        "    Y_pred = clf.predict(X_test)\n",
        "    f1 = f1_score(Y_test, Y_pred, average='macro')\n",
        "    print ('Test F1 for',clfName[i+1], \":\", f1)"
      ]
    },
    {
      "cell_type": "markdown",
      "metadata": {
        "id": "G38YEz-0vZ8e"
      },
      "source": [
        "##  20 del 모델링"
      ]
    },
    {
      "cell_type": "code",
      "execution_count": null,
      "metadata": {
        "id": "-uDnLzPWvZ8e"
      },
      "outputs": [],
      "source": [
        "y17=tr17_del['knowcode']; X17=tr17_del.drop('knowcode', axis=1, inplace=False)\n",
        "y18=tr18_del['knowcode']; X18=tr18_del.drop('knowcode', axis=1, inplace=False)\n",
        "y19=tr19_del['knowcode']; X19=tr19_del.drop('knowcode', axis=1, inplace=False)\n",
        "y20=tr20_del['knowcode']; X20=tr20_del.drop('knowcode', axis=1, inplace=False)"
      ]
    },
    {
      "cell_type": "code",
      "execution_count": null,
      "metadata": {
        "id": "pRe1OD4WvZ8f"
      },
      "outputs": [],
      "source": [
        "X_train, X_test, Y_train, Y_test = train_test_split(X20, y20, test_size = 0.20)"
      ]
    },
    {
      "cell_type": "code",
      "execution_count": null,
      "metadata": {
        "id": "QpfamnkWvZ8g"
      },
      "outputs": [],
      "source": [
        "clfs = [KNeighborsClassifier(n_neighbors = 1), # 버려\n",
        "      GaussianNB(),                            # 버려\n",
        "      DecisionTreeClassifier(splitter = 'random'), # 버려\n",
        "       RandomForestClassifier(),\n",
        "        GradientBoostingClassifier(),\n",
        "        LGBMClassifier()\n",
        "        ]\n",
        "clfName = {1:'KNN', 2:'Naive Bayes', 3:'Decision Trees', 4:'Random Forests', 5:'GradientBoostingClassifier',6:'LGBMClassifier'}\n",
        "\n",
        "for i in range(len(clfs)):\n",
        "    scores = cross_val_score(clfs[i], X_train, Y_train.ravel(), cv=5, scoring = 'f1')\n",
        "    print (\"mean validation F1 for\",clfName[i+1])\n",
        "    clf = clfs[i].fit(X_train, Y_train.ravel())\n",
        "    Y_pred = clf.predict(X_test)\n",
        "    f1 = f1_score(Y_test, Y_pred, average='macro')\n",
        "    print ('Test F1 for',clfName[i+1], \":\", f1)"
      ]
    },
    {
      "cell_type": "code",
      "execution_count": null,
      "metadata": {
        "id": "SWYuUPKyvZ8h"
      },
      "outputs": [],
      "source": [
        ""
      ]
    },
    {
      "cell_type": "code",
      "execution_count": null,
      "metadata": {
        "id": "LX549mx8vZ8i"
      },
      "outputs": [],
      "source": [
        ""
      ]
    }
  ],
  "metadata": {
    "colab": {
      "collapsed_sections": [
        "860rr-VhbSSq",
        "JNROkT4CbVZu"
      ],
      "name": "Catboost0126_SUM 추가.ipynb",
      "provenance": []
    },
    "kernelspec": {
      "display_name": "Python 3",
      "language": "python",
      "name": "python3"
    },
    "language_info": {
      "codemirror_mode": {
        "name": "ipython",
        "version": 3
      },
      "file_extension": ".py",
      "mimetype": "text/x-python",
      "name": "python",
      "nbconvert_exporter": "python",
      "pygments_lexer": "ipython3",
      "version": "3.8.8"
    }
  },
  "nbformat": 4,
  "nbformat_minor": 0
}